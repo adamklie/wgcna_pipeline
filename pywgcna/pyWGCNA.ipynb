{
 "cells": [
  {
   "cell_type": "code",
   "execution_count": 1,
   "metadata": {},
   "outputs": [
    {
     "name": "stderr",
     "output_type": "stream",
     "text": [
      "/cellar/users/aklie/opt/miniconda3/envs/scverse-lite-py38/lib/python3.8/site-packages/loompy/bus_file.py:68: NumbaDeprecationWarning: \u001b[1mThe 'nopython' keyword argument was not supplied to the 'numba.jit' decorator. The implicit default value for this argument is currently False, but it will be changed to True in Numba 0.59.0. See https://numba.readthedocs.io/en/stable/reference/deprecation.html#deprecation-of-object-mode-fall-back-behaviour-when-using-jit for details.\u001b[0m\n",
      "  def twobit_to_dna(twobit: int, size: int) -> str:\n",
      "/cellar/users/aklie/opt/miniconda3/envs/scverse-lite-py38/lib/python3.8/site-packages/loompy/bus_file.py:85: NumbaDeprecationWarning: \u001b[1mThe 'nopython' keyword argument was not supplied to the 'numba.jit' decorator. The implicit default value for this argument is currently False, but it will be changed to True in Numba 0.59.0. See https://numba.readthedocs.io/en/stable/reference/deprecation.html#deprecation-of-object-mode-fall-back-behaviour-when-using-jit for details.\u001b[0m\n",
      "  def dna_to_twobit(dna: str) -> int:\n",
      "/cellar/users/aklie/opt/miniconda3/envs/scverse-lite-py38/lib/python3.8/site-packages/loompy/bus_file.py:102: NumbaDeprecationWarning: \u001b[1mThe 'nopython' keyword argument was not supplied to the 'numba.jit' decorator. The implicit default value for this argument is currently False, but it will be changed to True in Numba 0.59.0. See https://numba.readthedocs.io/en/stable/reference/deprecation.html#deprecation-of-object-mode-fall-back-behaviour-when-using-jit for details.\u001b[0m\n",
      "  def twobit_1hamming(twobit: int, size: int) -> List[int]:\n"
     ]
    }
   ],
   "source": [
    "import os\n",
    "import sys\n",
    "import glob\n",
    "import time\n",
    "import yaml\n",
    "import random\n",
    "import numpy as np\n",
    "import pandas as pd\n",
    "import matplotlib.pyplot as plt\n",
    "import seaborn as sns\n",
    "from scipy import sparse\n",
    "import scanpy as sc\n",
    "import loompy as lp\n",
    "sc.settings.verbosity = 3\n",
    "\n",
    "import PyWGCNA"
   ]
  },
  {
   "cell_type": "code",
   "execution_count": null,
   "metadata": {},
   "outputs": [],
   "source": [
    "def adj_mtx_to_list(adj_mtx):\n",
    "    \"\"\"Converts adjacency matrix to list of edges.\n",
    "\n",
    "    Parameters\n",
    "    ----------\n",
    "    adj_mtx : pd.DataFrame\n",
    "        Adjacency matrix of the graph. Index and columns are the nodes.\n",
    "    \n",
    "    Returns\n",
    "    -------\n",
    "    pd.DataFrame\n",
    "        List of edges with columns 'source', 'target', and 'weight'.\n",
    "    \"\"\"\n",
    "    adj_mtx = adj_mtx.copy()\n",
    "    adj_mtx = adj_mtx.stack().reset_index()\n",
    "    adj_mtx.columns = ['source', 'target', 'weight']\n",
    "    adj_mtx = adj_mtx[adj_mtx['weight'] != 0]\n",
    "    return adj_mtx"
   ]
  },
  {
   "cell_type": "code",
   "execution_count": 124,
   "metadata": {},
   "outputs": [],
   "source": [
    "# Define run arguments\n",
    "h5ad_in = \"/cellar/users/aklie/data/igvf/topic_grn_links/subsets/for_regulon_inference/Bridge_Satpathy/29Aug23/3744376661_20230829-175127/balanced_genotype_microglia/0.05/raw/balanced_genotype_microglia-B6J.0.05.raw.h5ad\"\n",
    "out_dir = \"/cellar/users/aklie/projects/igvf/topic_grn_links/grn_inference/hdwgcna/results/Bridge_Satpathy/scratch\"\n",
    "network_type = \"signed\"\n",
    "layer = \"normalized_counts\""
   ]
  },
  {
   "cell_type": "code",
   "execution_count": 125,
   "metadata": {},
   "outputs": [],
   "source": [
    "# Read in the h5ad and make sure the correct counts are used\n",
    "adata = sc.read_h5ad(h5ad_test)\n",
    "if layer is not None:\n",
    "    adata.X = adata.layers[layer]"
   ]
  },
  {
   "cell_type": "code",
   "execution_count": 122,
   "metadata": {},
   "outputs": [
    {
     "data": {
      "text/html": [
       "<div>\n",
       "<style scoped>\n",
       "    .dataframe tbody tr th:only-of-type {\n",
       "        vertical-align: middle;\n",
       "    }\n",
       "\n",
       "    .dataframe tbody tr th {\n",
       "        vertical-align: top;\n",
       "    }\n",
       "\n",
       "    .dataframe thead th {\n",
       "        text-align: right;\n",
       "    }\n",
       "</style>\n",
       "<table border=\"1\" class=\"dataframe\">\n",
       "  <thead>\n",
       "    <tr style=\"text-align: right;\">\n",
       "      <th>gene</th>\n",
       "      <th>Xkr4</th>\n",
       "      <th>Lypla1</th>\n",
       "      <th>Gm37988</th>\n",
       "      <th>Tcea1</th>\n",
       "      <th>Rgs20</th>\n",
       "      <th>Atp6v1h</th>\n",
       "      <th>4732440D04Rik</th>\n",
       "      <th>Rb1cc1</th>\n",
       "      <th>St18</th>\n",
       "      <th>Pcmtd1</th>\n",
       "      <th>...</th>\n",
       "      <th>mt-Rnr1</th>\n",
       "      <th>mt-Rnr2</th>\n",
       "      <th>mt-Nd1</th>\n",
       "      <th>mt-Nd2</th>\n",
       "      <th>mt-Co1</th>\n",
       "      <th>mt-Co2</th>\n",
       "      <th>mt-Atp6</th>\n",
       "      <th>mt-Co3</th>\n",
       "      <th>mt-Nd4</th>\n",
       "      <th>mt-Cytb</th>\n",
       "    </tr>\n",
       "  </thead>\n",
       "  <tbody>\n",
       "    <tr>\n",
       "      <th>AAACATGCAGTTTGGC_igvf_b01_LeftCortex_113</th>\n",
       "      <td>3.0</td>\n",
       "      <td>0.0</td>\n",
       "      <td>0.0</td>\n",
       "      <td>0.0</td>\n",
       "      <td>0.0</td>\n",
       "      <td>2.0</td>\n",
       "      <td>1.0</td>\n",
       "      <td>0.0</td>\n",
       "      <td>0.0</td>\n",
       "      <td>0.0</td>\n",
       "      <td>...</td>\n",
       "      <td>1.0</td>\n",
       "      <td>0.0</td>\n",
       "      <td>2.0</td>\n",
       "      <td>0.0</td>\n",
       "      <td>0.0</td>\n",
       "      <td>0.0</td>\n",
       "      <td>0.0</td>\n",
       "      <td>0.0</td>\n",
       "      <td>0.0</td>\n",
       "      <td>0.0</td>\n",
       "    </tr>\n",
       "    <tr>\n",
       "      <th>AAACATGCATTATGAC_igvf_b01_LeftCortex_113</th>\n",
       "      <td>0.0</td>\n",
       "      <td>0.0</td>\n",
       "      <td>0.0</td>\n",
       "      <td>0.0</td>\n",
       "      <td>0.0</td>\n",
       "      <td>0.0</td>\n",
       "      <td>0.0</td>\n",
       "      <td>0.0</td>\n",
       "      <td>0.0</td>\n",
       "      <td>0.0</td>\n",
       "      <td>...</td>\n",
       "      <td>0.0</td>\n",
       "      <td>0.0</td>\n",
       "      <td>0.0</td>\n",
       "      <td>0.0</td>\n",
       "      <td>0.0</td>\n",
       "      <td>0.0</td>\n",
       "      <td>0.0</td>\n",
       "      <td>0.5</td>\n",
       "      <td>0.0</td>\n",
       "      <td>0.0</td>\n",
       "    </tr>\n",
       "    <tr>\n",
       "      <th>AAACCAACAACACTTG_igvf_b01_LeftCortex_113</th>\n",
       "      <td>0.0</td>\n",
       "      <td>0.0</td>\n",
       "      <td>0.5</td>\n",
       "      <td>0.5</td>\n",
       "      <td>0.0</td>\n",
       "      <td>0.0</td>\n",
       "      <td>0.0</td>\n",
       "      <td>0.0</td>\n",
       "      <td>0.0</td>\n",
       "      <td>0.0</td>\n",
       "      <td>...</td>\n",
       "      <td>1.0</td>\n",
       "      <td>0.0</td>\n",
       "      <td>0.0</td>\n",
       "      <td>0.0</td>\n",
       "      <td>0.0</td>\n",
       "      <td>0.0</td>\n",
       "      <td>0.5</td>\n",
       "      <td>0.0</td>\n",
       "      <td>0.0</td>\n",
       "      <td>0.0</td>\n",
       "    </tr>\n",
       "    <tr>\n",
       "      <th>AAACCGAAGTTGGGCC_igvf_b01_LeftCortex_113</th>\n",
       "      <td>1.0</td>\n",
       "      <td>0.0</td>\n",
       "      <td>0.0</td>\n",
       "      <td>0.0</td>\n",
       "      <td>2.0</td>\n",
       "      <td>0.0</td>\n",
       "      <td>0.0</td>\n",
       "      <td>0.0</td>\n",
       "      <td>0.0</td>\n",
       "      <td>0.0</td>\n",
       "      <td>...</td>\n",
       "      <td>0.0</td>\n",
       "      <td>1.0</td>\n",
       "      <td>0.0</td>\n",
       "      <td>0.0</td>\n",
       "      <td>0.0</td>\n",
       "      <td>0.0</td>\n",
       "      <td>0.0</td>\n",
       "      <td>0.5</td>\n",
       "      <td>0.0</td>\n",
       "      <td>0.0</td>\n",
       "    </tr>\n",
       "    <tr>\n",
       "      <th>AAACCGCGTATTTGCC_igvf_b01_LeftCortex_113</th>\n",
       "      <td>0.0</td>\n",
       "      <td>0.0</td>\n",
       "      <td>0.0</td>\n",
       "      <td>0.0</td>\n",
       "      <td>0.0</td>\n",
       "      <td>0.0</td>\n",
       "      <td>0.0</td>\n",
       "      <td>0.0</td>\n",
       "      <td>0.0</td>\n",
       "      <td>0.0</td>\n",
       "      <td>...</td>\n",
       "      <td>0.0</td>\n",
       "      <td>0.0</td>\n",
       "      <td>1.0</td>\n",
       "      <td>0.0</td>\n",
       "      <td>0.5</td>\n",
       "      <td>0.0</td>\n",
       "      <td>0.0</td>\n",
       "      <td>0.0</td>\n",
       "      <td>0.0</td>\n",
       "      <td>0.0</td>\n",
       "    </tr>\n",
       "  </tbody>\n",
       "</table>\n",
       "<p>5 rows × 6277 columns</p>\n",
       "</div>"
      ],
      "text/plain": [
       "gene                                      Xkr4  Lypla1  Gm37988  Tcea1  Rgs20  \\\n",
       "AAACATGCAGTTTGGC_igvf_b01_LeftCortex_113   3.0     0.0      0.0    0.0    0.0   \n",
       "AAACATGCATTATGAC_igvf_b01_LeftCortex_113   0.0     0.0      0.0    0.0    0.0   \n",
       "AAACCAACAACACTTG_igvf_b01_LeftCortex_113   0.0     0.0      0.5    0.5    0.0   \n",
       "AAACCGAAGTTGGGCC_igvf_b01_LeftCortex_113   1.0     0.0      0.0    0.0    2.0   \n",
       "AAACCGCGTATTTGCC_igvf_b01_LeftCortex_113   0.0     0.0      0.0    0.0    0.0   \n",
       "\n",
       "gene                                      Atp6v1h  4732440D04Rik  Rb1cc1  \\\n",
       "AAACATGCAGTTTGGC_igvf_b01_LeftCortex_113      2.0            1.0     0.0   \n",
       "AAACATGCATTATGAC_igvf_b01_LeftCortex_113      0.0            0.0     0.0   \n",
       "AAACCAACAACACTTG_igvf_b01_LeftCortex_113      0.0            0.0     0.0   \n",
       "AAACCGAAGTTGGGCC_igvf_b01_LeftCortex_113      0.0            0.0     0.0   \n",
       "AAACCGCGTATTTGCC_igvf_b01_LeftCortex_113      0.0            0.0     0.0   \n",
       "\n",
       "gene                                      St18  Pcmtd1  ...  mt-Rnr1  mt-Rnr2  \\\n",
       "AAACATGCAGTTTGGC_igvf_b01_LeftCortex_113   0.0     0.0  ...      1.0      0.0   \n",
       "AAACATGCATTATGAC_igvf_b01_LeftCortex_113   0.0     0.0  ...      0.0      0.0   \n",
       "AAACCAACAACACTTG_igvf_b01_LeftCortex_113   0.0     0.0  ...      1.0      0.0   \n",
       "AAACCGAAGTTGGGCC_igvf_b01_LeftCortex_113   0.0     0.0  ...      0.0      1.0   \n",
       "AAACCGCGTATTTGCC_igvf_b01_LeftCortex_113   0.0     0.0  ...      0.0      0.0   \n",
       "\n",
       "gene                                      mt-Nd1  mt-Nd2  mt-Co1  mt-Co2  \\\n",
       "AAACATGCAGTTTGGC_igvf_b01_LeftCortex_113     2.0     0.0     0.0     0.0   \n",
       "AAACATGCATTATGAC_igvf_b01_LeftCortex_113     0.0     0.0     0.0     0.0   \n",
       "AAACCAACAACACTTG_igvf_b01_LeftCortex_113     0.0     0.0     0.0     0.0   \n",
       "AAACCGAAGTTGGGCC_igvf_b01_LeftCortex_113     0.0     0.0     0.0     0.0   \n",
       "AAACCGCGTATTTGCC_igvf_b01_LeftCortex_113     1.0     0.0     0.5     0.0   \n",
       "\n",
       "gene                                      mt-Atp6  mt-Co3  mt-Nd4  mt-Cytb  \n",
       "AAACATGCAGTTTGGC_igvf_b01_LeftCortex_113      0.0     0.0     0.0      0.0  \n",
       "AAACATGCATTATGAC_igvf_b01_LeftCortex_113      0.0     0.5     0.0      0.0  \n",
       "AAACCAACAACACTTG_igvf_b01_LeftCortex_113      0.5     0.0     0.0      0.0  \n",
       "AAACCGAAGTTGGGCC_igvf_b01_LeftCortex_113      0.0     0.5     0.0      0.0  \n",
       "AAACCGCGTATTTGCC_igvf_b01_LeftCortex_113      0.0     0.0     0.0      0.0  \n",
       "\n",
       "[5 rows x 6277 columns]"
      ]
     },
     "execution_count": 122,
     "metadata": {},
     "output_type": "execute_result"
    }
   ],
   "source": [
    "# Get a dataframe for the expression data\n",
    "dat = adata.to_df()\n",
    "dat.head()"
   ]
  },
  {
   "cell_type": "code",
   "execution_count": 62,
   "metadata": {},
   "outputs": [
    {
     "name": "stdout",
     "output_type": "stream",
     "text": [
      "\u001b[96mpickSoftThreshold: calculating connectivity for given powers...\u001b[0m\n",
      "will use block size  6277\n",
      "    Power  SFT.R.sq     slope truncated R.sq      mean(k)    median(k)  \\\n",
      "0       1   0.48925 -9.998215       0.929911  3399.893007  3371.748593   \n",
      "1       1   0.48925 -9.998215       0.929911  3399.893007  3371.748593   \n",
      "2       2  0.653225 -6.108008       0.954581  1856.003624  1817.194264   \n",
      "3       3  0.766853 -4.692969       0.965941  1022.019853   982.489046   \n",
      "4       3  0.766853 -4.692969       0.965941  1022.019853   982.489046   \n",
      "5       4  0.844691 -3.951521        0.97661   568.350621   533.026146   \n",
      "6       5  0.889288 -3.482717       0.980309   319.625411   289.999387   \n",
      "7       5  0.889288 -3.482717       0.980309   319.625411   289.999387   \n",
      "8       6  0.925922 -3.154624         0.9862   182.059082   158.329399   \n",
      "9       7  0.956353 -2.905103       0.995037   105.218685    86.749803   \n",
      "10      7  0.956353 -2.905103       0.995037   105.218685    86.749803   \n",
      "11      8  0.961051 -2.718396        0.99216    61.818748    47.689704   \n",
      "12      9  0.972819 -2.508685       0.996017      36.9982    26.315544   \n",
      "13      9  0.972819 -2.508685       0.996017      36.9982    26.315544   \n",
      "14     10   0.97151 -2.354999       0.993831    22.603083    14.575586   \n",
      "15     11  0.972217  -2.21315       0.993605    14.122924     8.105902   \n",
      "16     13  0.967519 -1.979952       0.989314      5.93541      2.58113   \n",
      "17     15  0.950361  -1.82757       0.982161     2.766584     0.838945   \n",
      "18     17  0.953678 -1.683294       0.984725     1.426941     0.278298   \n",
      "19     19  0.963933 -1.581629       0.993566     0.805828     0.093607   \n",
      "\n",
      "         max(k)  \n",
      "0   3991.283139  \n",
      "1   3991.283139  \n",
      "2   2593.168686  \n",
      "3   1722.383346  \n",
      "4   1722.383346  \n",
      "5   1172.792441  \n",
      "6      818.9638  \n",
      "7      818.9638  \n",
      "8    585.777957  \n",
      "9    428.844041  \n",
      "10   428.844041  \n",
      "11   320.983752  \n",
      "12   245.291564  \n",
      "13   245.291564  \n",
      "14   191.080135  \n",
      "15   151.480996  \n",
      "16     99.67303  \n",
      "17    69.006129  \n",
      "18    49.733895  \n",
      "19    36.998172  \n",
      "\u001b[92mSelected power to have scale free network is 8.\u001b[0m\n"
     ]
    }
   ],
   "source": [
    "# Pick a soft threshold automatically and save the df\n",
    "power, sft = PyWGCNA.WGCNA.pickSoftThreshold(\n",
    "    data=dat,\n",
    "    networkType=network_type,\n",
    ")"
   ]
  },
  {
   "cell_type": "code",
   "execution_count": 113,
   "metadata": {},
   "outputs": [
    {
     "name": "stdout",
     "output_type": "stream",
     "text": [
      "\u001b[96mcalculating adjacency matrix ...\u001b[0m\n",
      "\tDone..\n",
      "\n"
     ]
    }
   ],
   "source": [
    "# Calculate an adjacency matrix based on this --> just does 1+cor / 2 for signed\n",
    "adjacency = PyWGCNA.WGCNA.adjacency(dat, power=power, adjacencyType=network_type)"
   ]
  },
  {
   "cell_type": "code",
   "execution_count": 114,
   "metadata": {},
   "outputs": [],
   "source": [
    "# Convert to a pandas dataframe\n",
    "adjacency_df = pd.DataFrame(adjacency, columns=dat.columns.values, index=dat.columns.values)"
   ]
  },
  {
   "cell_type": "code",
   "execution_count": 126,
   "metadata": {},
   "outputs": [],
   "source": [
    "# Get an adjacency list for this and save it\n",
    "corr_adj_list = adj_mtx_to_list(adjacency_df)\n",
    "corr_adj_list.to_csv(os.path.join(out_dir, \"corr_adj_list.tsv\"), index=False, sep=\"\\t\")"
   ]
  },
  {
   "cell_type": "code",
   "execution_count": 66,
   "metadata": {},
   "outputs": [
    {
     "name": "stdout",
     "output_type": "stream",
     "text": [
      "\u001b[96mcalculating TOM similarity matrix ...\u001b[0m\n",
      "\tDone..\n",
      "\n"
     ]
    }
   ],
   "source": [
    "# Get the topological overlap matrix\n",
    "TOM = PyWGCNA.WGCNA.TOMsimilarity(adjacency, TOMType=network_type)"
   ]
  },
  {
   "cell_type": "code",
   "execution_count": 117,
   "metadata": {},
   "outputs": [],
   "source": [
    "# Clean up the TOM and save it\n",
    "TOM.columns = dat.columns.values\n",
    "TOM.index = dat.columns.values"
   ]
  },
  {
   "cell_type": "code",
   "execution_count": 119,
   "metadata": {},
   "outputs": [],
   "source": [
    "# Convert to an adjacency list and save it\n",
    "tom_adj_list = adj_mtx_to_list(TOM)\n",
    "tom_adj_list.to_csv(os.path.join(out_dir, \"tom_adj_list.tsv\"), index=False, sep=\"\\t\")"
   ]
  },
  {
   "attachments": {},
   "cell_type": "markdown",
   "metadata": {},
   "source": [
    "# DONE!"
   ]
  },
  {
   "attachments": {},
   "cell_type": "markdown",
   "metadata": {},
   "source": [
    "---"
   ]
  },
  {
   "attachments": {},
   "cell_type": "markdown",
   "metadata": {},
   "source": [
    "# Scratch"
   ]
  },
  {
   "cell_type": "code",
   "execution_count": 70,
   "metadata": {},
   "outputs": [],
   "source": [
    "dissTOM = 1 - TOM\n",
    "dissTOM = dissTOM.round(decimals=8)"
   ]
  },
  {
   "cell_type": "code",
   "execution_count": 71,
   "metadata": {},
   "outputs": [],
   "source": [
    "from scipy.spatial.distance import squareform"
   ]
  },
  {
   "cell_type": "code",
   "execution_count": 72,
   "metadata": {},
   "outputs": [],
   "source": [
    "a = squareform(dissTOM.values, checks=False)"
   ]
  },
  {
   "cell_type": "code",
   "execution_count": 74,
   "metadata": {},
   "outputs": [
    {
     "data": {
      "text/plain": [
       "(19697226,)"
      ]
     },
     "execution_count": 74,
     "metadata": {},
     "output_type": "execute_result"
    }
   ],
   "source": [
    "a.shape"
   ]
  }
 ],
 "metadata": {
  "kernelspec": {
   "display_name": "Python 3.8 scverse-lite",
   "language": "python",
   "name": "scverse-lite-py38"
  },
  "language_info": {
   "codemirror_mode": {
    "name": "ipython",
    "version": 3
   },
   "file_extension": ".py",
   "mimetype": "text/x-python",
   "name": "python",
   "nbconvert_exporter": "python",
   "pygments_lexer": "ipython3",
   "version": "3.8.13"
  },
  "orig_nbformat": 4
 },
 "nbformat": 4,
 "nbformat_minor": 2
}
