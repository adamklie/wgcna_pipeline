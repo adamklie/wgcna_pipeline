{
 "cells": [
  {
   "cell_type": "markdown",
   "id": "90269c33-f050-4340-b83f-380ff06e0050",
   "metadata": {},
   "source": [
    "# High Dimensional Weighted Gene Correlation Network Analysis (hdWGCNA)"
   ]
  },
  {
   "cell_type": "markdown",
   "id": "c33bc400-a2ab-4ab1-8f91-f22a7a28c573",
   "metadata": {
    "tags": []
   },
   "source": [
    "**Authorship:**\n",
    "Adam Klie, *08/24/2022*\n",
    "***\n",
    "**Description:**\n",
    "Notebook to run a WGCNA on stimulated pancreatic islet multiome data (well just the RNA)\n",
    "***"
   ]
  },
  {
   "cell_type": "code",
   "execution_count": 2,
   "id": "d57fb66a-7185-431a-a649-3d0ca642d64a",
   "metadata": {
    "execution": {
     "iopub.execute_input": "2022-10-18T00:42:17.286468Z",
     "iopub.status.busy": "2022-10-18T00:42:17.241219Z",
     "iopub.status.idle": "2022-10-18T00:42:37.824047Z",
     "shell.execute_reply": "2022-10-18T00:42:37.822285Z"
    },
    "tags": []
   },
   "outputs": [
    {
     "name": "stderr",
     "output_type": "stream",
     "text": [
      "Loading required package: stats4\n",
      "\n",
      "Loading required package: BiocGenerics\n",
      "\n",
      "\n",
      "Attaching package: ‘BiocGenerics’\n",
      "\n",
      "\n",
      "The following objects are masked from ‘package:igraph’:\n",
      "\n",
      "    normalize, path, union\n",
      "\n",
      "\n",
      "The following objects are masked from ‘package:dplyr’:\n",
      "\n",
      "    combine, intersect, setdiff, union\n",
      "\n",
      "\n",
      "The following objects are masked from ‘package:stats’:\n",
      "\n",
      "    IQR, mad, sd, var, xtabs\n",
      "\n",
      "\n",
      "The following objects are masked from ‘package:base’:\n",
      "\n",
      "    anyDuplicated, append, as.data.frame, basename, cbind, colnames,\n",
      "    dirname, do.call, duplicated, eval, evalq, Filter, Find, get, grep,\n",
      "    grepl, intersect, is.unsorted, lapply, Map, mapply, match, mget,\n",
      "    order, paste, pmax, pmax.int, pmin, pmin.int, Position, rank,\n",
      "    rbind, Reduce, rownames, sapply, setdiff, sort, table, tapply,\n",
      "    union, unique, unsplit, which.max, which.min\n",
      "\n",
      "\n",
      "Loading required package: S4Vectors\n",
      "\n",
      "\n",
      "Attaching package: ‘S4Vectors’\n",
      "\n",
      "\n",
      "The following objects are masked from ‘package:dplyr’:\n",
      "\n",
      "    first, rename\n",
      "\n",
      "\n",
      "The following object is masked from ‘package:tidyr’:\n",
      "\n",
      "    expand\n",
      "\n",
      "\n",
      "The following objects are masked from ‘package:base’:\n",
      "\n",
      "    expand.grid, I, unname\n",
      "\n",
      "\n",
      "Loading required package: IRanges\n",
      "\n",
      "\n",
      "Attaching package: ‘IRanges’\n",
      "\n",
      "\n",
      "The following objects are masked from ‘package:dplyr’:\n",
      "\n",
      "    collapse, desc, slice\n",
      "\n",
      "\n",
      "The following object is masked from ‘package:purrr’:\n",
      "\n",
      "    reduce\n",
      "\n",
      "\n",
      "The following object is masked from ‘package:sp’:\n",
      "\n",
      "    %over%\n",
      "\n",
      "\n",
      "Loading required package: GenomeInfoDb\n",
      "\n",
      "Loading required package: ensembldb\n",
      "\n",
      "Loading required package: GenomicFeatures\n",
      "\n",
      "Loading required package: AnnotationDbi\n",
      "\n",
      "Loading required package: Biobase\n",
      "\n",
      "Welcome to Bioconductor\n",
      "\n",
      "    Vignettes contain introductory material; view with\n",
      "    'browseVignettes()'. To cite Bioconductor, see\n",
      "    'citation(\"Biobase\")', and for packages 'citation(\"pkgname\")'.\n",
      "\n",
      "\n",
      "\n",
      "Attaching package: ‘AnnotationDbi’\n",
      "\n",
      "\n",
      "The following object is masked from ‘package:dplyr’:\n",
      "\n",
      "    select\n",
      "\n",
      "\n",
      "Loading required package: AnnotationFilter\n",
      "\n",
      "\n",
      "Attaching package: 'ensembldb'\n",
      "\n",
      "\n",
      "The following object is masked from 'package:dplyr':\n",
      "\n",
      "    filter\n",
      "\n",
      "\n",
      "The following object is masked from 'package:stats':\n",
      "\n",
      "    filter\n",
      "\n",
      "\n"
     ]
    }
   ],
   "source": [
    "# single-cell analysis package\n",
    "library(Seurat)\n",
    "\n",
    "# plotting and data science packages\n",
    "library(tidyverse)\n",
    "library(cowplot)\n",
    "library(patchwork)\n",
    "\n",
    "# co-expression network analysis packages:\n",
    "library(WGCNA)\n",
    "library(hdWGCNA)\n",
    "\n",
    "# network analysis & visualization package:\n",
    "library(igraph)\n",
    "\n",
    "# packages for TF motif analysis\n",
    "library(JASPAR2020)\n",
    "library(motifmatchr)\n",
    "library(TFBSTools)\n",
    "library(GenomicRanges)\n",
    "library(EnsDb.Hsapiens.v86)\n",
    "\n",
    "# TestGeneOverlap\n",
    "library(GeneOverlap)\n",
    "\n",
    "# using the cowplot theme for ggplot\n",
    "theme_set(theme_cowplot())\n",
    "\n",
    "# set random seed for reproducibility\n",
    "set.seed(12345)"
   ]
  },
  {
   "cell_type": "code",
   "execution_count": 3,
   "id": "917449cc-e522-4535-acca-4476bd3bcb74",
   "metadata": {
    "execution": {
     "iopub.execute_input": "2022-10-18T00:42:48.311193Z",
     "iopub.status.busy": "2022-10-18T00:42:48.308843Z",
     "iopub.status.idle": "2022-10-18T00:42:48.339039Z",
     "shell.execute_reply": "2022-10-18T00:42:48.337194Z"
    },
    "tags": []
   },
   "outputs": [],
   "source": [
    "# Parameters\n",
    "CELL.TYPES <- \"beta\"  # Meaning α, β, δ in this context\n",
    "ASSAY <- \"RNA\"\n",
    "NORMALIZATION <- \"ND\"\n",
    "NN <- 25\n",
    "GENES <- \"all\""
   ]
  },
  {
   "cell_type": "code",
   "execution_count": 4,
   "id": "93d40ed0-d327-442f-871b-da8171579af0",
   "metadata": {
    "execution": {
     "iopub.execute_input": "2022-10-18T00:42:49.191292Z",
     "iopub.status.busy": "2022-10-18T00:42:49.189579Z",
     "iopub.status.idle": "2022-10-18T00:42:49.216035Z",
     "shell.execute_reply": "2022-10-18T00:42:49.214176Z"
    },
    "tags": []
   },
   "outputs": [
    {
     "data": {
      "text/html": [
       "'./motif_analysis/betacells_allgenes_ND_25neighbors'"
      ],
      "text/latex": [
       "'./motif\\_analysis/betacells\\_allgenes\\_ND\\_25neighbors'"
      ],
      "text/markdown": [
       "'./motif_analysis/betacells_allgenes_ND_25neighbors'"
      ],
      "text/plain": [
       "[1] \"./motif_analysis/betacells_allgenes_ND_25neighbors\""
      ]
     },
     "metadata": {},
     "output_type": "display_data"
    }
   ],
   "source": [
    "# File names for saving\n",
    "NAME=paste0(CELL.TYPES, \"cells_\", GENES, \"genes_\", NORMALIZATION, \"_\", NN, \"neighbors\")\n",
    "OUT= file.path(\"./motif_analysis\", NAME)\n",
    "OUT"
   ]
  },
  {
   "cell_type": "code",
   "execution_count": 5,
   "id": "57f42e46-ddca-48f4-b9f1-e213af193da1",
   "metadata": {
    "execution": {
     "iopub.execute_input": "2022-10-18T00:42:49.220533Z",
     "iopub.status.busy": "2022-10-18T00:42:49.218830Z",
     "iopub.status.idle": "2022-10-18T00:44:33.164742Z",
     "shell.execute_reply": "2022-10-18T00:44:33.162340Z"
    },
    "tags": []
   },
   "outputs": [],
   "source": [
    "# load the preprocessed RDS from 1_network_construction.ipynb\n",
    "seurat_obj <- readRDS(sprintf('network_construction/%s_hdWGCNA.rds', NAME))"
   ]
  },
  {
   "cell_type": "code",
   "execution_count": 6,
   "id": "ba578da5-215f-48a4-8f1c-4a2b9d457c04",
   "metadata": {
    "execution": {
     "iopub.execute_input": "2022-10-18T00:44:33.169538Z",
     "iopub.status.busy": "2022-10-18T00:44:33.167942Z",
     "iopub.status.idle": "2022-10-18T00:45:04.481694Z",
     "shell.execute_reply": "2022-10-18T00:45:04.479759Z"
    },
    "tags": []
   },
   "outputs": [],
   "source": [
    "# get the pfm from JASPAR2020 using TFBSTools\n",
    "pfm_core <- TFBSTools::getMatrixSet(\n",
    "  x = JASPAR2020,\n",
    "  opts = list(collection = \"CORE\", tax_group = 'vertebrates', all_versions = FALSE)\n",
    ")"
   ]
  },
  {
   "cell_type": "code",
   "execution_count": 7,
   "id": "16fb8174-9a13-4204-85e1-4f167ba5f8a4",
   "metadata": {
    "execution": {
     "iopub.execute_input": "2022-10-18T00:45:04.486036Z",
     "iopub.status.busy": "2022-10-18T00:45:04.484483Z",
     "iopub.status.idle": "2022-10-18T00:45:04.500093Z",
     "shell.execute_reply": "2022-10-18T00:45:04.498331Z"
    },
    "tags": []
   },
   "outputs": [],
   "source": [
    "MotifScan <- function(\n",
    "  seurat_obj,\n",
    "  species_genome, # hg38, mm10, etc...\n",
    "  pfm, # matrix set from JASPAR2020 for example\n",
    "  EnsDb, # Ensembl database such as EnsDb.Mmusculus.v79\n",
    "  wgcna_name=NULL\n",
    "){\n",
    "\n",
    "  if(is.null(wgcna_name)){wgcna_name <- seurat_obj@misc$active_wgcna}\n",
    "\n",
    "  # get a dataframe of just the motif name and the motif ID:\n",
    "  motif_df <- data.frame(\n",
    "    motif_name = purrr::map(1:length(pfm), function(i){pfm[[i]]@name}) %>% unlist,\n",
    "    motif_ID = purrr::map(1:length(pfm), function(i){pfm[[i]]@ID}) %>% unlist\n",
    "  )\n",
    "\n",
    "  # get promoters of protein coding genes from the given Ensdb\n",
    "  # note: everything breaks if I try to use X & Y chromosomes.\n",
    "  gene.promoters <- ensembldb::promoters(EnsDb, filter = ~ gene_biotype == \"protein_coding\") %>%\n",
    "    subset(seqnames %in% c(1:100))\n",
    "  gene.coords <- ensembldb::genes(EnsDb, filter = ~ gene_biotype == \"protein_coding\") %>%\n",
    "    subset(seqnames %in% c(1:100))\n",
    "\n",
    "  # add the gene name to the promoter object\n",
    "  gene.promoters$symbol <- gene.coords$symbol[match(gene.promoters$gene_id, names(gene.coords))]\n",
    "\n",
    "  # drop unnecessary chromosomes\n",
    "  gene.promoters <- keepSeqlevels(gene.promoters, value= levels(droplevels(seqnames(gene.promoters))))\n",
    "\n",
    "  # rename seqlevels to add 'chr', remove X&Y chromosomes because they break everything\n",
    "  old_levels <- levels(seqnames(gene.promoters))\n",
    "  new_levels <- ifelse(old_levels %in% c('X', 'Y'), old_levels, paste0('chr', old_levels))\n",
    "  gene.promoters <- renameSeqlevels(gene.promoters, new_levels)\n",
    "\n",
    "  # set the genome (not sure if we NEED to do this...)\n",
    "  genome(seqinfo(gene.promoters)) <- species_genome\n",
    "\n",
    "  # set up promoters object that only has the necessary info for motifmatchr\n",
    "  my_promoters <- GRanges(\n",
    "    seqnames =  droplevels(seqnames(gene.promoters)),\n",
    "    IRanges(\n",
    "      start = start(gene.promoters),\n",
    "      end = end(gene.promoters)\n",
    "    ),\n",
    "    symbol = gene.promoters$symbol,\n",
    "    genome=species_genome\n",
    "  )\n",
    "\n",
    "  # scan these promoters for motifs:\n",
    "  print('Matching motifs...')\n",
    "  motif_ix <- motifmatchr::matchMotifs(pfm, my_promoters, genome=species_genome)\n",
    "\n",
    "  # get the matches\n",
    "  tf_match <- motifmatchr::motifMatches(motif_ix)\n",
    "  rownames(tf_match) <- my_promoters$symbol\n",
    "\n",
    "  # use motif names as the column names:\n",
    "  colnames(tf_match) <- motif_df$motif_name\n",
    "\n",
    "  # only keep genes that are in the Seurat object and in the given EnsDb:\n",
    "  gene_list <- rownames(seurat_obj)\n",
    "  gene_list <- gene_list[gene_list %in% rownames(tf_match)]\n",
    "  tf_match <- tf_match[gene_list,]\n",
    "\n",
    "  # get list of target genes for each TF:\n",
    "  print('Getting TF target genes...')\n",
    "  tfs <- motif_df$motif_name\n",
    "  tf_targets <- list()\n",
    "  n_targets <- list()\n",
    "  for(cur_tf in tfs){\n",
    "    tf_targets[[cur_tf]] <- names(tf_match[,cur_tf][tf_match[,cur_tf]])\n",
    "    n_targets[[cur_tf]] <- length(tf_targets[[cur_tf]] )\n",
    "  }\n",
    "  n_targets <- unlist(n_targets)\n",
    "\n",
    "  # add number of target genes to motif df\n",
    "  motif_df$n_targets <- n_targets\n",
    "\n",
    "  # add info to seurat object\n",
    "  seurat_obj <- SetMotifMatrix(seurat_obj, tf_match)\n",
    "  seurat_obj <- SetMotifs(seurat_obj, motif_df)\n",
    "  seurat_obj <- SetMotifTargets(seurat_obj, tf_targets)\n",
    "  seurat_obj <- SetPFMList(seurat_obj, pfm)\n",
    "\n",
    "  seurat_obj\n",
    "}"
   ]
  },
  {
   "cell_type": "code",
   "execution_count": 8,
   "id": "e86ed99b-691c-447b-a9e4-feb81eb35ab0",
   "metadata": {
    "execution": {
     "iopub.execute_input": "2022-10-18T00:45:04.504216Z",
     "iopub.status.busy": "2022-10-18T00:45:04.502662Z",
     "iopub.status.idle": "2022-10-18T00:53:03.309747Z",
     "shell.execute_reply": "2022-10-18T00:53:03.307985Z"
    },
    "tags": []
   },
   "outputs": [
    {
     "name": "stdout",
     "output_type": "stream",
     "text": [
      "[1] \"Matching motifs...\"\n"
     ]
    },
    {
     "name": "stderr",
     "output_type": "stream",
     "text": [
      "\n",
      "Attaching package: 'XVector'\n",
      "\n",
      "\n",
      "The following object is masked from 'package:purrr':\n",
      "\n",
      "    compact\n",
      "\n",
      "\n",
      "\n",
      "Attaching package: 'Biostrings'\n",
      "\n",
      "\n",
      "The following object is masked from 'package:base':\n",
      "\n",
      "    strsplit\n",
      "\n",
      "\n",
      "\n",
      "Attaching package: 'rtracklayer'\n",
      "\n",
      "\n",
      "The following object is masked from 'package:igraph':\n",
      "\n",
      "    blocks\n",
      "\n",
      "\n"
     ]
    },
    {
     "name": "stdout",
     "output_type": "stream",
     "text": [
      "[1] \"Getting TF target genes...\"\n"
     ]
    },
    {
     "data": {
      "text/html": [
       "<style>\n",
       ".list-inline {list-style: none; margin:0; padding: 0}\n",
       ".list-inline>li {display: inline-block}\n",
       ".list-inline>li:not(:last-child)::after {content: \"\\00b7\"; padding: 0 .5ex}\n",
       "</style>\n",
       "<ol class=list-inline><li>17816</li><li>746</li></ol>\n"
      ],
      "text/latex": [
       "\\begin{enumerate*}\n",
       "\\item 17816\n",
       "\\item 746\n",
       "\\end{enumerate*}\n"
      ],
      "text/markdown": [
       "1. 17816\n",
       "2. 746\n",
       "\n",
       "\n"
      ],
      "text/plain": [
       "[1] 17816   746"
      ]
     },
     "metadata": {},
     "output_type": "display_data"
    }
   ],
   "source": [
    "# run the motif scan with these settings for the mouse dataset\n",
    "seurat_obj <- MotifScan(\n",
    "  seurat_obj,\n",
    "  EnsDb = EnsDb.Hsapiens.v86,\n",
    "  species_genome = 'hg38',\n",
    "  pfm = pfm_core\n",
    ")\n",
    "dim(GetMotifMatrix(seurat_obj))"
   ]
  },
  {
   "cell_type": "code",
   "execution_count": 9,
   "id": "87e4a56e-2788-49c3-b318-09b51512da05",
   "metadata": {
    "execution": {
     "iopub.execute_input": "2022-10-18T00:55:53.018393Z",
     "iopub.status.busy": "2022-10-18T00:55:53.016490Z",
     "iopub.status.idle": "2022-10-18T00:55:53.053256Z",
     "shell.execute_reply": "2022-10-18T00:55:53.051336Z"
    },
    "tags": []
   },
   "outputs": [
    {
     "data": {
      "text/html": [
       "<style>\n",
       ".list-inline {list-style: none; margin:0; padding: 0}\n",
       ".list-inline>li {display: inline-block}\n",
       ".list-inline>li:not(:last-child)::after {content: \"\\00b7\"; padding: 0 .5ex}\n",
       "</style>\n",
       "<ol class=list-inline><li>'OR4F5'</li><li>'TTLL10'</li><li>'SDF4'</li><li>'ATAD3C'</li><li>'MIB2'</li><li>'CDK11B'</li></ol>\n"
      ],
      "text/latex": [
       "\\begin{enumerate*}\n",
       "\\item 'OR4F5'\n",
       "\\item 'TTLL10'\n",
       "\\item 'SDF4'\n",
       "\\item 'ATAD3C'\n",
       "\\item 'MIB2'\n",
       "\\item 'CDK11B'\n",
       "\\end{enumerate*}\n"
      ],
      "text/markdown": [
       "1. 'OR4F5'\n",
       "2. 'TTLL10'\n",
       "3. 'SDF4'\n",
       "4. 'ATAD3C'\n",
       "5. 'MIB2'\n",
       "6. 'CDK11B'\n",
       "\n",
       "\n"
      ],
      "text/plain": [
       "[1] \"OR4F5\"  \"TTLL10\" \"SDF4\"   \"ATAD3C\" \"MIB2\"   \"CDK11B\""
      ]
     },
     "metadata": {},
     "output_type": "display_data"
    }
   ],
   "source": [
    "# TF target genes\n",
    "target_genes <- GetMotifTargets(seurat_obj)\n",
    "\n",
    "# check target genes for one TF:\n",
    "head(target_genes$SOX9)"
   ]
  },
  {
   "cell_type": "code",
   "execution_count": 13,
   "id": "2ddc9a5b-06ad-44e8-9708-cb2463beb08b",
   "metadata": {
    "execution": {
     "iopub.execute_input": "2022-10-18T00:56:07.559947Z",
     "iopub.status.busy": "2022-10-18T00:56:07.558066Z",
     "iopub.status.idle": "2022-10-18T00:56:20.692619Z",
     "shell.execute_reply": "2022-10-18T00:56:20.690669Z"
    },
    "tags": []
   },
   "outputs": [
    {
     "data": {
      "text/html": [
       "<table class=\"dataframe\">\n",
       "<caption>A data.frame: 6 × 9</caption>\n",
       "<thead>\n",
       "\t<tr><th></th><th scope=col>module</th><th scope=col>tf</th><th scope=col>color</th><th scope=col>odds_ratio</th><th scope=col>pval</th><th scope=col>fdr</th><th scope=col>Significance</th><th scope=col>Jaccard</th><th scope=col>size_intersection</th></tr>\n",
       "\t<tr><th></th><th scope=col>&lt;fct&gt;</th><th scope=col>&lt;chr&gt;</th><th scope=col>&lt;chr&gt;</th><th scope=col>&lt;dbl&gt;</th><th scope=col>&lt;dbl&gt;</th><th scope=col>&lt;dbl&gt;</th><th scope=col>&lt;chr&gt;</th><th scope=col>&lt;dbl&gt;</th><th scope=col>&lt;dbl&gt;</th></tr>\n",
       "</thead>\n",
       "<tbody>\n",
       "\t<tr><th scope=row>Arnt</th><td>betacells_allgenes_ND_25neighbors-M1</td><td>Arnt        </td><td>turquoise</td><td>3.140330</td><td>4.178998e-190</td><td>1.320988e-188</td><td>***</td><td>0.16134089</td><td>1338</td></tr>\n",
       "\t<tr><th scope=row>Ahr::Arnt</th><td>betacells_allgenes_ND_25neighbors-M1</td><td>Ahr::Arnt   </td><td>turquoise</td><td>2.995917</td><td>1.048250e-207</td><td>3.688654e-206</td><td>***</td><td>0.17209639</td><td>1664</td></tr>\n",
       "\t<tr><th scope=row>Ddit3::Cebpa</th><td>betacells_allgenes_ND_25neighbors-M1</td><td>Ddit3::Cebpa</td><td>turquoise</td><td>2.968547</td><td>2.357045e-149</td><td>5.360840e-148</td><td>***</td><td>0.14373128</td><td>1104</td></tr>\n",
       "\t<tr><th scope=row>Mecom</th><td>betacells_allgenes_ND_25neighbors-M1</td><td>Mecom       </td><td>turquoise</td><td>1.817413</td><td> 3.808247e-48</td><td> 3.074624e-47</td><td>***</td><td>0.11277683</td><td> 993</td></tr>\n",
       "\t<tr><th scope=row>FOXF2</th><td>betacells_allgenes_ND_25neighbors-M1</td><td>FOXF2       </td><td>turquoise</td><td>1.682532</td><td> 3.344493e-32</td><td> 1.928124e-31</td><td>***</td><td>0.09880750</td><td> 812</td></tr>\n",
       "\t<tr><th scope=row>FOXD1</th><td>betacells_allgenes_ND_25neighbors-M1</td><td>FOXD1       </td><td>turquoise</td><td>1.576346</td><td> 7.673277e-20</td><td> 3.252423e-19</td><td>***</td><td>0.08060351</td><td> 593</td></tr>\n",
       "</tbody>\n",
       "</table>\n"
      ],
      "text/latex": [
       "A data.frame: 6 × 9\n",
       "\\begin{tabular}{r|lllllllll}\n",
       "  & module & tf & color & odds\\_ratio & pval & fdr & Significance & Jaccard & size\\_intersection\\\\\n",
       "  & <fct> & <chr> & <chr> & <dbl> & <dbl> & <dbl> & <chr> & <dbl> & <dbl>\\\\\n",
       "\\hline\n",
       "\tArnt & betacells\\_allgenes\\_ND\\_25neighbors-M1 & Arnt         & turquoise & 3.140330 & 4.178998e-190 & 1.320988e-188 & *** & 0.16134089 & 1338\\\\\n",
       "\tAhr::Arnt & betacells\\_allgenes\\_ND\\_25neighbors-M1 & Ahr::Arnt    & turquoise & 2.995917 & 1.048250e-207 & 3.688654e-206 & *** & 0.17209639 & 1664\\\\\n",
       "\tDdit3::Cebpa & betacells\\_allgenes\\_ND\\_25neighbors-M1 & Ddit3::Cebpa & turquoise & 2.968547 & 2.357045e-149 & 5.360840e-148 & *** & 0.14373128 & 1104\\\\\n",
       "\tMecom & betacells\\_allgenes\\_ND\\_25neighbors-M1 & Mecom        & turquoise & 1.817413 &  3.808247e-48 &  3.074624e-47 & *** & 0.11277683 &  993\\\\\n",
       "\tFOXF2 & betacells\\_allgenes\\_ND\\_25neighbors-M1 & FOXF2        & turquoise & 1.682532 &  3.344493e-32 &  1.928124e-31 & *** & 0.09880750 &  812\\\\\n",
       "\tFOXD1 & betacells\\_allgenes\\_ND\\_25neighbors-M1 & FOXD1        & turquoise & 1.576346 &  7.673277e-20 &  3.252423e-19 & *** & 0.08060351 &  593\\\\\n",
       "\\end{tabular}\n"
      ],
      "text/markdown": [
       "\n",
       "A data.frame: 6 × 9\n",
       "\n",
       "| <!--/--> | module &lt;fct&gt; | tf &lt;chr&gt; | color &lt;chr&gt; | odds_ratio &lt;dbl&gt; | pval &lt;dbl&gt; | fdr &lt;dbl&gt; | Significance &lt;chr&gt; | Jaccard &lt;dbl&gt; | size_intersection &lt;dbl&gt; |\n",
       "|---|---|---|---|---|---|---|---|---|---|\n",
       "| Arnt | betacells_allgenes_ND_25neighbors-M1 | Arnt         | turquoise | 3.140330 | 4.178998e-190 | 1.320988e-188 | *** | 0.16134089 | 1338 |\n",
       "| Ahr::Arnt | betacells_allgenes_ND_25neighbors-M1 | Ahr::Arnt    | turquoise | 2.995917 | 1.048250e-207 | 3.688654e-206 | *** | 0.17209639 | 1664 |\n",
       "| Ddit3::Cebpa | betacells_allgenes_ND_25neighbors-M1 | Ddit3::Cebpa | turquoise | 2.968547 | 2.357045e-149 | 5.360840e-148 | *** | 0.14373128 | 1104 |\n",
       "| Mecom | betacells_allgenes_ND_25neighbors-M1 | Mecom        | turquoise | 1.817413 |  3.808247e-48 |  3.074624e-47 | *** | 0.11277683 |  993 |\n",
       "| FOXF2 | betacells_allgenes_ND_25neighbors-M1 | FOXF2        | turquoise | 1.682532 |  3.344493e-32 |  1.928124e-31 | *** | 0.09880750 |  812 |\n",
       "| FOXD1 | betacells_allgenes_ND_25neighbors-M1 | FOXD1        | turquoise | 1.576346 |  7.673277e-20 |  3.252423e-19 | *** | 0.08060351 |  593 |\n",
       "\n"
      ],
      "text/plain": [
       "             module                               tf           color    \n",
       "Arnt         betacells_allgenes_ND_25neighbors-M1 Arnt         turquoise\n",
       "Ahr::Arnt    betacells_allgenes_ND_25neighbors-M1 Ahr::Arnt    turquoise\n",
       "Ddit3::Cebpa betacells_allgenes_ND_25neighbors-M1 Ddit3::Cebpa turquoise\n",
       "Mecom        betacells_allgenes_ND_25neighbors-M1 Mecom        turquoise\n",
       "FOXF2        betacells_allgenes_ND_25neighbors-M1 FOXF2        turquoise\n",
       "FOXD1        betacells_allgenes_ND_25neighbors-M1 FOXD1        turquoise\n",
       "             odds_ratio pval          fdr           Significance Jaccard   \n",
       "Arnt         3.140330   4.178998e-190 1.320988e-188 ***          0.16134089\n",
       "Ahr::Arnt    2.995917   1.048250e-207 3.688654e-206 ***          0.17209639\n",
       "Ddit3::Cebpa 2.968547   2.357045e-149 5.360840e-148 ***          0.14373128\n",
       "Mecom        1.817413    3.808247e-48  3.074624e-47 ***          0.11277683\n",
       "FOXF2        1.682532    3.344493e-32  1.928124e-31 ***          0.09880750\n",
       "FOXD1        1.576346    7.673277e-20  3.252423e-19 ***          0.08060351\n",
       "             size_intersection\n",
       "Arnt         1338             \n",
       "Ahr::Arnt    1664             \n",
       "Ddit3::Cebpa 1104             \n",
       "Mecom         993             \n",
       "FOXF2         812             \n",
       "FOXD1         593             "
      ]
     },
     "metadata": {},
     "output_type": "display_data"
    }
   ],
   "source": [
    "# overlap between modules & TF target genes:\n",
    "seurat_obj<- OverlapModulesMotifs(seurat_obj)\n",
    "\n",
    "# look at the overlap data\n",
    "head(GetMotifOverlap(seurat_obj))"
   ]
  },
  {
   "cell_type": "code",
   "execution_count": 14,
   "id": "d72278c8-2f15-44cd-ab66-9fbf6bdfc3b8",
   "metadata": {
    "execution": {
     "iopub.execute_input": "2022-10-18T00:56:20.696830Z",
     "iopub.status.busy": "2022-10-18T00:56:20.695299Z",
     "iopub.status.idle": "2022-10-18T00:56:20.711891Z",
     "shell.execute_reply": "2022-10-18T00:56:20.710177Z"
    },
    "tags": []
   },
   "outputs": [],
   "source": [
    "#' Displays the top n TFs in a set of modules as a bar plot\n",
    "#'\n",
    "#' @param seurat_obj A Seurat object\n",
    "#' @param wgcna_name The name of the hdWGCNA experiment in the seurat_obj@misc slot\n",
    "#' @keywords scRNA-seq\n",
    "#' @export\n",
    "#' @examples\n",
    "#' MotifOverlapBarPlot\n",
    "MotifOverlapBarPlot <- function(\n",
    "  seurat_obj,\n",
    "  n_tfs = 10,\n",
    "  plot_size = c(5,6),\n",
    "  outdir = \"MotifOverlaps/\",\n",
    "  motif_font = 'helvetica_regular',\n",
    "  module_names = NULL,\n",
    "  wgcna_name=NULL\n",
    "){\n",
    "\n",
    "  if(is.null(wgcna_name)){wgcna_name <- seurat_obj@misc$active_wgcna}\n",
    "\n",
    "  # make output dir if it doesn't exist:\n",
    "  if(!dir.exists(outdir)){dir.create(outdir)}\n",
    "\n",
    "  # get Modules\n",
    "  modules <- GetModules(seurat_obj)\n",
    "  mods <- levels(modules$module)\n",
    "  mods <- mods[mods != 'grey']\n",
    "\n",
    "  if(is.null(module_names)){module_names <- mods}\n",
    "\n",
    "  # get overlap info from Seurat obj\n",
    "  overlap_df <- GetMotifOverlap(seurat_obj, wgcna_name)\n",
    "  motif_df <- GetMotifs(seurat_obj)\n",
    "\n",
    "  # get pfm list from Seurat obj\n",
    "  pfm <- GetPFMList(seurat_obj)\n",
    "\n",
    "  # add motif ID to the overlap_df\n",
    "  overlap_df$motif_ID <- motif_df$motif_ID[match(overlap_df$tf, motif_df$motif_name)]\n",
    "\n",
    "  # subset by the modules that we are using:\n",
    "  overlap_df <- overlap_df %>% subset(module %in% module_names)\n",
    "\n",
    "  for(cur_mod in module_names){\n",
    "    print(cur_mod)\n",
    "    # get df for cur mod\n",
    "    plot_df <- overlap_df %>% subset(module == cur_mod) %>% top_n(n_tfs, wt=odds_ratio) %>%\n",
    "      arrange(desc(odds_ratio))\n",
    "\n",
    "    # make the barplot\n",
    "    p1 <- plot_df %>% ggplot(aes(y=reorder(tf, odds_ratio), fill=odds_ratio, x=odds_ratio)) +\n",
    "      geom_bar(stat='identity', width=0.7) + NoLegend() +\n",
    "      scale_fill_gradient(high=unique(plot_df$color), low='grey90') +\n",
    "      ylab('') + theme(\n",
    "        axis.line.y = element_blank(),\n",
    "        axis.text.y = element_blank(),\n",
    "        plot.margin = margin(\n",
    "          t = 0, r = 0, b = 0, l = 0\n",
    "        )\n",
    "      )\n",
    "\n",
    "    # make the motif logo plots:\n",
    "    plot_list <- list()\n",
    "    for(i in 1:nrow(plot_df)){\n",
    "      cur_id <- plot_df[i,'motif_ID']\n",
    "      cur_name <- plot_df[i,'tf']\n",
    "      plot_list[[cur_id]] <- ggplot() +\n",
    "        ggseqlogo::geom_logo( as.matrix(pfm[[cur_id]]), font=motif_font) +\n",
    "        ggseqlogo::theme_logo() +\n",
    "        xlab('') + ylab(cur_name) + theme(\n",
    "          axis.text.x=element_blank(),\n",
    "          axis.text.y=element_blank(),\n",
    "          axis.title.y = element_text(angle=0),\n",
    "          plot.margin = margin(t = 0,  # Top margin\n",
    "                                 r = 0,  # Right margin\n",
    "                                 b = 0,  # Bottom margin\n",
    "                                 l = 0) # Left margin\n",
    "        )\n",
    "    }\n",
    "\n",
    "    # wrap the motif logos\n",
    "    patch1 <- wrap_plots(plot_list, ncol=1)\n",
    "\n",
    "    # assemble the plot with patchwork\n",
    "    outplot <- (patch1 | p1) +\n",
    "          plot_layout(ncol=2, widths=c(1,2)) +\n",
    "          plot_annotation(title=paste0('Motif overlaps with ', cur_mod),\n",
    "          theme = theme(plot.title=element_text(hjust=0.5))\n",
    "        )\n",
    "\n",
    "    pdf(paste0(outdir, '/', cur_mod, '_motif_overlaps.pdf'), width=plot_size[1], height=plot_size[2], useDingbats=FALSE)\n",
    "    print(outplot)\n",
    "    dev.off()\n",
    "\n",
    "  }\n",
    "\n",
    "}"
   ]
  },
  {
   "cell_type": "code",
   "execution_count": 15,
   "id": "6470f5cf-99c6-4abb-8798-24a811be15ba",
   "metadata": {
    "execution": {
     "iopub.execute_input": "2022-10-18T00:56:20.715908Z",
     "iopub.status.busy": "2022-10-18T00:56:20.714389Z",
     "iopub.status.idle": "2022-10-18T00:56:29.271191Z",
     "shell.execute_reply": "2022-10-18T00:56:29.269286Z"
    },
    "tags": []
   },
   "outputs": [
    {
     "name": "stdout",
     "output_type": "stream",
     "text": [
      "[1] \"betacells_allgenes_ND_25neighbors-M1\"\n"
     ]
    },
    {
     "name": "stderr",
     "output_type": "stream",
     "text": [
      "Warning message:\n",
      "\"`guides(<scale> = FALSE)` is deprecated. Please use `guides(<scale> = \"none\")` instead.\"\n",
      "Warning message:\n",
      "\"`guides(<scale> = FALSE)` is deprecated. Please use `guides(<scale> = \"none\")` instead.\"\n",
      "Warning message:\n",
      "\"`guides(<scale> = FALSE)` is deprecated. Please use `guides(<scale> = \"none\")` instead.\"\n",
      "Warning message:\n",
      "\"`guides(<scale> = FALSE)` is deprecated. Please use `guides(<scale> = \"none\")` instead.\"\n",
      "Warning message:\n",
      "\"`guides(<scale> = FALSE)` is deprecated. Please use `guides(<scale> = \"none\")` instead.\"\n",
      "Warning message:\n",
      "\"`guides(<scale> = FALSE)` is deprecated. Please use `guides(<scale> = \"none\")` instead.\"\n",
      "Warning message:\n",
      "\"`guides(<scale> = FALSE)` is deprecated. Please use `guides(<scale> = \"none\")` instead.\"\n",
      "Warning message:\n",
      "\"`guides(<scale> = FALSE)` is deprecated. Please use `guides(<scale> = \"none\")` instead.\"\n",
      "Warning message:\n",
      "\"`guides(<scale> = FALSE)` is deprecated. Please use `guides(<scale> = \"none\")` instead.\"\n",
      "Warning message:\n",
      "\"`guides(<scale> = FALSE)` is deprecated. Please use `guides(<scale> = \"none\")` instead.\"\n"
     ]
    },
    {
     "name": "stdout",
     "output_type": "stream",
     "text": [
      "[1] \"betacells_allgenes_ND_25neighbors-M2\"\n"
     ]
    },
    {
     "name": "stderr",
     "output_type": "stream",
     "text": [
      "Warning message:\n",
      "\"`guides(<scale> = FALSE)` is deprecated. Please use `guides(<scale> = \"none\")` instead.\"\n",
      "Warning message:\n",
      "\"`guides(<scale> = FALSE)` is deprecated. Please use `guides(<scale> = \"none\")` instead.\"\n",
      "Warning message:\n",
      "\"`guides(<scale> = FALSE)` is deprecated. Please use `guides(<scale> = \"none\")` instead.\"\n",
      "Warning message:\n",
      "\"`guides(<scale> = FALSE)` is deprecated. Please use `guides(<scale> = \"none\")` instead.\"\n",
      "Warning message:\n",
      "\"`guides(<scale> = FALSE)` is deprecated. Please use `guides(<scale> = \"none\")` instead.\"\n",
      "Warning message:\n",
      "\"`guides(<scale> = FALSE)` is deprecated. Please use `guides(<scale> = \"none\")` instead.\"\n",
      "Warning message:\n",
      "\"`guides(<scale> = FALSE)` is deprecated. Please use `guides(<scale> = \"none\")` instead.\"\n",
      "Warning message:\n",
      "\"`guides(<scale> = FALSE)` is deprecated. Please use `guides(<scale> = \"none\")` instead.\"\n",
      "Warning message:\n",
      "\"`guides(<scale> = FALSE)` is deprecated. Please use `guides(<scale> = \"none\")` instead.\"\n",
      "Warning message:\n",
      "\"`guides(<scale> = FALSE)` is deprecated. Please use `guides(<scale> = \"none\")` instead.\"\n"
     ]
    },
    {
     "name": "stdout",
     "output_type": "stream",
     "text": [
      "[1] \"betacells_allgenes_ND_25neighbors-M3\"\n"
     ]
    },
    {
     "name": "stderr",
     "output_type": "stream",
     "text": [
      "Warning message:\n",
      "\"`guides(<scale> = FALSE)` is deprecated. Please use `guides(<scale> = \"none\")` instead.\"\n",
      "Warning message:\n",
      "\"`guides(<scale> = FALSE)` is deprecated. Please use `guides(<scale> = \"none\")` instead.\"\n",
      "Warning message:\n",
      "\"`guides(<scale> = FALSE)` is deprecated. Please use `guides(<scale> = \"none\")` instead.\"\n",
      "Warning message:\n",
      "\"`guides(<scale> = FALSE)` is deprecated. Please use `guides(<scale> = \"none\")` instead.\"\n",
      "Warning message:\n",
      "\"`guides(<scale> = FALSE)` is deprecated. Please use `guides(<scale> = \"none\")` instead.\"\n",
      "Warning message:\n",
      "\"`guides(<scale> = FALSE)` is deprecated. Please use `guides(<scale> = \"none\")` instead.\"\n",
      "Warning message:\n",
      "\"`guides(<scale> = FALSE)` is deprecated. Please use `guides(<scale> = \"none\")` instead.\"\n",
      "Warning message:\n",
      "\"`guides(<scale> = FALSE)` is deprecated. Please use `guides(<scale> = \"none\")` instead.\"\n",
      "Warning message:\n",
      "\"`guides(<scale> = FALSE)` is deprecated. Please use `guides(<scale> = \"none\")` instead.\"\n",
      "Warning message:\n",
      "\"`guides(<scale> = FALSE)` is deprecated. Please use `guides(<scale> = \"none\")` instead.\"\n"
     ]
    },
    {
     "name": "stdout",
     "output_type": "stream",
     "text": [
      "[1] \"betacells_allgenes_ND_25neighbors-M4\"\n"
     ]
    },
    {
     "name": "stderr",
     "output_type": "stream",
     "text": [
      "Warning message:\n",
      "\"`guides(<scale> = FALSE)` is deprecated. Please use `guides(<scale> = \"none\")` instead.\"\n",
      "Warning message:\n",
      "\"`guides(<scale> = FALSE)` is deprecated. Please use `guides(<scale> = \"none\")` instead.\"\n",
      "Warning message:\n",
      "\"`guides(<scale> = FALSE)` is deprecated. Please use `guides(<scale> = \"none\")` instead.\"\n",
      "Warning message:\n",
      "\"`guides(<scale> = FALSE)` is deprecated. Please use `guides(<scale> = \"none\")` instead.\"\n",
      "Warning message:\n",
      "\"`guides(<scale> = FALSE)` is deprecated. Please use `guides(<scale> = \"none\")` instead.\"\n",
      "Warning message:\n",
      "\"`guides(<scale> = FALSE)` is deprecated. Please use `guides(<scale> = \"none\")` instead.\"\n",
      "Warning message:\n",
      "\"`guides(<scale> = FALSE)` is deprecated. Please use `guides(<scale> = \"none\")` instead.\"\n",
      "Warning message:\n",
      "\"`guides(<scale> = FALSE)` is deprecated. Please use `guides(<scale> = \"none\")` instead.\"\n",
      "Warning message:\n",
      "\"`guides(<scale> = FALSE)` is deprecated. Please use `guides(<scale> = \"none\")` instead.\"\n",
      "Warning message:\n",
      "\"`guides(<scale> = FALSE)` is deprecated. Please use `guides(<scale> = \"none\")` instead.\"\n"
     ]
    },
    {
     "name": "stdout",
     "output_type": "stream",
     "text": [
      "[1] \"betacells_allgenes_ND_25neighbors-M5\"\n"
     ]
    },
    {
     "name": "stderr",
     "output_type": "stream",
     "text": [
      "Warning message:\n",
      "\"`guides(<scale> = FALSE)` is deprecated. Please use `guides(<scale> = \"none\")` instead.\"\n",
      "Warning message:\n",
      "\"`guides(<scale> = FALSE)` is deprecated. Please use `guides(<scale> = \"none\")` instead.\"\n",
      "Warning message:\n",
      "\"`guides(<scale> = FALSE)` is deprecated. Please use `guides(<scale> = \"none\")` instead.\"\n",
      "Warning message:\n",
      "\"`guides(<scale> = FALSE)` is deprecated. Please use `guides(<scale> = \"none\")` instead.\"\n",
      "Warning message:\n",
      "\"`guides(<scale> = FALSE)` is deprecated. Please use `guides(<scale> = \"none\")` instead.\"\n",
      "Warning message:\n",
      "\"`guides(<scale> = FALSE)` is deprecated. Please use `guides(<scale> = \"none\")` instead.\"\n",
      "Warning message:\n",
      "\"`guides(<scale> = FALSE)` is deprecated. Please use `guides(<scale> = \"none\")` instead.\"\n",
      "Warning message:\n",
      "\"`guides(<scale> = FALSE)` is deprecated. Please use `guides(<scale> = \"none\")` instead.\"\n",
      "Warning message:\n",
      "\"`guides(<scale> = FALSE)` is deprecated. Please use `guides(<scale> = \"none\")` instead.\"\n",
      "Warning message:\n",
      "\"`guides(<scale> = FALSE)` is deprecated. Please use `guides(<scale> = \"none\")` instead.\"\n",
      "Warning message:\n",
      "\"`guides(<scale> = FALSE)` is deprecated. Please use `guides(<scale> = \"none\")` instead.\"\n"
     ]
    }
   ],
   "source": [
    "# plot the top TFs overlapping with\n",
    "MotifOverlapBarPlot(\n",
    "  seurat_obj,\n",
    "  #motif_font = 'xkcd_regular',\n",
    "  outdir = 'motif_analysis/MotifOverlaps/',\n",
    "  plot_size=c(5,6)\n",
    ")"
   ]
  },
  {
   "cell_type": "code",
   "execution_count": 15,
   "id": "174d0c9b-48b2-4bae-903c-be2c4af6684c",
   "metadata": {
    "execution": {
     "iopub.execute_input": "2022-09-07T19:13:02.734232Z",
     "iopub.status.busy": "2022-09-07T19:13:02.732549Z",
     "iopub.status.idle": "2022-09-07T21:23:29.072057Z",
     "shell.execute_reply": "2022-09-07T21:23:29.068604Z"
    },
    "tags": []
   },
   "outputs": [
    {
     "name": "stderr",
     "output_type": "stream",
     "text": [
      "Loading required package: Signac\n",
      "\n"
     ]
    }
   ],
   "source": [
    "seurat_obj <- MotifTargetScore(\n",
    "  seurat_obj\n",
    ")"
   ]
  },
  {
   "cell_type": "code",
   "execution_count": 17,
   "id": "1050502c-3092-4689-9871-7020358f3b91",
   "metadata": {
    "execution": {
     "iopub.execute_input": "2022-09-16T17:05:42.628211Z",
     "iopub.status.busy": "2022-09-16T17:05:42.626450Z",
     "iopub.status.idle": "2022-09-16T17:05:42.650388Z",
     "shell.execute_reply": "2022-09-16T17:05:42.648535Z"
    },
    "tags": []
   },
   "outputs": [
    {
     "data": {
      "text/plain": [
       "             \n",
       "              grey allcells_allgenes_ND_25neighbors-M1\n",
       "  black          0                                   0\n",
       "  blue           0                                   0\n",
       "  brown          0                                   0\n",
       "  green          0                                   0\n",
       "  greenyellow    0                                   0\n",
       "  grey        5092                                   0\n",
       "  magenta        0                                   0\n",
       "  pink           0                                   0\n",
       "  purple         0                                   0\n",
       "  red            0                                   0\n",
       "  turquoise      0                                4274\n",
       "  yellow         0                                   0\n",
       "             \n",
       "              allcells_allgenes_ND_25neighbors-M2\n",
       "  black                                         0\n",
       "  blue                                          0\n",
       "  brown                                         0\n",
       "  green                                         0\n",
       "  greenyellow                                   0\n",
       "  grey                                          0\n",
       "  magenta                                      67\n",
       "  pink                                          0\n",
       "  purple                                        0\n",
       "  red                                           0\n",
       "  turquoise                                     0\n",
       "  yellow                                        0\n",
       "             \n",
       "              allcells_allgenes_ND_25neighbors-M3\n",
       "  black                                         0\n",
       "  blue                                          0\n",
       "  brown                                       281\n",
       "  green                                         0\n",
       "  greenyellow                                   0\n",
       "  grey                                          0\n",
       "  magenta                                       0\n",
       "  pink                                          0\n",
       "  purple                                        0\n",
       "  red                                           0\n",
       "  turquoise                                     0\n",
       "  yellow                                        0\n",
       "             \n",
       "              allcells_allgenes_ND_25neighbors-M4\n",
       "  black                                         0\n",
       "  blue                                        356\n",
       "  brown                                         0\n",
       "  green                                         0\n",
       "  greenyellow                                   0\n",
       "  grey                                          0\n",
       "  magenta                                       0\n",
       "  pink                                          0\n",
       "  purple                                        0\n",
       "  red                                           0\n",
       "  turquoise                                     0\n",
       "  yellow                                        0\n",
       "             \n",
       "              allcells_allgenes_ND_25neighbors-M5\n",
       "  black                                         0\n",
       "  blue                                          0\n",
       "  brown                                         0\n",
       "  green                                         0\n",
       "  greenyellow                                   0\n",
       "  grey                                          0\n",
       "  magenta                                       0\n",
       "  pink                                          0\n",
       "  purple                                        0\n",
       "  red                                         134\n",
       "  turquoise                                     0\n",
       "  yellow                                        0\n",
       "             \n",
       "              allcells_allgenes_ND_25neighbors-M6\n",
       "  black                                         0\n",
       "  blue                                          0\n",
       "  brown                                         0\n",
       "  green                                         0\n",
       "  greenyellow                                   0\n",
       "  grey                                          0\n",
       "  magenta                                       0\n",
       "  pink                                          0\n",
       "  purple                                        0\n",
       "  red                                           0\n",
       "  turquoise                                     0\n",
       "  yellow                                      235\n",
       "             \n",
       "              allcells_allgenes_ND_25neighbors-M7\n",
       "  black                                         0\n",
       "  blue                                          0\n",
       "  brown                                         0\n",
       "  green                                         0\n",
       "  greenyellow                                   0\n",
       "  grey                                          0\n",
       "  magenta                                       0\n",
       "  pink                                         69\n",
       "  purple                                        0\n",
       "  red                                           0\n",
       "  turquoise                                     0\n",
       "  yellow                                        0\n",
       "             \n",
       "              allcells_allgenes_ND_25neighbors-M8\n",
       "  black                                        79\n",
       "  blue                                          0\n",
       "  brown                                         0\n",
       "  green                                         0\n",
       "  greenyellow                                   0\n",
       "  grey                                          0\n",
       "  magenta                                       0\n",
       "  pink                                          0\n",
       "  purple                                        0\n",
       "  red                                           0\n",
       "  turquoise                                     0\n",
       "  yellow                                        0\n",
       "             \n",
       "              allcells_allgenes_ND_25neighbors-M9\n",
       "  black                                         0\n",
       "  blue                                          0\n",
       "  brown                                         0\n",
       "  green                                       136\n",
       "  greenyellow                                   0\n",
       "  grey                                          0\n",
       "  magenta                                       0\n",
       "  pink                                          0\n",
       "  purple                                        0\n",
       "  red                                           0\n",
       "  turquoise                                     0\n",
       "  yellow                                        0\n",
       "             \n",
       "              allcells_allgenes_ND_25neighbors-M10\n",
       "  black                                          0\n",
       "  blue                                           0\n",
       "  brown                                          0\n",
       "  green                                          0\n",
       "  greenyellow                                    0\n",
       "  grey                                           0\n",
       "  magenta                                        0\n",
       "  pink                                           0\n",
       "  purple                                        58\n",
       "  red                                            0\n",
       "  turquoise                                      0\n",
       "  yellow                                         0\n",
       "             \n",
       "              allcells_allgenes_ND_25neighbors-M11\n",
       "  black                                          0\n",
       "  blue                                           0\n",
       "  brown                                          0\n",
       "  green                                          0\n",
       "  greenyellow                                   51\n",
       "  grey                                           0\n",
       "  magenta                                        0\n",
       "  pink                                           0\n",
       "  purple                                         0\n",
       "  red                                            0\n",
       "  turquoise                                      0\n",
       "  yellow                                         0"
      ]
     },
     "metadata": {},
     "output_type": "display_data"
    }
   ],
   "source": [
    "table(seurat_obj@misc$allcells_allgenes_ND_25neighbors$wgcna_modules$color, seurat_obj@misc$allcells_allgenes_ND_25neighbors$wgcna_modules$module)"
   ]
  },
  {
   "cell_type": "code",
   "execution_count": 14,
   "id": "5d45d817-5549-4378-8f3a-4e50aad77f3a",
   "metadata": {
    "execution": {
     "iopub.execute_input": "2022-09-08T17:50:55.726559Z",
     "iopub.status.busy": "2022-09-08T17:50:55.724763Z",
     "iopub.status.idle": "2022-09-08T17:50:56.199632Z",
     "shell.execute_reply": "2022-09-08T17:50:56.196146Z"
    }
   },
   "outputs": [
    {
     "data": {
      "image/png": "[encoded data removed]",
      "text/plain": [
       "plot without title"
      ]
     },
     "metadata": {
      "image/png": {
       "height": 420,
       "width": 420
      }
     },
     "output_type": "display_data"
    }
   ],
   "source": [
    "df <- GetMotifOverlap(seurat_obj)\n",
    "\n",
    "cur_df <- df %>% subset(tf == 'SOX9')\n",
    "\n",
    "plot_var <- 'odds_ratio'\n",
    "p <- cur_df %>%\n",
    "  ggplot(aes(y=reorder(module, odds_ratio), x=odds_ratio)) +\n",
    "  geom_bar(stat='identity', fill=cur_df$color) +\n",
    "  geom_vline(xintercept = 1, linetype='dashed', color='gray') +\n",
    "  geom_text(aes(label=Significance), color='black', size=3.5, hjust='center') +\n",
    "  ylab('') +\n",
    "  xlab(\"Odds Ratio\") +\n",
    "  ggtitle(\"SOX9 overlap\") +\n",
    "  theme(\n",
    "    plot.title = element_text(hjust = 0.5)\n",
    "  )\n",
    "\n",
    "\n",
    "#png(paste0(fig_dir, 'Sox9_motif_overlap_or.png'), width=3, height=4, units='in', res=400)\n",
    "p\n",
    "#dev.off()"
   ]
  },
  {
   "cell_type": "code",
   "execution_count": null,
   "id": "1a97c3b8-753e-4d5a-ae78-df161d3e8a5b",
   "metadata": {},
   "outputs": [],
   "source": [
    "ModuleTFNetwork(\n",
    "  seurat_obj,\n",
    "  edge.alpha=0.75,\n",
    "  cor_thresh = 0.75,\n",
    "  tf_name = \"OLIG1\",\n",
    "  tf_gene_name = \"OLIG1\",\n",
    "  tf_x = -7,\n",
    "  tf_y = -7\n",
    ")"
   ]
  }
 ],
 "metadata": {
  "kernelspec": {
   "display_name": "R 4.1.3 scverse",
   "language": "R",
   "name": "scverse-r413"
  },
  "language_info": {
   "codemirror_mode": "r",
   "file_extension": ".r",
   "mimetype": "text/x-r-source",
   "name": "R",
   "pygments_lexer": "r",
   "version": "4.1.3"
  }
 },
 "nbformat": 4,
 "nbformat_minor": 5
}
