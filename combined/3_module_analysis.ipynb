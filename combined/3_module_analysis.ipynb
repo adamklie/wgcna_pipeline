{
 "cells": [
  {
   "cell_type": "code",
   "execution_count": 3,
   "id": "6843cb27-b5a6-430a-9590-4e6e69055bbd",
   "metadata": {
    "execution": {
     "iopub.execute_input": "2023-01-23T04:34:01.260790Z",
     "iopub.status.busy": "2023-01-23T04:34:01.260237Z",
     "iopub.status.idle": "2023-01-23T04:34:29.847134Z",
     "shell.execute_reply": "2023-01-23T04:34:29.846093Z",
     "shell.execute_reply.started": "2023-01-23T04:34:01.260636Z"
    },
    "tags": []
   },
   "outputs": [],
   "source": [
    "import os\n",
    "import pandas as pd\n",
    "import numpy as np\n",
    "import matplotlib.pyplot as plt\n",
    "import seaborn as sns"
   ]
  },
  {
   "cell_type": "code",
   "execution_count": 5,
   "id": "ac91c099",
   "metadata": {},
   "outputs": [],
   "source": [
    "cwd = \"/cellar/users/aklie/projects/igvf/beta_cell_networks/bin/infer_grns/hdwgcna/combined/analysis/\""
   ]
  },
  {
   "cell_type": "code",
   "execution_count": 7,
   "id": "43c73f4c-3600-41b8-af12-207321bc92c2",
   "metadata": {
    "execution": {
     "iopub.execute_input": "2023-01-23T04:34:29.849475Z",
     "iopub.status.busy": "2023-01-23T04:34:29.849214Z",
     "iopub.status.idle": "2023-01-23T04:34:29.899440Z",
     "shell.execute_reply": "2023-01-23T04:34:29.898667Z",
     "shell.execute_reply.started": "2023-01-23T04:34:29.849439Z"
    },
    "tags": []
   },
   "outputs": [],
   "source": [
    "modules = pd.read_csv(os.path.join(cwd, \"25_neighbors_hdWGCNA_RNA_features_modules.tsv\"), sep=\"\\t\")"
   ]
  },
  {
   "cell_type": "code",
   "execution_count": 9,
   "id": "627a94b7-ca16-41b6-aae9-47088520d7fd",
   "metadata": {
    "execution": {
     "iopub.execute_input": "2023-01-23T04:34:30.014304Z",
     "iopub.status.busy": "2023-01-23T04:34:30.014047Z",
     "iopub.status.idle": "2023-01-23T04:34:34.465080Z",
     "shell.execute_reply": "2023-01-23T04:34:34.464321Z",
     "shell.execute_reply.started": "2023-01-23T04:34:30.014271Z"
    },
    "tags": []
   },
   "outputs": [],
   "source": [
    "tfs = pd.read_excel(\"/cellar/users/aklie/data/igvf/beta_cell_networks/auxiliary/SC-beta_TFs.xlsx\", sheet_name=0)"
   ]
  },
  {
   "cell_type": "code",
   "execution_count": 10,
   "id": "6ca44459-94d7-492b-96f8-e73e959ed4f3",
   "metadata": {
    "execution": {
     "iopub.execute_input": "2023-01-23T04:34:34.466515Z",
     "iopub.status.busy": "2023-01-23T04:34:34.466195Z",
     "iopub.status.idle": "2023-01-23T04:34:34.472859Z",
     "shell.execute_reply": "2023-01-23T04:34:34.471911Z",
     "shell.execute_reply.started": "2023-01-23T04:34:34.466481Z"
    },
    "tags": []
   },
   "outputs": [],
   "source": [
    "in_vitro_tfs = tfs[\"in vitro SC-beta specific\"].dropna().values\n",
    "sc_beta_specific = tfs[\"SC-beta specific compared to primary beta\"].dropna().values\n",
    "sc_beta_shared = tfs[\"SC-β & primary-β shared TFs\"].dropna().values"
   ]
  },
  {
   "cell_type": "code",
   "execution_count": 11,
   "id": "ad9c031b-0c2d-46f9-b87d-3e33fc30f3e0",
   "metadata": {
    "execution": {
     "iopub.execute_input": "2023-01-23T04:34:34.474518Z",
     "iopub.status.busy": "2023-01-23T04:34:34.474178Z",
     "iopub.status.idle": "2023-01-23T04:34:34.646543Z",
     "shell.execute_reply": "2023-01-23T04:34:34.645762Z",
     "shell.execute_reply.started": "2023-01-23T04:34:34.474484Z"
    },
    "tags": []
   },
   "outputs": [],
   "source": [
    "from matplotlib_venn import venn2"
   ]
  },
  {
   "cell_type": "code",
   "execution_count": 23,
   "id": "9292ab97-ccc7-41ce-9e6b-62c6e7514b8e",
   "metadata": {
    "execution": {
     "iopub.execute_input": "2023-01-23T04:34:34.648019Z",
     "iopub.status.busy": "2023-01-23T04:34:34.647708Z",
     "iopub.status.idle": "2023-01-23T04:34:34.743668Z",
     "shell.execute_reply": "2023-01-23T04:34:34.742914Z",
     "shell.execute_reply.started": "2023-01-23T04:34:34.647985Z"
    },
    "tags": []
   },
   "outputs": [
    {
     "name": "stdout",
     "output_type": "stream",
     "text": [
      "in vitro SC-beta specific\n",
      "blue {'RXRA', 'FOXK2'}\n",
      "green set()\n",
      "red {'KLF12', 'FOXN2'}\n",
      "turquoise {'KLF7', 'HMBOX1', 'FOXP2', 'BACH1', 'TCF4'}\n",
      "yellow {'PDX1', 'EBF4', 'MZF1', 'ISL1'}\n",
      "SC-beta specific compared to primary beta\n",
      "blue set()\n",
      "green set()\n",
      "red {'KLF12'}\n",
      "turquoise {'KLF7', 'HMBOX1', 'PBX3', 'HNF4G', 'FOXP2', 'BACH1', 'ESRRG', 'ETV1', 'NR3C1', 'CLOCK', 'FOXP1', 'RFX3'}\n",
      "yellow {'PDX1', 'ATF7'}\n",
      "SC-β & primary-β shared TFs\n",
      "blue set()\n",
      "green set()\n",
      "red set()\n",
      "turquoise {'FOXP2', 'MEIS1', 'IKZF2'}\n",
      "yellow {'PDX1', 'ISL1'}\n"
     ]
    }
   ],
   "source": [
    "#fig, ax = plt.subplots(6, 3, figsize=(16,24))\n",
    "i, j = 0, 0\n",
    "for list_name, tf_list in zip([\"in vitro SC-beta specific\", \n",
    "                    \"SC-beta specific compared to primary beta\",\n",
    "                    \"SC-β & primary-β shared TFs\"],[in_vitro_tfs, sc_beta_specific, sc_beta_shared]):\n",
    "    print(list_name)\n",
    "    for module, group in modules.groupby(\"color\"):\n",
    "        inter = set.intersection(set(tf_list), set(group.index))\n",
    "        if module in [\"red\", \"yellow\", \"turquoise\", \"green\", \"blue\"]:\n",
    "            print(module, inter)\n",
    "        #venn2([set(tf_list), set(group.index)], set_labels=[list_name, module], ax=ax[i][j])\n",
    "        i+=1\n",
    "    i=0\n",
    "    j+=1"
   ]
  },
  {
   "cell_type": "code",
   "execution_count": 13,
   "id": "57e01487-021e-417c-9b5d-4cda855a1f90",
   "metadata": {
    "execution": {
     "iopub.execute_input": "2023-01-23T04:35:56.438408Z",
     "iopub.status.busy": "2023-01-23T04:35:56.438121Z",
     "iopub.status.idle": "2023-01-23T04:35:56.469722Z",
     "shell.execute_reply": "2023-01-23T04:35:56.468936Z",
     "shell.execute_reply.started": "2023-01-23T04:35:56.438375Z"
    },
    "tags": []
   },
   "outputs": [],
   "source": [
    "tfs = set(pd.read_csv(\"/cellar/users/aklie/opt/shared/SCENIC/tf_lists/allTFs_hg38.txt\", header=None)[0].values)"
   ]
  },
  {
   "cell_type": "code",
   "execution_count": 39,
   "id": "965771cd-2791-42b4-88db-b808e668caa2",
   "metadata": {
    "execution": {
     "iopub.execute_input": "2023-01-23T04:36:27.260345Z",
     "iopub.status.busy": "2023-01-23T04:36:27.260036Z",
     "iopub.status.idle": "2023-01-23T04:36:27.266280Z",
     "shell.execute_reply": "2023-01-23T04:36:27.265327Z",
     "shell.execute_reply.started": "2023-01-23T04:36:27.260311Z"
    },
    "tags": []
   },
   "outputs": [],
   "source": [
    "mod = set(modules[modules[\"module\"] == \"green\"].index.values)"
   ]
  },
  {
   "cell_type": "code",
   "execution_count": 40,
   "id": "9e38f83b-f65a-493c-ba0d-e25384f9783c",
   "metadata": {
    "execution": {
     "iopub.execute_input": "2023-01-23T04:36:28.263839Z",
     "iopub.status.busy": "2023-01-23T04:36:28.263534Z",
     "iopub.status.idle": "2023-01-23T04:36:28.275783Z",
     "shell.execute_reply": "2023-01-23T04:36:28.274842Z",
     "shell.execute_reply.started": "2023-01-23T04:36:28.263806Z"
    },
    "tags": []
   },
   "outputs": [
    {
     "name": "stdout",
     "output_type": "stream",
     "text": [
      "ZNF846\n",
      "NFIC\n",
      "HNF4A\n",
      "AHDC1\n",
      "DNMT3A\n",
      "LARP1\n",
      "ZHX3\n",
      "KDM2B\n",
      "DEAF1\n"
     ]
    },
    {
     "data": {
      "text/plain": [
       "[None, None, None, None, None, None, None, None, None]"
      ]
     },
     "execution_count": 40,
     "metadata": {},
     "output_type": "execute_result"
    }
   ],
   "source": [
    "[print(tf) for tf in set.intersection(tfs, mod)]"
   ]
  },
  {
   "cell_type": "markdown",
   "id": "d257e6a9-8e31-4ba4-9a49-f5a4de026257",
   "metadata": {},
   "source": [
    "# Motif overlap"
   ]
  },
  {
   "cell_type": "code",
   "execution_count": 18,
   "id": "6c6f6d2b-3969-4458-97c3-27b9c62379ef",
   "metadata": {
    "execution": {
     "iopub.execute_input": "2023-01-23T04:39:10.262067Z",
     "iopub.status.busy": "2023-01-23T04:39:10.261751Z",
     "iopub.status.idle": "2023-01-23T04:39:10.288791Z",
     "shell.execute_reply": "2023-01-23T04:39:10.287978Z",
     "shell.execute_reply.started": "2023-01-23T04:39:10.262034Z"
    },
    "tags": []
   },
   "outputs": [],
   "source": [
    "motif_overlaps = pd.read_csv(os.path.join(cwd, \"25_neighbors_hdWGCNA_RNA_features_motif_overlap.tsv\"), sep=\"\\t\", index_col=0)"
   ]
  },
  {
   "cell_type": "code",
   "execution_count": 19,
   "id": "5aeb385c-1434-4fcd-a7ef-6b35c82c1a87",
   "metadata": {
    "execution": {
     "iopub.execute_input": "2023-01-23T04:39:11.261868Z",
     "iopub.status.busy": "2023-01-23T04:39:11.261536Z",
     "iopub.status.idle": "2023-01-23T04:39:11.268049Z",
     "shell.execute_reply": "2023-01-23T04:39:11.267089Z",
     "shell.execute_reply.started": "2023-01-23T04:39:11.261835Z"
    },
    "tags": []
   },
   "outputs": [],
   "source": [
    "sig_motifs = motif_overlaps[motif_overlaps[\"Significance\"] == \"***\"]"
   ]
  },
  {
   "cell_type": "code",
   "execution_count": 15,
   "id": "b00560f3-a21e-4fdf-998f-bdf070b49deb",
   "metadata": {
    "execution": {
     "iopub.execute_input": "2023-01-23T04:39:11.284087Z",
     "iopub.status.busy": "2023-01-23T04:39:11.283784Z",
     "iopub.status.idle": "2023-01-23T04:39:11.289284Z",
     "shell.execute_reply": "2023-01-23T04:39:11.288625Z",
     "shell.execute_reply.started": "2023-01-23T04:39:11.284055Z"
    },
    "tags": []
   },
   "outputs": [],
   "source": [
    "sig_beta_motifs = sig_motifs[sig_motifs[\"module\"].isin([\"yellow\", \"red\"])]"
   ]
  },
  {
   "cell_type": "code",
   "execution_count": 20,
   "id": "5ca26869-7b09-458c-99b3-3053f42faa18",
   "metadata": {
    "execution": {
     "iopub.execute_input": "2023-01-23T04:39:12.499036Z",
     "iopub.status.busy": "2023-01-23T04:39:12.498669Z",
     "iopub.status.idle": "2023-01-23T04:39:12.544928Z",
     "shell.execute_reply": "2023-01-23T04:39:12.544097Z",
     "shell.execute_reply.started": "2023-01-23T04:39:12.499002Z"
    },
    "tags": []
   },
   "outputs": [
    {
     "ename": "NameError",
     "evalue": "name 'sig_beta_motifs' is not defined",
     "output_type": "error",
     "traceback": [
      "\u001b[0;31m---------------------------------------------------------------------------\u001b[0m",
      "\u001b[0;31mNameError\u001b[0m                                 Traceback (most recent call last)",
      "\u001b[0;32m/tmp/ipykernel_3205544/2413490124.py\u001b[0m in \u001b[0;36m<module>\u001b[0;34m\u001b[0m\n\u001b[0;32m----> 1\u001b[0;31m \u001b[0msig_beta_motifs\u001b[0m\u001b[0;34m.\u001b[0m\u001b[0msort_values\u001b[0m\u001b[0;34m(\u001b[0m\u001b[0;34m\"fdr\"\u001b[0m\u001b[0;34m)\u001b[0m\u001b[0;34m.\u001b[0m\u001b[0mgroupby\u001b[0m\u001b[0;34m(\u001b[0m\u001b[0;34m\"module\"\u001b[0m\u001b[0;34m)\u001b[0m\u001b[0;34m.\u001b[0m\u001b[0mhead\u001b[0m\u001b[0;34m(\u001b[0m\u001b[0;36m100\u001b[0m\u001b[0;34m)\u001b[0m\u001b[0;34m.\u001b[0m\u001b[0msort_values\u001b[0m\u001b[0;34m(\u001b[0m\u001b[0;34m[\u001b[0m\u001b[0;34m\"module\"\u001b[0m\u001b[0;34m,\u001b[0m \u001b[0;34m\"fdr\"\u001b[0m\u001b[0;34m]\u001b[0m\u001b[0;34m)\u001b[0m\u001b[0;34m.\u001b[0m\u001b[0mto_csv\u001b[0m\u001b[0;34m(\u001b[0m\u001b[0mos\u001b[0m\u001b[0;34m.\u001b[0m\u001b[0mpath\u001b[0m\u001b[0;34m.\u001b[0m\u001b[0mjoin\u001b[0m\u001b[0;34m(\u001b[0m\u001b[0mcwd\u001b[0m\u001b[0;34m,\u001b[0m \u001b[0;34m\"sig_beta_motifs_RNA_feat.tsv\"\u001b[0m\u001b[0;34m)\u001b[0m\u001b[0;34m,\u001b[0m \u001b[0msep\u001b[0m\u001b[0;34m=\u001b[0m\u001b[0;34m\"\\t\"\u001b[0m\u001b[0;34m)\u001b[0m\u001b[0;34m\u001b[0m\u001b[0;34m\u001b[0m\u001b[0m\n\u001b[0m",
      "\u001b[0;31mNameError\u001b[0m: name 'sig_beta_motifs' is not defined"
     ]
    }
   ],
   "source": [
    "sig_beta_motifs.sort_values(\"fdr\").groupby(\"module\").head(100).sort_values([\"module\", \"fdr\"]).to_csv(os.path.join(cwd, \"sig_beta_motifs_RNA_feat.tsv\"), sep=\"\\t\")"
   ]
  },
  {
   "cell_type": "code",
   "execution_count": 22,
   "id": "9eba426e-4e08-4696-beb1-c2cd36874e6b",
   "metadata": {
    "execution": {
     "iopub.execute_input": "2023-01-23T04:39:14.263169Z",
     "iopub.status.busy": "2023-01-23T04:39:14.262857Z",
     "iopub.status.idle": "2023-01-23T04:39:14.275831Z",
     "shell.execute_reply": "2023-01-23T04:39:14.274977Z",
     "shell.execute_reply.started": "2023-01-23T04:39:14.263135Z"
    },
    "tags": []
   },
   "outputs": [
    {
     "name": "stdout",
     "output_type": "stream",
     "text": [
      "in vitro SC-beta specific\n",
      "red set()\n",
      "yellow {'ESR1', 'ZNF384', 'KLF11', 'EBF1', 'KLF6', 'IRF9', 'KLF9', 'SCRT1', 'MZF1', 'VEZF1', 'SCRT2', 'MAFA', 'TCF4', 'ETV4', 'ZBTB33', 'EBF3'}\n",
      "SC-beta specific compared to primary beta\n",
      "red set()\n",
      "yellow {'TCF7', 'ZNF460', 'NR2F1', 'TBX3', 'KLF5', 'MEF2C', 'MYCN', 'SOX4', 'PRDM1', 'SNAI3', 'TBX18', 'SNAI2', 'SP8', 'ETV4', 'GLI2', 'PBX3', 'ETV1', 'ZBTB33', 'EBF3'}\n",
      "SC-β & primary-β shared TFs\n",
      "red set()\n",
      "yellow {'ESR2', 'MEIS1', 'MAFA'}\n"
     ]
    }
   ],
   "source": [
    "#fig, ax = plt.subplots(6, 3, figsize=(16,24))\n",
    "i, j = 0, 0\n",
    "for list_name, tf_list in zip([\"in vitro SC-beta specific\", \n",
    "                    \"SC-beta specific compared to primary beta\",\n",
    "                    \"SC-β & primary-β shared TFs\"],[in_vitro_tfs, sc_beta_specific, sc_beta_shared]):\n",
    "    print(list_name)\n",
    "    for module, group in sig_motifs.groupby(\"color\"):\n",
    "        inter = set.intersection(set(tf_list), set(group.index))\n",
    "        if module in [\"red\", \"yellow\"]:\n",
    "            print(module, inter)\n",
    "        #venn2([set(tf_list), set(group.index)], set_labels=[list_name, module], ax=ax[i][j])\n",
    "        i+=1\n",
    "    i=0\n",
    "    j+=1"
   ]
  },
  {
   "cell_type": "code",
   "execution_count": null,
   "id": "c76d9ff4-54d5-4111-9513-74fa2c4826df",
   "metadata": {},
   "outputs": [],
   "source": []
  }
 ],
 "metadata": {
  "kernelspec": {
   "display_name": "Python 3.7 scratch",
   "language": "python",
   "name": "scratch-py37"
  },
  "language_info": {
   "codemirror_mode": {
    "name": "ipython",
    "version": 3
   },
   "file_extension": ".py",
   "mimetype": "text/x-python",
   "name": "python",
   "nbconvert_exporter": "python",
   "pygments_lexer": "ipython3",
   "version": "3.7.12"
  }
 },
 "nbformat": 4,
 "nbformat_minor": 5
}
