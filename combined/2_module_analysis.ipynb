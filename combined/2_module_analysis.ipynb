{
 "cells": [
  {
   "cell_type": "markdown",
   "id": "0d94a44e-7bc2-4372-afc4-1c040929d9ec",
   "metadata": {},
   "source": [
    "# High Dimensional Weighted Gene Correlation Network Analysis (hdWGCNA)"
   ]
  },
  {
   "cell_type": "markdown",
   "id": "7c291b89-35de-4079-90ac-b8ba23f3448d",
   "metadata": {
    "tags": []
   },
   "source": [
    "**Authorship:**\n",
    "Adam Klie, *08/24/2022*\n",
    "***\n",
    "**Description:**\n",
    "Notebook to run a WGCNA on stimulated pancreatic islet multiome data (well just the RNA)\n",
    "***"
   ]
  },
  {
   "cell_type": "code",
   "execution_count": 12,
   "id": "5f649f89-3e0a-404f-afa8-2724e9c0102d",
   "metadata": {
    "execution": {
     "iopub.execute_input": "2023-01-23T04:07:27.212573Z",
     "iopub.status.busy": "2023-01-23T04:07:27.210253Z",
     "iopub.status.idle": "2023-01-23T04:08:09.932771Z",
     "shell.execute_reply": "2023-01-23T04:08:09.930691Z"
    },
    "tags": [],
    "vscode": {
     "languageId": "r"
    }
   },
   "outputs": [],
   "source": [
    "# Conversion libraries and Seurat\n",
    "library(SeuratDisk)\n",
    "library(SeuratData)\n",
    "library(Seurat)\n",
    "library(Signac)\n",
    "\n",
    "# plotting and data science packages\n",
    "library(tidyverse)\n",
    "library(cowplot)\n",
    "library(patchwork)\n",
    "\n",
    "# co-expression network analysis packages:\n",
    "library(WGCNA)\n",
    "library(hdWGCNA)\n",
    "\n",
    "# using the cowplot theme for ggplot\n",
    "theme_set(theme_cowplot())\n",
    "\n",
    "# set random seed for reproducibility\n",
    "set.seed(12345)"
   ]
  },
  {
   "cell_type": "code",
   "execution_count": 2,
   "id": "e954ff8d-14bb-4a1e-89ea-e29a59d45c33",
   "metadata": {
    "execution": {
     "iopub.execute_input": "2023-01-23T03:57:52.432101Z",
     "iopub.status.busy": "2023-01-23T03:57:52.425866Z",
     "iopub.status.idle": "2023-01-23T03:57:52.747334Z",
     "shell.execute_reply": "2023-01-23T03:57:52.744846Z"
    },
    "tags": [],
    "vscode": {
     "languageId": "r"
    }
   },
   "outputs": [
    {
     "data": {
      "text/html": [
       "'/cellar/users/aklie/projects/igvf/beta_cell_networks/bin/infer_grns/hdwgcna/combined/analysis/25_neighbors_hdWGCNA_RNA_features'"
      ],
      "text/latex": [
       "'/cellar/users/aklie/projects/igvf/beta\\_cell\\_networks/bin/infer\\_grns/hdwgcna/combined/analysis/25\\_neighbors\\_hdWGCNA\\_RNA\\_features'"
      ],
      "text/markdown": [
       "'/cellar/users/aklie/projects/igvf/beta_cell_networks/bin/infer_grns/hdwgcna/combined/analysis/25_neighbors_hdWGCNA_RNA_features'"
      ],
      "text/plain": [
       "[1] \"/cellar/users/aklie/projects/igvf/beta_cell_networks/bin/infer_grns/hdwgcna/combined/analysis/25_neighbors_hdWGCNA_RNA_features\""
      ]
     },
     "metadata": {},
     "output_type": "display_data"
    }
   ],
   "source": [
    "# File names for saving\n",
    "DIR = \"/cellar/users/aklie/projects/igvf/beta_cell_networks/bin/infer_grns/hdwgcna/combined\"\n",
    "RDS_FILE = file.path(DIR, \"25_neighbors_hdWGCNA_RNA_features.rds\")\n",
    "OUT= file.path(DIR, \"analysis\", \"25_neighbors_hdWGCNA_RNA_features\")\n",
    "OUT"
   ]
  },
  {
   "cell_type": "code",
   "execution_count": 3,
   "id": "328c86e8-48c5-4679-a691-5ed9d5293bd6",
   "metadata": {
    "execution": {
     "iopub.execute_input": "2023-01-23T04:01:36.221499Z",
     "iopub.status.busy": "2023-01-23T04:01:36.219599Z",
     "iopub.status.idle": "2023-01-23T04:02:24.605585Z",
     "shell.execute_reply": "2023-01-23T04:02:24.603294Z"
    },
    "tags": [],
    "vscode": {
     "languageId": "r"
    }
   },
   "outputs": [],
   "source": [
    "# load the preprocessed RDS from 1_network_construction.ipynb\n",
    "seurat_obj <- readRDS(RDS_FILE)"
   ]
  },
  {
   "cell_type": "code",
   "execution_count": 4,
   "id": "c42b274e-a6b6-45da-b49c-4e8b27d7380f",
   "metadata": {
    "execution": {
     "iopub.execute_input": "2023-01-23T04:07:16.211102Z",
     "iopub.status.busy": "2023-01-23T04:07:16.209166Z",
     "iopub.status.idle": "2023-01-23T04:07:16.239176Z",
     "shell.execute_reply": "2023-01-23T04:07:16.237049Z"
    },
    "tags": [],
    "vscode": {
     "languageId": "r"
    }
   },
   "outputs": [
    {
     "data": {
      "text/plain": [
       "\n",
       "primary_ND    sc_ctrl \n",
       "     14379       3473 "
      ]
     },
     "metadata": {},
     "output_type": "display_data"
    }
   ],
   "source": [
    "table(seurat_obj$Sample)"
   ]
  },
  {
   "cell_type": "markdown",
   "id": "725245ac-b1d5-4f46-a870-6070f6ed985c",
   "metadata": {
    "execution": {
     "iopub.execute_input": "2022-08-31T18:45:48.794252Z",
     "iopub.status.busy": "2022-08-31T18:45:48.792271Z",
     "iopub.status.idle": "2022-08-31T18:45:48.833426Z",
     "shell.execute_reply": "2022-08-31T18:45:48.831335Z"
    },
    "tags": []
   },
   "source": [
    "# Basic Visualization"
   ]
  },
  {
   "cell_type": "code",
   "execution_count": 5,
   "id": "323ff311-2cfe-4f38-8f49-b384874dc97e",
   "metadata": {
    "execution": {
     "iopub.execute_input": "2023-01-23T04:08:09.937690Z",
     "iopub.status.busy": "2023-01-23T04:08:09.935543Z",
     "iopub.status.idle": "2023-01-23T04:08:14.325602Z",
     "shell.execute_reply": "2023-01-23T04:08:14.322667Z"
    },
    "tags": [],
    "vscode": {
     "languageId": "r"
    }
   },
   "outputs": [
    {
     "name": "stdout",
     "output_type": "stream",
     "text": [
      "[1] \"brown\"\n",
      "[1] \"yellow\"\n",
      "[1] \"blue\"\n",
      "[1] \"green\"\n",
      "[1] \"turquoise\"\n",
      "[1] \"red\"\n"
     ]
    },
    {
     "data": {
      "text/html": [
       "<strong>png:</strong> 2"
      ],
      "text/latex": [
       "\\textbf{png:} 2"
      ],
      "text/markdown": [
       "**png:** 2"
      ],
      "text/plain": [
       "png \n",
       "  2 "
      ]
     },
     "metadata": {},
     "output_type": "display_data"
    }
   ],
   "source": [
    "# make a featureplot of hMEs for each module\n",
    "options(repr.plot.width=12, repr.plot.height=12)\n",
    "png(sprintf(\"%s_ModuleFeaturePlot.png\", OUT), widt=1200, height=1200)\n",
    "plot_list <- ModuleFeaturePlot(\n",
    "  seurat_obj,\n",
    "  reduction=\"umap\",\n",
    "  features='MEs', # plot the hMEs\n",
    "  order=TRUE # order so the points with highest hMEs are on top\n",
    ")\n",
    "\n",
    "# stitch together with patchwork\n",
    "wrap_plots(plot_list, ncol=3)\n",
    "dev.off()"
   ]
  },
  {
   "cell_type": "code",
   "execution_count": 6,
   "id": "d46480d2-e08f-4075-ba05-c75e47af4f7b",
   "metadata": {
    "execution": {
     "iopub.execute_input": "2023-01-23T04:08:14.331545Z",
     "iopub.status.busy": "2023-01-23T04:08:14.329353Z",
     "iopub.status.idle": "2023-01-23T04:08:14.736585Z",
     "shell.execute_reply": "2023-01-23T04:08:14.734061Z"
    },
    "tags": [],
    "vscode": {
     "languageId": "r"
    }
   },
   "outputs": [
    {
     "name": "stderr",
     "output_type": "stream",
     "text": [
      "Warning message in pNew > sig.level:\n",
      "“longer object length is not a multiple of shorter object length”\n"
     ]
    },
    {
     "data": {
      "text/html": [
       "<strong>png:</strong> 2"
      ],
      "text/latex": [
       "\\textbf{png:} 2"
      ],
      "text/markdown": [
       "**png:** 2"
      ],
      "text/plain": [
       "png \n",
       "  2 "
      ]
     },
     "metadata": {},
     "output_type": "display_data"
    }
   ],
   "source": [
    "# plot module correlagram\n",
    "options(repr.plot.width=12, repr.plot.height=12)\n",
    "png(sprintf(\"%s_ModuleCorrelation.png\", OUT), widt=1200, height=1200)\n",
    "ModuleCorrelogram(seurat_obj)\n",
    "dev.off()"
   ]
  },
  {
   "cell_type": "markdown",
   "id": "c136f0b6-d349-4b5c-93db-76df9d12930c",
   "metadata": {
    "tags": []
   },
   "source": [
    "# Trait correlations"
   ]
  },
  {
   "cell_type": "markdown",
   "id": "08ac6592-2dab-4a70-a6e7-bdcfeb98b596",
   "metadata": {},
   "source": [
    "## Set-up columns in meta data for plotting"
   ]
  },
  {
   "cell_type": "code",
   "execution_count": 7,
   "id": "a3e47d8a-51f8-41a8-bf2d-71122c361c28",
   "metadata": {
    "execution": {
     "iopub.execute_input": "2023-01-23T04:16:04.465620Z",
     "iopub.status.busy": "2023-01-23T04:16:04.463590Z",
     "iopub.status.idle": "2023-01-23T04:16:04.514023Z",
     "shell.execute_reply": "2023-01-23T04:16:04.511845Z"
    },
    "tags": [],
    "vscode": {
     "languageId": "r"
    }
   },
   "outputs": [
    {
     "data": {
      "text/html": [
       "<style>\n",
       ".list-inline {list-style: none; margin:0; padding: 0}\n",
       ".list-inline>li {display: inline-block}\n",
       ".list-inline>li:not(:last-child)::after {content: \"\\00b7\"; padding: 0 .5ex}\n",
       "</style>\n",
       "<ol class=list-inline><li>'orig.ident'</li><li>'nCount_RNA'</li><li>'nFeature_RNA'</li><li>'percent.mt'</li><li>'nCount_RNA_raw'</li><li>'nFeature_RNA_raw'</li><li>'nCount_ATAC'</li><li>'nFeature_ATAC'</li><li>'nCount_SCT'</li><li>'nFeature_SCT'</li><li>'SCT.weight'</li><li>'ATAC.weight'</li><li>'wsnn_res.0.2'</li><li>'seurat_clusters'</li><li>'log_nCount_ATAC'</li><li>'log_nCount_SCT'</li><li>'log_nFeature_ATAC'</li><li>'log_nFeature_SCT'</li><li>'nCount_mpeak'</li><li>'nFeature_mpeak'</li><li>'batch'</li><li>'condition'</li><li>'time_point'</li><li>'sample'</li><li>'atac_raw_reads'</li><li>'atac_mitochondrial_reads'</li><li>'atac_fragments'</li><li>'atac_pct.mt'</li><li>'TSS.enrichment'</li><li>'TSS.percentile'</li><li>'mpeak.weight'</li><li>'wsnn_res.0.3'</li><li>'nCount_peaks'</li><li>'nFeature_peaks'</li><li>'peaks.weight'</li><li>'wsnn_res.0.5'</li><li>'nCount_peak'</li><li>'nFeature_peak'</li><li>'cell.type.1'</li><li>'cell.type.2'</li><li>'Sample'</li><li>'log_count_RNA'</li><li>'count_rank_RNA'</li><li>'log_count_ATAC'</li><li>'count_rank_ATAC'</li><li>'nucleosome_signal'</li><li>'nucleosome_percentile'</li><li>'donor'</li><li>'scrub_score'</li><li>'scrub_pred'</li><li>'BGMM_prob'</li><li>'BGMM_pred'</li><li>'SCT_snn_res.0.1'</li><li>'nCount_cpeak'</li><li>'nFeature_cpeak'</li><li>'cpeak.weight'</li><li>'wsnn_res.0.1'</li><li>'disease'</li><li>'percent.rps'</li><li>'percent.rpl'</li><li>'integrated.rpca_snn_res.0.8'</li><li>'experiment'</li><li>'poly.hormone'</li><li>'integrated.rpca_snn_res.0.3'</li><li>'activity.prediction'</li><li>'activity.prediction.score'</li><li>'rna.anno'</li><li>'prediction.qaulity'</li><li>'nCount_window'</li><li>'nFeature_window'</li><li>'integrated.rpca.weight'</li><li>'window.weight'</li><li>'wsnn_res.0.03'</li><li>'nCount_unionpeaks'</li><li>'nFeature_unionpeaks'</li><li>'unionpeaks.weight'</li><li>'wsnn_res.0.01'</li><li>'integrated.rpca_snn_res.0.1'</li><li>'samp'</li><li>'integrated_snn_res.0.1'</li><li>'integrated_snn_res.0.2'</li><li>'integrated_snn_res.0.01'</li><li>'integrated_snn_res.0.02'</li><li>'integrated_snn_res.0.005'</li><li>'integrated_snn_res.0.4'</li><li>'integrated_snn_res.0.3'</li><li>'manual_clusters'</li><li>'hdwgcna_groups'</li><li>'metacell_grouping'</li><li>'sc_ctrl.vs.primary_ND'</li></ol>\n"
      ],
      "text/latex": [
       "\\begin{enumerate*}\n",
       "\\item 'orig.ident'\n",
       "\\item 'nCount\\_RNA'\n",
       "\\item 'nFeature\\_RNA'\n",
       "\\item 'percent.mt'\n",
       "\\item 'nCount\\_RNA\\_raw'\n",
       "\\item 'nFeature\\_RNA\\_raw'\n",
       "\\item 'nCount\\_ATAC'\n",
       "\\item 'nFeature\\_ATAC'\n",
       "\\item 'nCount\\_SCT'\n",
       "\\item 'nFeature\\_SCT'\n",
       "\\item 'SCT.weight'\n",
       "\\item 'ATAC.weight'\n",
       "\\item 'wsnn\\_res.0.2'\n",
       "\\item 'seurat\\_clusters'\n",
       "\\item 'log\\_nCount\\_ATAC'\n",
       "\\item 'log\\_nCount\\_SCT'\n",
       "\\item 'log\\_nFeature\\_ATAC'\n",
       "\\item 'log\\_nFeature\\_SCT'\n",
       "\\item 'nCount\\_mpeak'\n",
       "\\item 'nFeature\\_mpeak'\n",
       "\\item 'batch'\n",
       "\\item 'condition'\n",
       "\\item 'time\\_point'\n",
       "\\item 'sample'\n",
       "\\item 'atac\\_raw\\_reads'\n",
       "\\item 'atac\\_mitochondrial\\_reads'\n",
       "\\item 'atac\\_fragments'\n",
       "\\item 'atac\\_pct.mt'\n",
       "\\item 'TSS.enrichment'\n",
       "\\item 'TSS.percentile'\n",
       "\\item 'mpeak.weight'\n",
       "\\item 'wsnn\\_res.0.3'\n",
       "\\item 'nCount\\_peaks'\n",
       "\\item 'nFeature\\_peaks'\n",
       "\\item 'peaks.weight'\n",
       "\\item 'wsnn\\_res.0.5'\n",
       "\\item 'nCount\\_peak'\n",
       "\\item 'nFeature\\_peak'\n",
       "\\item 'cell.type.1'\n",
       "\\item 'cell.type.2'\n",
       "\\item 'Sample'\n",
       "\\item 'log\\_count\\_RNA'\n",
       "\\item 'count\\_rank\\_RNA'\n",
       "\\item 'log\\_count\\_ATAC'\n",
       "\\item 'count\\_rank\\_ATAC'\n",
       "\\item 'nucleosome\\_signal'\n",
       "\\item 'nucleosome\\_percentile'\n",
       "\\item 'donor'\n",
       "\\item 'scrub\\_score'\n",
       "\\item 'scrub\\_pred'\n",
       "\\item 'BGMM\\_prob'\n",
       "\\item 'BGMM\\_pred'\n",
       "\\item 'SCT\\_snn\\_res.0.1'\n",
       "\\item 'nCount\\_cpeak'\n",
       "\\item 'nFeature\\_cpeak'\n",
       "\\item 'cpeak.weight'\n",
       "\\item 'wsnn\\_res.0.1'\n",
       "\\item 'disease'\n",
       "\\item 'percent.rps'\n",
       "\\item 'percent.rpl'\n",
       "\\item 'integrated.rpca\\_snn\\_res.0.8'\n",
       "\\item 'experiment'\n",
       "\\item 'poly.hormone'\n",
       "\\item 'integrated.rpca\\_snn\\_res.0.3'\n",
       "\\item 'activity.prediction'\n",
       "\\item 'activity.prediction.score'\n",
       "\\item 'rna.anno'\n",
       "\\item 'prediction.qaulity'\n",
       "\\item 'nCount\\_window'\n",
       "\\item 'nFeature\\_window'\n",
       "\\item 'integrated.rpca.weight'\n",
       "\\item 'window.weight'\n",
       "\\item 'wsnn\\_res.0.03'\n",
       "\\item 'nCount\\_unionpeaks'\n",
       "\\item 'nFeature\\_unionpeaks'\n",
       "\\item 'unionpeaks.weight'\n",
       "\\item 'wsnn\\_res.0.01'\n",
       "\\item 'integrated.rpca\\_snn\\_res.0.1'\n",
       "\\item 'samp'\n",
       "\\item 'integrated\\_snn\\_res.0.1'\n",
       "\\item 'integrated\\_snn\\_res.0.2'\n",
       "\\item 'integrated\\_snn\\_res.0.01'\n",
       "\\item 'integrated\\_snn\\_res.0.02'\n",
       "\\item 'integrated\\_snn\\_res.0.005'\n",
       "\\item 'integrated\\_snn\\_res.0.4'\n",
       "\\item 'integrated\\_snn\\_res.0.3'\n",
       "\\item 'manual\\_clusters'\n",
       "\\item 'hdwgcna\\_groups'\n",
       "\\item 'metacell\\_grouping'\n",
       "\\item 'sc\\_ctrl.vs.primary\\_ND'\n",
       "\\end{enumerate*}\n"
      ],
      "text/markdown": [
       "1. 'orig.ident'\n",
       "2. 'nCount_RNA'\n",
       "3. 'nFeature_RNA'\n",
       "4. 'percent.mt'\n",
       "5. 'nCount_RNA_raw'\n",
       "6. 'nFeature_RNA_raw'\n",
       "7. 'nCount_ATAC'\n",
       "8. 'nFeature_ATAC'\n",
       "9. 'nCount_SCT'\n",
       "10. 'nFeature_SCT'\n",
       "11. 'SCT.weight'\n",
       "12. 'ATAC.weight'\n",
       "13. 'wsnn_res.0.2'\n",
       "14. 'seurat_clusters'\n",
       "15. 'log_nCount_ATAC'\n",
       "16. 'log_nCount_SCT'\n",
       "17. 'log_nFeature_ATAC'\n",
       "18. 'log_nFeature_SCT'\n",
       "19. 'nCount_mpeak'\n",
       "20. 'nFeature_mpeak'\n",
       "21. 'batch'\n",
       "22. 'condition'\n",
       "23. 'time_point'\n",
       "24. 'sample'\n",
       "25. 'atac_raw_reads'\n",
       "26. 'atac_mitochondrial_reads'\n",
       "27. 'atac_fragments'\n",
       "28. 'atac_pct.mt'\n",
       "29. 'TSS.enrichment'\n",
       "30. 'TSS.percentile'\n",
       "31. 'mpeak.weight'\n",
       "32. 'wsnn_res.0.3'\n",
       "33. 'nCount_peaks'\n",
       "34. 'nFeature_peaks'\n",
       "35. 'peaks.weight'\n",
       "36. 'wsnn_res.0.5'\n",
       "37. 'nCount_peak'\n",
       "38. 'nFeature_peak'\n",
       "39. 'cell.type.1'\n",
       "40. 'cell.type.2'\n",
       "41. 'Sample'\n",
       "42. 'log_count_RNA'\n",
       "43. 'count_rank_RNA'\n",
       "44. 'log_count_ATAC'\n",
       "45. 'count_rank_ATAC'\n",
       "46. 'nucleosome_signal'\n",
       "47. 'nucleosome_percentile'\n",
       "48. 'donor'\n",
       "49. 'scrub_score'\n",
       "50. 'scrub_pred'\n",
       "51. 'BGMM_prob'\n",
       "52. 'BGMM_pred'\n",
       "53. 'SCT_snn_res.0.1'\n",
       "54. 'nCount_cpeak'\n",
       "55. 'nFeature_cpeak'\n",
       "56. 'cpeak.weight'\n",
       "57. 'wsnn_res.0.1'\n",
       "58. 'disease'\n",
       "59. 'percent.rps'\n",
       "60. 'percent.rpl'\n",
       "61. 'integrated.rpca_snn_res.0.8'\n",
       "62. 'experiment'\n",
       "63. 'poly.hormone'\n",
       "64. 'integrated.rpca_snn_res.0.3'\n",
       "65. 'activity.prediction'\n",
       "66. 'activity.prediction.score'\n",
       "67. 'rna.anno'\n",
       "68. 'prediction.qaulity'\n",
       "69. 'nCount_window'\n",
       "70. 'nFeature_window'\n",
       "71. 'integrated.rpca.weight'\n",
       "72. 'window.weight'\n",
       "73. 'wsnn_res.0.03'\n",
       "74. 'nCount_unionpeaks'\n",
       "75. 'nFeature_unionpeaks'\n",
       "76. 'unionpeaks.weight'\n",
       "77. 'wsnn_res.0.01'\n",
       "78. 'integrated.rpca_snn_res.0.1'\n",
       "79. 'samp'\n",
       "80. 'integrated_snn_res.0.1'\n",
       "81. 'integrated_snn_res.0.2'\n",
       "82. 'integrated_snn_res.0.01'\n",
       "83. 'integrated_snn_res.0.02'\n",
       "84. 'integrated_snn_res.0.005'\n",
       "85. 'integrated_snn_res.0.4'\n",
       "86. 'integrated_snn_res.0.3'\n",
       "87. 'manual_clusters'\n",
       "88. 'hdwgcna_groups'\n",
       "89. 'metacell_grouping'\n",
       "90. 'sc_ctrl.vs.primary_ND'\n",
       "\n",
       "\n"
      ],
      "text/plain": [
       " [1] \"orig.ident\"                  \"nCount_RNA\"                 \n",
       " [3] \"nFeature_RNA\"                \"percent.mt\"                 \n",
       " [5] \"nCount_RNA_raw\"              \"nFeature_RNA_raw\"           \n",
       " [7] \"nCount_ATAC\"                 \"nFeature_ATAC\"              \n",
       " [9] \"nCount_SCT\"                  \"nFeature_SCT\"               \n",
       "[11] \"SCT.weight\"                  \"ATAC.weight\"                \n",
       "[13] \"wsnn_res.0.2\"                \"seurat_clusters\"            \n",
       "[15] \"log_nCount_ATAC\"             \"log_nCount_SCT\"             \n",
       "[17] \"log_nFeature_ATAC\"           \"log_nFeature_SCT\"           \n",
       "[19] \"nCount_mpeak\"                \"nFeature_mpeak\"             \n",
       "[21] \"batch\"                       \"condition\"                  \n",
       "[23] \"time_point\"                  \"sample\"                     \n",
       "[25] \"atac_raw_reads\"              \"atac_mitochondrial_reads\"   \n",
       "[27] \"atac_fragments\"              \"atac_pct.mt\"                \n",
       "[29] \"TSS.enrichment\"              \"TSS.percentile\"             \n",
       "[31] \"mpeak.weight\"                \"wsnn_res.0.3\"               \n",
       "[33] \"nCount_peaks\"                \"nFeature_peaks\"             \n",
       "[35] \"peaks.weight\"                \"wsnn_res.0.5\"               \n",
       "[37] \"nCount_peak\"                 \"nFeature_peak\"              \n",
       "[39] \"cell.type.1\"                 \"cell.type.2\"                \n",
       "[41] \"Sample\"                      \"log_count_RNA\"              \n",
       "[43] \"count_rank_RNA\"              \"log_count_ATAC\"             \n",
       "[45] \"count_rank_ATAC\"             \"nucleosome_signal\"          \n",
       "[47] \"nucleosome_percentile\"       \"donor\"                      \n",
       "[49] \"scrub_score\"                 \"scrub_pred\"                 \n",
       "[51] \"BGMM_prob\"                   \"BGMM_pred\"                  \n",
       "[53] \"SCT_snn_res.0.1\"             \"nCount_cpeak\"               \n",
       "[55] \"nFeature_cpeak\"              \"cpeak.weight\"               \n",
       "[57] \"wsnn_res.0.1\"                \"disease\"                    \n",
       "[59] \"percent.rps\"                 \"percent.rpl\"                \n",
       "[61] \"integrated.rpca_snn_res.0.8\" \"experiment\"                 \n",
       "[63] \"poly.hormone\"                \"integrated.rpca_snn_res.0.3\"\n",
       "[65] \"activity.prediction\"         \"activity.prediction.score\"  \n",
       "[67] \"rna.anno\"                    \"prediction.qaulity\"         \n",
       "[69] \"nCount_window\"               \"nFeature_window\"            \n",
       "[71] \"integrated.rpca.weight\"      \"window.weight\"              \n",
       "[73] \"wsnn_res.0.03\"               \"nCount_unionpeaks\"          \n",
       "[75] \"nFeature_unionpeaks\"         \"unionpeaks.weight\"          \n",
       "[77] \"wsnn_res.0.01\"               \"integrated.rpca_snn_res.0.1\"\n",
       "[79] \"samp\"                        \"integrated_snn_res.0.1\"     \n",
       "[81] \"integrated_snn_res.0.2\"      \"integrated_snn_res.0.01\"    \n",
       "[83] \"integrated_snn_res.0.02\"     \"integrated_snn_res.0.005\"   \n",
       "[85] \"integrated_snn_res.0.4\"      \"integrated_snn_res.0.3\"     \n",
       "[87] \"manual_clusters\"             \"hdwgcna_groups\"             \n",
       "[89] \"metacell_grouping\"           \"sc_ctrl.vs.primary_ND\"      "
      ]
     },
     "metadata": {},
     "output_type": "display_data"
    }
   ],
   "source": [
    "# Add in binary comparison columns for treatments\n",
    "seurat_obj@meta.data <- cbind(\n",
    "    seurat_obj@meta.data, \n",
    "    binarizeCategoricalVariable(\n",
    "        seurat_obj$Sample, \n",
    "        levelOrder = c(\"primary_ND\", \"sc_ctrl\"),\n",
    "    )\n",
    ")\n",
    "colnames(seurat_obj@meta.data)"
   ]
  },
  {
   "cell_type": "code",
   "execution_count": 8,
   "id": "00d4135d-5e01-4e43-9ad8-1c3426207170",
   "metadata": {
    "execution": {
     "iopub.execute_input": "2023-01-23T04:16:06.211660Z",
     "iopub.status.busy": "2023-01-23T04:16:06.209682Z",
     "iopub.status.idle": "2023-01-23T04:16:06.263823Z",
     "shell.execute_reply": "2023-01-23T04:16:06.261652Z"
    },
    "tags": [],
    "vscode": {
     "languageId": "r"
    }
   },
   "outputs": [
    {
     "name": "stdout",
     "output_type": "stream",
     "text": [
      "\n",
      "primary_ND    sc_ctrl \n",
      "     14379       3473 \n",
      "\n",
      "    0     1 \n",
      "14379  3473 \n"
     ]
    }
   ],
   "source": [
    "# Double check these, they should match up. Note that untreated is equivalent to 1 here\n",
    "print(table(seurat_obj$Sample))\n",
    "print(table(seurat_obj$sc_ctrl.vs.primary_ND))"
   ]
  },
  {
   "cell_type": "markdown",
   "id": "51206f3a-7a90-4de5-bfd5-b0688dfdddae",
   "metadata": {},
   "source": [
    "## Plot correlation heatmaps"
   ]
  },
  {
   "cell_type": "markdown",
   "id": "11557eeb-6528-443d-857e-e1a4b906e604",
   "metadata": {},
   "source": [
    "### Cell type correlations"
   ]
  },
  {
   "cell_type": "code",
   "execution_count": 9,
   "id": "bb5910e7-963a-4a65-9a68-f47dafaae5f7",
   "metadata": {
    "execution": {
     "iopub.execute_input": "2023-01-23T04:16:10.211470Z",
     "iopub.status.busy": "2023-01-23T04:16:10.209551Z",
     "iopub.status.idle": "2023-01-23T04:16:10.758891Z",
     "shell.execute_reply": "2023-01-23T04:16:10.756684Z"
    },
    "tags": [],
    "vscode": {
     "languageId": "r"
    }
   },
   "outputs": [],
   "source": [
    "# list of traits to correlate for cell type\n",
    "cur_traits <- c('sc_ctrl.vs.primary_ND')\n",
    "seurat_obj <- ModuleTraitCorrelation(\n",
    "  seurat_obj,\n",
    "  features=\"MEs\",\n",
    "  traits = cur_traits,\n",
    ")"
   ]
  },
  {
   "cell_type": "code",
   "execution_count": 10,
   "id": "c3c44e41-b20e-4ad8-bb97-ef1d3ed7e4ac",
   "metadata": {
    "execution": {
     "iopub.execute_input": "2023-01-23T04:16:26.210072Z",
     "iopub.status.busy": "2023-01-23T04:16:26.208260Z",
     "iopub.status.idle": "2023-01-23T04:16:26.243736Z",
     "shell.execute_reply": "2023-01-23T04:16:26.241356Z"
    },
    "tags": [],
    "vscode": {
     "languageId": "r"
    }
   },
   "outputs": [
    {
     "name": "stdout",
     "output_type": "stream",
     "text": [
      "[1] \"cor\"  \"pval\" \"fdr\" \n"
     ]
    },
    {
     "data": {
      "text/html": [
       "<style>\n",
       ".dl-inline {width: auto; margin:0; padding: 0}\n",
       ".dl-inline>dt, .dl-inline>dd {float: none; width: auto; display: inline-block}\n",
       ".dl-inline>dt::after {content: \":\\0020\"; padding-right: .5ex}\n",
       ".dl-inline>dt:not(:first-of-type) {padding-left: .5ex}\n",
       "</style><dl class=dl-inline><dt>yellow</dt><dd>0.815546563130594</dd><dt>blue</dt><dd>0.599698493779794</dd><dt>turquoise</dt><dd>0.541696285636145</dd><dt>green</dt><dd>0.663102543940125</dd><dt>brown</dt><dd>-0.0137395359242012</dd><dt>red</dt><dd>0.493805915780781</dd></dl>\n"
      ],
      "text/latex": [
       "\\begin{description*}\n",
       "\\item[yellow] 0.815546563130594\n",
       "\\item[blue] 0.599698493779794\n",
       "\\item[turquoise] 0.541696285636145\n",
       "\\item[green] 0.663102543940125\n",
       "\\item[brown] -0.0137395359242012\n",
       "\\item[red] 0.493805915780781\n",
       "\\end{description*}\n"
      ],
      "text/markdown": [
       "yellow\n",
       ":   0.815546563130594blue\n",
       ":   0.599698493779794turquoise\n",
       ":   0.541696285636145green\n",
       ":   0.663102543940125brown\n",
       ":   -0.0137395359242012red\n",
       ":   0.493805915780781\n",
       "\n"
      ],
      "text/plain": [
       "     yellow        blue   turquoise       green       brown         red \n",
       " 0.81554656  0.59969849  0.54169629  0.66310254 -0.01373954  0.49380592 "
      ]
     },
     "metadata": {},
     "output_type": "display_data"
    }
   ],
   "source": [
    "# Grabe the correlation table and eventually save it\n",
    "mt_cor <- GetModuleTraitCorrelation(seurat_obj)\n",
    "print(names(mt_cor))\n",
    "mt_cor$cor$all_cells"
   ]
  },
  {
   "cell_type": "code",
   "execution_count": 11,
   "id": "9e5d7b8a",
   "metadata": {
    "vscode": {
     "languageId": "r"
    }
   },
   "outputs": [
    {
     "name": "stdout",
     "output_type": "stream",
     "text": [
      "     yellow        blue   turquoise       green       brown         red \n",
      " 0.81554656  0.59969849  0.54169629  0.66310254 -0.01373954  0.49380592 \n"
     ]
    }
   ],
   "source": [
    "print(mt_cor$cor$all_cells)"
   ]
  },
  {
   "cell_type": "code",
   "execution_count": 77,
   "id": "68d6043f-ed3b-49a6-ad31-7ee4e3504054",
   "metadata": {
    "execution": {
     "iopub.execute_input": "2023-01-20T03:29:25.858008Z",
     "iopub.status.busy": "2023-01-20T03:29:25.855964Z",
     "iopub.status.idle": "2023-01-20T03:29:25.885249Z",
     "shell.execute_reply": "2023-01-20T03:29:25.882666Z"
    },
    "tags": [],
    "vscode": {
     "languageId": "r"
    }
   },
   "outputs": [
    {
     "ename": "ERROR",
     "evalue": "Error in corr_df[, 1:3]: incorrect number of dimensions\n",
     "output_type": "error",
     "traceback": [
      "Error in corr_df[, 1:3]: incorrect number of dimensions\nTraceback:\n"
     ]
    }
   ],
   "source": [
    "# Grab and order the correlation dataframe to match the built-in function ordering\n",
    "corr_df <- mt_cor$cor$all_cells\n",
    "corr_df <- corr_df[, 1:3]"
   ]
  },
  {
   "cell_type": "code",
   "execution_count": 79,
   "id": "ab08fe70-0237-4637-8846-df3f2ec9ab73",
   "metadata": {
    "execution": {
     "iopub.execute_input": "2023-01-20T03:29:46.236590Z",
     "iopub.status.busy": "2023-01-20T03:29:46.234439Z",
     "iopub.status.idle": "2023-01-20T03:29:46.284963Z",
     "shell.execute_reply": "2023-01-20T03:29:46.282247Z"
    },
    "tags": [],
    "vscode": {
     "languageId": "r"
    }
   },
   "outputs": [
    {
     "ename": "ERROR",
     "evalue": "Error in if (is.null(yLabels) & (!is.null(xLabels)) & (dim(Matrix)[1] == : argument is of length zero\n",
     "output_type": "error",
     "traceback": [
      "Error in if (is.null(yLabels) & (!is.null(xLabels)) & (dim(Matrix)[1] == : argument is of length zero\nTraceback:\n",
      "1. labeledHeatmap(Matrix = corr_df, xLabels = colnames(corr_df), \n .     yLabels = rownames(corr_df), ySymbols = rownames(corr_df), \n .     textMatrix = textMatrix, colorLabels = FALSE, colors = blueWhiteRed(50), \n .     cex.text = 1.2, cex.lab.x = 1, cex.lab.y = 1, zlim = c(-1, \n .         1), main = paste(\"Module-Cell type relationships\"), )"
     ]
    }
   ],
   "source": [
    "# Display the correlation values within a heatmap plot\n",
    "options(repr.plot.width=16, repr.plot.height=8)\n",
    "png(sprintf(\"%s_ModuleCelltypeCorrelationsAllCells.png\", OUT), widt=1200, height=800)\n",
    "par(mar=c(10,6,4,1))\n",
    "textMatrix = paste(\n",
    "    signif(corr_df, 2), sep=\"\")\n",
    "dim(textMatrix) = dim(corr_df)\n",
    "labeledHeatmap(\n",
    "    Matrix=corr_df,\n",
    "    xLabels=colnames(corr_df),\n",
    "    yLabels=rownames(corr_df),\n",
    "    ySymbols=rownames(corr_df),\n",
    "    textMatrix=textMatrix,\n",
    "    colorLabels=FALSE,\n",
    "    colors=blueWhiteRed(50),\n",
    "    cex.text=1.2,\n",
    "    cex.lab.x=1,\n",
    "    cex.lab.y=1,\n",
    "    zlim=c(-1, 1),\n",
    "    main=paste(\"Module-Cell type relationships\"),\n",
    ")\n",
    "dev.off()"
   ]
  },
  {
   "cell_type": "code",
   "execution_count": 37,
   "id": "c7a70a0b-d29d-47a2-a9cb-a41b666ce5b0",
   "metadata": {
    "execution": {
     "iopub.execute_input": "2023-01-20T03:29:52.857684Z",
     "iopub.status.busy": "2023-01-20T03:29:52.855584Z",
     "iopub.status.idle": "2023-01-20T03:29:52.894959Z",
     "shell.execute_reply": "2023-01-20T03:29:52.892271Z"
    },
    "tags": [],
    "vscode": {
     "languageId": "r"
    }
   },
   "outputs": [
    {
     "ename": "ERROR",
     "evalue": "Error in PlotModuleTraitCorrelation(seurat_obj, label = \"fdr\", label_symbol = \"numeric\", : ModuleTraitCorrelation was run only for one trait. Heatmaps are not suggested for visualizing only one variable!\n",
     "output_type": "error",
     "traceback": [
      "Error in PlotModuleTraitCorrelation(seurat_obj, label = \"fdr\", label_symbol = \"numeric\", : ModuleTraitCorrelation was run only for one trait. Heatmaps are not suggested for visualizing only one variable!\nTraceback:\n",
      "1. PlotModuleTraitCorrelation(seurat_obj, label = \"fdr\", label_symbol = \"numeric\", \n .     text_size = 5, text_digits = 3, combine = TRUE, plot_max = 0.4)",
      "2. stop(\"ModuleTraitCorrelation was run only for one trait. Heatmaps are not suggested for visualizing only one variable!\")"
     ]
    }
   ],
   "source": [
    "# Plot a heatmap of p-values for correlations across cell-types\n",
    "options(repr.plot.width=12, repr.plot.height=12)\n",
    "png(sprintf(\"%s_ModuleCelltypeCorrelationFDRValues.png\", OUT), widt=1000, height=1200)\n",
    "PlotModuleTraitCorrelation(\n",
    "  seurat_obj,\n",
    "  label = 'fdr',\n",
    "  label_symbol = 'numeric',\n",
    "  text_size = 5,\n",
    "  text_digits = 3,\n",
    "  combine=TRUE,\n",
    "  plot_max = 0.4\n",
    ")\n",
    "dev.off()"
   ]
  },
  {
   "cell_type": "code",
   "execution_count": 22,
   "id": "1e08f32e-9477-435c-beb7-edd79c78ca8e",
   "metadata": {
    "execution": {
     "iopub.execute_input": "2022-10-18T00:00:42.318441Z",
     "iopub.status.busy": "2022-10-18T00:00:42.316691Z",
     "iopub.status.idle": "2022-10-18T00:00:43.140269Z",
     "shell.execute_reply": "2022-10-18T00:00:43.138315Z"
    },
    "tags": [],
    "vscode": {
     "languageId": "r"
    }
   },
   "outputs": [
    {
     "name": "stdout",
     "output_type": "stream",
     "text": [
      "[1] \"all_cells\"\n",
      "[1] \"data.SC.beta.1\" \"data.SC.beta.2\" \"data.SC.beta.3\"\n",
      "[1] \"SC.beta\"\n",
      "[1] \"data.SC.beta.1\" \"data.SC.beta.2\" \"data.SC.beta.3\"\n"
     ]
    },
    {
     "data": {
      "text/html": [
       "<strong>png:</strong> 2"
      ],
      "text/latex": [
       "\\textbf{png:} 2"
      ],
      "text/markdown": [
       "**png:** 2"
      ],
      "text/plain": [
       "png \n",
       "  2 "
      ]
     },
     "metadata": {},
     "output_type": "display_data"
    }
   ],
   "source": [
    "options(repr.plot.width=12, repr.plot.height=12)\n",
    "png(sprintf(\"%s_ModuleCelltypeCorrelationFDRStars.png\", OUT), widt=1000, height=1200)\n",
    "PlotModuleTraitCorrelation(\n",
    "  seurat_obj,\n",
    "  label = 'fdr',\n",
    "  label_symbol = 'stars',\n",
    "  text_size = 5,\n",
    "  text_digits = 3,\n",
    "  combine=TRUE,\n",
    "  plot_max = 0.4\n",
    ")\n",
    "dev.off()"
   ]
  },
  {
   "cell_type": "markdown",
   "id": "9cccfe25-6846-48dd-9614-0a92d3e168c5",
   "metadata": {},
   "source": [
    "# Module analysis"
   ]
  },
  {
   "cell_type": "code",
   "execution_count": 80,
   "id": "415e3e8a-af04-4882-9ede-302b38afc3a0",
   "metadata": {
    "execution": {
     "iopub.execute_input": "2023-01-23T04:31:26.424856Z",
     "iopub.status.busy": "2023-01-23T04:31:26.422937Z",
     "iopub.status.idle": "2023-01-23T04:31:26.440427Z",
     "shell.execute_reply": "2023-01-23T04:31:26.438322Z"
    },
    "tags": [],
    "vscode": {
     "languageId": "r"
    }
   },
   "outputs": [],
   "source": [
    "modules <- GetModules(seurat_obj)"
   ]
  },
  {
   "cell_type": "code",
   "execution_count": 81,
   "id": "736e6c2d-d109-4899-9de2-94d7cdff8894",
   "metadata": {
    "execution": {
     "iopub.execute_input": "2023-01-23T04:31:26.444894Z",
     "iopub.status.busy": "2023-01-23T04:31:26.443225Z",
     "iopub.status.idle": "2023-01-23T04:31:26.610009Z",
     "shell.execute_reply": "2023-01-23T04:31:26.607762Z"
    },
    "tags": [],
    "vscode": {
     "languageId": "r"
    }
   },
   "outputs": [],
   "source": [
    "write.table(modules, sprintf(\"%s_modules.tsv\", OUT), sep=\"\\t\")"
   ]
  },
  {
   "cell_type": "markdown",
   "id": "04b4831c-2238-4a2c-9917-d030ac949351",
   "metadata": {},
   "source": [
    "# Motif analysis"
   ]
  },
  {
   "cell_type": "code",
   "execution_count": 13,
   "id": "cb2362c0-f445-41c3-b42f-aebc190ebb0c",
   "metadata": {
    "execution": {
     "iopub.execute_input": "2023-01-23T04:16:39.490427Z",
     "iopub.status.busy": "2023-01-23T04:16:39.488517Z",
     "iopub.status.idle": "2023-01-23T04:17:19.270584Z",
     "shell.execute_reply": "2023-01-23T04:17:19.267998Z"
    },
    "tags": [],
    "vscode": {
     "languageId": "r"
    }
   },
   "outputs": [
    {
     "name": "stderr",
     "output_type": "stream",
     "text": [
      "Loading required package: stats4\n",
      "\n",
      "Loading required package: BiocGenerics\n",
      "\n",
      "\n",
      "Attaching package: ‘BiocGenerics’\n",
      "\n",
      "\n",
      "The following objects are masked from ‘package:dplyr’:\n",
      "\n",
      "    combine, intersect, setdiff, union\n",
      "\n",
      "\n",
      "The following objects are masked from ‘package:stats’:\n",
      "\n",
      "    IQR, mad, sd, var, xtabs\n",
      "\n",
      "\n",
      "The following objects are masked from ‘package:base’:\n",
      "\n",
      "    anyDuplicated, append, as.data.frame, basename, cbind, colnames,\n",
      "    dirname, do.call, duplicated, eval, evalq, Filter, Find, get, grep,\n",
      "    grepl, intersect, is.unsorted, lapply, Map, mapply, match, mget,\n",
      "    order, paste, pmax, pmax.int, pmin, pmin.int, Position, rank,\n",
      "    rbind, Reduce, rownames, sapply, setdiff, sort, table, tapply,\n",
      "    union, unique, unsplit, which.max, which.min\n",
      "\n",
      "\n",
      "Loading required package: S4Vectors\n",
      "\n",
      "\n",
      "Attaching package: ‘S4Vectors’\n",
      "\n",
      "\n",
      "The following objects are masked from ‘package:dplyr’:\n",
      "\n",
      "    first, rename\n",
      "\n",
      "\n",
      "The following object is masked from ‘package:tidyr’:\n",
      "\n",
      "    expand\n",
      "\n",
      "\n",
      "The following objects are masked from ‘package:base’:\n",
      "\n",
      "    expand.grid, I, unname\n",
      "\n",
      "\n",
      "Loading required package: IRanges\n",
      "\n",
      "\n",
      "Attaching package: ‘IRanges’\n",
      "\n",
      "\n",
      "The following objects are masked from ‘package:dplyr’:\n",
      "\n",
      "    collapse, desc, slice\n",
      "\n",
      "\n",
      "The following object is masked from ‘package:purrr’:\n",
      "\n",
      "    reduce\n",
      "\n",
      "\n",
      "The following object is masked from ‘package:sp’:\n",
      "\n",
      "    %over%\n",
      "\n",
      "\n",
      "Loading required package: GenomeInfoDb\n",
      "\n",
      "Loading required package: ensembldb\n",
      "\n",
      "Loading required package: GenomicFeatures\n",
      "\n",
      "Loading required package: AnnotationDbi\n",
      "\n",
      "Loading required package: Biobase\n",
      "\n",
      "Welcome to Bioconductor\n",
      "\n",
      "    Vignettes contain introductory material; view with\n",
      "    'browseVignettes()'. To cite Bioconductor, see\n",
      "    'citation(\"Biobase\")', and for packages 'citation(\"pkgname\")'.\n",
      "\n",
      "\n",
      "\n",
      "Attaching package: ‘AnnotationDbi’\n",
      "\n",
      "\n",
      "The following object is masked from ‘package:dplyr’:\n",
      "\n",
      "    select\n",
      "\n",
      "\n",
      "Loading required package: AnnotationFilter\n",
      "\n",
      "\n",
      "Attaching package: 'ensembldb'\n",
      "\n",
      "\n",
      "The following object is masked from 'package:dplyr':\n",
      "\n",
      "    filter\n",
      "\n",
      "\n",
      "The following object is masked from 'package:stats':\n",
      "\n",
      "    filter\n",
      "\n",
      "\n"
     ]
    }
   ],
   "source": [
    "# packages for TF motif analysis\n",
    "library(JASPAR2020)\n",
    "library(motifmatchr)\n",
    "library(TFBSTools)\n",
    "library(GenomicRanges)\n",
    "library(EnsDb.Hsapiens.v86)"
   ]
  },
  {
   "cell_type": "code",
   "execution_count": 14,
   "id": "c9380bcd-3957-478d-8766-0b3cc1bf9104",
   "metadata": {
    "execution": {
     "iopub.execute_input": "2023-01-23T04:17:19.491448Z",
     "iopub.status.busy": "2023-01-23T04:17:19.489175Z",
     "iopub.status.idle": "2023-01-23T04:17:19.514159Z",
     "shell.execute_reply": "2023-01-23T04:17:19.511585Z"
    },
    "tags": [],
    "vscode": {
     "languageId": "r"
    }
   },
   "outputs": [],
   "source": [
    "MotifScan <- function(\n",
    "  seurat_obj,\n",
    "  species_genome, # hg38, mm10, etc...\n",
    "  pfm, # matrix set from JASPAR2020 for example\n",
    "  EnsDb, # Ensembl database such as EnsDb.Mmusculus.v79\n",
    "  wgcna_name=NULL\n",
    "){\n",
    "\n",
    "  if(is.null(wgcna_name)){wgcna_name <- seurat_obj@misc$active_wgcna}\n",
    "\n",
    "  # get a dataframe of just the motif name and the motif ID:\n",
    "  motif_df <- data.frame(\n",
    "    motif_name = purrr::map(1:length(pfm), function(i){pfm[[i]]@name}) %>% unlist,\n",
    "    motif_ID = purrr::map(1:length(pfm), function(i){pfm[[i]]@ID}) %>% unlist\n",
    "  )\n",
    "\n",
    "  # get promoters of protein coding genes from the given Ensdb\n",
    "  # note: everything breaks if I try to use X & Y chromosomes.\n",
    "  gene.promoters <- ensembldb::promoters(EnsDb, filter = ~ gene_biotype == \"protein_coding\") %>%\n",
    "    subset(seqnames %in% c(1:100))\n",
    "  gene.coords <- ensembldb::genes(EnsDb, filter = ~ gene_biotype == \"protein_coding\") %>%\n",
    "    subset(seqnames %in% c(1:100))\n",
    "\n",
    "  # add the gene name to the promoter object\n",
    "  gene.promoters$symbol <- gene.coords$symbol[match(gene.promoters$gene_id, names(gene.coords))]\n",
    "\n",
    "  # drop unnecessary chromosomes\n",
    "  gene.promoters <- keepSeqlevels(gene.promoters, value= levels(droplevels(seqnames(gene.promoters))))\n",
    "\n",
    "  # rename seqlevels to add 'chr', remove X&Y chromosomes because they break everything\n",
    "  old_levels <- levels(seqnames(gene.promoters))\n",
    "  new_levels <- ifelse(old_levels %in% c('X', 'Y'), old_levels, paste0('chr', old_levels))\n",
    "  gene.promoters <- renameSeqlevels(gene.promoters, new_levels)\n",
    "\n",
    "  # set the genome (not sure if we NEED to do this...)\n",
    "  genome(seqinfo(gene.promoters)) <- species_genome\n",
    "\n",
    "  # set up promoters object that only has the necessary info for motifmatchr\n",
    "  my_promoters <- GRanges(\n",
    "    seqnames =  droplevels(seqnames(gene.promoters)),\n",
    "    IRanges(\n",
    "      start = start(gene.promoters),\n",
    "      end = end(gene.promoters)\n",
    "    ),\n",
    "    symbol = gene.promoters$symbol,\n",
    "    genome=species_genome\n",
    "  )\n",
    "\n",
    "  # scan these promoters for motifs:\n",
    "  print('Matching motifs...')\n",
    "  motif_ix <- motifmatchr::matchMotifs(pfm, my_promoters, genome=species_genome)\n",
    "\n",
    "  # get the matches\n",
    "  tf_match <- motifmatchr::motifMatches(motif_ix)\n",
    "  rownames(tf_match) <- my_promoters$symbol\n",
    "\n",
    "  # use motif names as the column names:\n",
    "  colnames(tf_match) <- motif_df$motif_name\n",
    "\n",
    "  # only keep genes that are in the Seurat object and in the given EnsDb:\n",
    "  gene_list <- rownames(seurat_obj)\n",
    "  gene_list <- gene_list[gene_list %in% rownames(tf_match)]\n",
    "  tf_match <- tf_match[gene_list,]\n",
    "\n",
    "  # get list of target genes for each TF:\n",
    "  print('Getting TF target genes...')\n",
    "  tfs <- motif_df$motif_name\n",
    "  tf_targets <- list()\n",
    "  n_targets <- list()\n",
    "  for(cur_tf in tfs){\n",
    "    tf_targets[[cur_tf]] <- names(tf_match[,cur_tf][tf_match[,cur_tf]])\n",
    "    n_targets[[cur_tf]] <- length(tf_targets[[cur_tf]] )\n",
    "  }\n",
    "  n_targets <- unlist(n_targets)\n",
    "\n",
    "  # add number of target genes to motif df\n",
    "  motif_df$n_targets <- n_targets\n",
    "\n",
    "  # add info to seurat object\n",
    "  seurat_obj <- SetMotifMatrix(seurat_obj, tf_match)\n",
    "  seurat_obj <- SetMotifs(seurat_obj, motif_df)\n",
    "  seurat_obj <- SetMotifTargets(seurat_obj, tf_targets)\n",
    "  seurat_obj <- SetPFMList(seurat_obj, pfm)\n",
    "\n",
    "  seurat_obj\n",
    "}"
   ]
  },
  {
   "cell_type": "code",
   "execution_count": 15,
   "id": "e4fb30c5-24c2-4c56-a995-3dbd1561a591",
   "metadata": {
    "execution": {
     "iopub.execute_input": "2023-01-23T04:17:19.520055Z",
     "iopub.status.busy": "2023-01-23T04:17:19.517825Z",
     "iopub.status.idle": "2023-01-23T04:17:19.540007Z",
     "shell.execute_reply": "2023-01-23T04:17:19.537501Z"
    },
    "tags": [],
    "vscode": {
     "languageId": "r"
    }
   },
   "outputs": [],
   "source": [
    "#' Displays the top n TFs in a set of modules as a bar plot\n",
    "#'\n",
    "#' @param seurat_obj A Seurat object\n",
    "#' @param wgcna_name The name of the hdWGCNA experiment in the seurat_obj@misc slot\n",
    "#' @keywords scRNA-seq\n",
    "#' @export\n",
    "#' @examples\n",
    "#' MotifOverlapBarPlot\n",
    "MotifOverlapBarPlot <- function(\n",
    "  seurat_obj,\n",
    "  n_tfs = 10,\n",
    "  plot_size = c(5,6),\n",
    "  outdir = \"MotifOverlaps/\",\n",
    "  motif_font = 'helvetica_regular',\n",
    "  module_names = NULL,\n",
    "  wgcna_name=NULL\n",
    "){\n",
    "\n",
    "  if(is.null(wgcna_name)){wgcna_name <- seurat_obj@misc$active_wgcna}\n",
    "\n",
    "  # make output dir if it doesn't exist:\n",
    "  if(!dir.exists(outdir)){dir.create(outdir)}\n",
    "\n",
    "  # get Modules\n",
    "  modules <- GetModules(seurat_obj)\n",
    "  mods <- levels(modules$module)\n",
    "  mods <- mods[mods != 'grey']\n",
    "\n",
    "  if(is.null(module_names)){module_names <- mods}\n",
    "\n",
    "  # get overlap info from Seurat obj\n",
    "  overlap_df <- GetMotifOverlap(seurat_obj, wgcna_name)\n",
    "  motif_df <- GetMotifs(seurat_obj)\n",
    "\n",
    "  # get pfm list from Seurat obj\n",
    "  pfm <- GetPFMList(seurat_obj)\n",
    "\n",
    "  # add motif ID to the overlap_df\n",
    "  overlap_df$motif_ID <- motif_df$motif_ID[match(overlap_df$tf, motif_df$motif_name)]\n",
    "\n",
    "  # subset by the modules that we are using:\n",
    "  overlap_df <- overlap_df %>% subset(module %in% module_names)\n",
    "\n",
    "  for(cur_mod in module_names){\n",
    "    print(cur_mod)\n",
    "    # get df for cur mod\n",
    "    plot_df <- overlap_df %>% subset(module == cur_mod) %>% top_n(n_tfs, wt=odds_ratio) %>%\n",
    "      arrange(desc(odds_ratio))\n",
    "\n",
    "    # make the barplot\n",
    "    p1 <- plot_df %>% ggplot(aes(y=reorder(tf, odds_ratio), fill=odds_ratio, x=odds_ratio)) +\n",
    "      geom_bar(stat='identity', width=0.7) + NoLegend() +\n",
    "      scale_fill_gradient(high=unique(plot_df$color), low='grey90') +\n",
    "      ylab('') + theme(\n",
    "        axis.line.y = element_blank(),\n",
    "        axis.text.y = element_blank(),\n",
    "        plot.margin = margin(\n",
    "          t = 0, r = 0, b = 0, l = 0\n",
    "        )\n",
    "      )\n",
    "\n",
    "    # make the motif logo plots:\n",
    "    plot_list <- list()\n",
    "    for(i in 1:nrow(plot_df)){\n",
    "      cur_id <- plot_df[i,'motif_ID']\n",
    "      cur_name <- plot_df[i,'tf']\n",
    "      plot_list[[cur_id]] <- ggplot() +\n",
    "        ggseqlogo::geom_logo( as.matrix(pfm[[cur_id]]), font=motif_font) +\n",
    "        ggseqlogo::theme_logo() +\n",
    "        xlab('') + ylab(cur_name) + theme(\n",
    "          axis.text.x=element_blank(),\n",
    "          axis.text.y=element_blank(),\n",
    "          axis.title.y = element_text(angle=0),\n",
    "          plot.margin = margin(t = 0,  # Top margin\n",
    "                                 r = 0,  # Right margin\n",
    "                                 b = 0,  # Bottom margin\n",
    "                                 l = 0) # Left margin\n",
    "        )\n",
    "    }\n",
    "\n",
    "    # wrap the motif logos\n",
    "    patch1 <- wrap_plots(plot_list, ncol=1)\n",
    "\n",
    "    # assemble the plot with patchwork\n",
    "    outplot <- (patch1 | p1) +\n",
    "          plot_layout(ncol=2, widths=c(1,2)) +\n",
    "          plot_annotation(title=paste0('Motif overlaps with ', cur_mod),\n",
    "          theme = theme(plot.title=element_text(hjust=0.5))\n",
    "        )\n",
    "\n",
    "    pdf(paste0(outdir, '/', cur_mod, '_motif_overlaps.pdf'), width=plot_size[1], height=plot_size[2], useDingbats=FALSE)\n",
    "    print(outplot)\n",
    "    dev.off()\n",
    "\n",
    "  }\n",
    "\n",
    "}"
   ]
  },
  {
   "cell_type": "code",
   "execution_count": 16,
   "id": "a07ac0c4-5a67-4546-9b14-6369d85934d7",
   "metadata": {
    "execution": {
     "iopub.execute_input": "2023-01-23T04:17:19.545693Z",
     "iopub.status.busy": "2023-01-23T04:17:19.543537Z",
     "iopub.status.idle": "2023-01-23T04:17:54.842365Z",
     "shell.execute_reply": "2023-01-23T04:17:54.840296Z"
    },
    "tags": [],
    "vscode": {
     "languageId": "r"
    }
   },
   "outputs": [],
   "source": [
    "# get the pfm from JASPAR2020 using TFBSTools\n",
    "pfm_core <- TFBSTools::getMatrixSet(\n",
    "  x = JASPAR2020,\n",
    "  opts = list(collection = \"CORE\", tax_group = 'vertebrates', all_versions = FALSE)\n",
    ")"
   ]
  },
  {
   "cell_type": "code",
   "execution_count": 17,
   "id": "213056a5-df0f-45e1-9e98-486beb1f2bed",
   "metadata": {
    "execution": {
     "iopub.execute_input": "2023-01-23T04:17:54.846734Z",
     "iopub.status.busy": "2023-01-23T04:17:54.845106Z",
     "iopub.status.idle": "2023-01-23T04:29:12.027469Z",
     "shell.execute_reply": "2023-01-23T04:29:12.025516Z"
    },
    "tags": [],
    "vscode": {
     "languageId": "r"
    }
   },
   "outputs": [
    {
     "name": "stdout",
     "output_type": "stream",
     "text": [
      "[1] \"Matching motifs...\"\n"
     ]
    },
    {
     "name": "stderr",
     "output_type": "stream",
     "text": [
      "\n",
      "Attaching package: 'XVector'\n",
      "\n",
      "\n",
      "The following object is masked from 'package:purrr':\n",
      "\n",
      "    compact\n",
      "\n",
      "\n",
      "\n",
      "Attaching package: 'Biostrings'\n",
      "\n",
      "\n",
      "The following object is masked from 'package:base':\n",
      "\n",
      "    strsplit\n",
      "\n",
      "\n"
     ]
    },
    {
     "name": "stdout",
     "output_type": "stream",
     "text": [
      "[1] \"Getting TF target genes...\"\n"
     ]
    },
    {
     "data": {
      "text/html": [
       "<style>\n",
       ".list-inline {list-style: none; margin:0; padding: 0}\n",
       ".list-inline>li {display: inline-block}\n",
       ".list-inline>li:not(:last-child)::after {content: \"\\00b7\"; padding: 0 .5ex}\n",
       "</style>\n",
       "<ol class=list-inline><li>17816</li><li>746</li></ol>\n"
      ],
      "text/latex": [
       "\\begin{enumerate*}\n",
       "\\item 17816\n",
       "\\item 746\n",
       "\\end{enumerate*}\n"
      ],
      "text/markdown": [
       "1. 17816\n",
       "2. 746\n",
       "\n",
       "\n"
      ],
      "text/plain": [
       "[1] 17816   746"
      ]
     },
     "metadata": {},
     "output_type": "display_data"
    }
   ],
   "source": [
    "# run the motif scan with these settings for the mouse dataset\n",
    "seurat_obj <- MotifScan(\n",
    "  seurat_obj,\n",
    "  EnsDb = EnsDb.Hsapiens.v86,\n",
    "  species_genome = 'hg38',\n",
    "  pfm = pfm_core\n",
    ")\n",
    "dim(GetMotifMatrix(seurat_obj))"
   ]
  },
  {
   "cell_type": "code",
   "execution_count": 18,
   "id": "896fd1fc-1304-4ebf-8a93-be1f28bfcd48",
   "metadata": {
    "execution": {
     "iopub.execute_input": "2023-01-23T04:29:12.031926Z",
     "iopub.status.busy": "2023-01-23T04:29:12.030295Z",
     "iopub.status.idle": "2023-01-23T04:29:12.142356Z",
     "shell.execute_reply": "2023-01-23T04:29:12.140294Z"
    },
    "tags": [],
    "vscode": {
     "languageId": "r"
    }
   },
   "outputs": [
    {
     "data": {
      "text/plain": [
       "6 x 6 sparse Matrix of class \"lgCMatrix\"\n",
       "       Arnt Ahr::Arnt Ddit3::Cebpa Mecom FOXF2 FOXD1\n",
       "OR4F5     .         .            .     |     |     .\n",
       "OR4F29    .         .            |     |     .     .\n",
       "OR4F16    .         .            |     |     .     .\n",
       "SAMD11    .         |            |     .     .     .\n",
       "NOC2L     |         .            .     .     .     .\n",
       "KLHL17    .         |            .     .     .     |"
      ]
     },
     "metadata": {},
     "output_type": "display_data"
    }
   ],
   "source": [
    "GetMotifMatrix(seurat_obj)[1:6, 1:6]"
   ]
  },
  {
   "cell_type": "code",
   "execution_count": 19,
   "id": "aab95e08-cebd-4f27-b521-c2104937e929",
   "metadata": {
    "execution": {
     "iopub.execute_input": "2023-01-23T04:29:12.146908Z",
     "iopub.status.busy": "2023-01-23T04:29:12.145213Z",
     "iopub.status.idle": "2023-01-23T04:29:12.172942Z",
     "shell.execute_reply": "2023-01-23T04:29:12.170916Z"
    },
    "tags": [],
    "vscode": {
     "languageId": "r"
    }
   },
   "outputs": [
    {
     "data": {
      "text/html": [
       "<style>\n",
       ".list-inline {list-style: none; margin:0; padding: 0}\n",
       ".list-inline>li {display: inline-block}\n",
       ".list-inline>li:not(:last-child)::after {content: \"\\00b7\"; padding: 0 .5ex}\n",
       "</style>\n",
       "<ol class=list-inline><li>'OR4F5'</li><li>'TTLL10'</li><li>'SDF4'</li><li>'ATAD3C'</li><li>'MIB2'</li><li>'CDK11B'</li></ol>\n"
      ],
      "text/latex": [
       "\\begin{enumerate*}\n",
       "\\item 'OR4F5'\n",
       "\\item 'TTLL10'\n",
       "\\item 'SDF4'\n",
       "\\item 'ATAD3C'\n",
       "\\item 'MIB2'\n",
       "\\item 'CDK11B'\n",
       "\\end{enumerate*}\n"
      ],
      "text/markdown": [
       "1. 'OR4F5'\n",
       "2. 'TTLL10'\n",
       "3. 'SDF4'\n",
       "4. 'ATAD3C'\n",
       "5. 'MIB2'\n",
       "6. 'CDK11B'\n",
       "\n",
       "\n"
      ],
      "text/plain": [
       "[1] \"OR4F5\"  \"TTLL10\" \"SDF4\"   \"ATAD3C\" \"MIB2\"   \"CDK11B\""
      ]
     },
     "metadata": {},
     "output_type": "display_data"
    }
   ],
   "source": [
    "# TF target genes\n",
    "target_genes <- GetMotifTargets(seurat_obj)\n",
    "\n",
    "# check target genes for one TF:\n",
    "head(target_genes$SOX9)"
   ]
  },
  {
   "cell_type": "code",
   "execution_count": 20,
   "id": "dd44dafa-e20f-4ffa-9a04-916997a2d322",
   "metadata": {
    "execution": {
     "iopub.execute_input": "2023-01-23T04:29:12.177611Z",
     "iopub.status.busy": "2023-01-23T04:29:12.175922Z",
     "iopub.status.idle": "2023-01-23T04:29:12.956199Z",
     "shell.execute_reply": "2023-01-23T04:29:12.954101Z"
    },
    "tags": [],
    "vscode": {
     "languageId": "r"
    }
   },
   "outputs": [],
   "source": [
    "# TestGeneOverlap\n",
    "library(GeneOverlap)\n"
   ]
  },
  {
   "cell_type": "code",
   "execution_count": 21,
   "id": "f5b5a4bf-4db6-49c6-a6d1-fc56e946e7ef",
   "metadata": {
    "execution": {
     "iopub.execute_input": "2023-01-23T04:29:12.960702Z",
     "iopub.status.busy": "2023-01-23T04:29:12.959029Z",
     "iopub.status.idle": "2023-01-23T04:29:28.901542Z",
     "shell.execute_reply": "2023-01-23T04:29:28.899501Z"
    },
    "tags": [],
    "vscode": {
     "languageId": "r"
    }
   },
   "outputs": [
    {
     "data": {
      "text/html": [
       "<table class=\"dataframe\">\n",
       "<caption>A data.frame: 6 × 9</caption>\n",
       "<thead>\n",
       "\t<tr><th></th><th scope=col>module</th><th scope=col>tf</th><th scope=col>color</th><th scope=col>odds_ratio</th><th scope=col>pval</th><th scope=col>fdr</th><th scope=col>Significance</th><th scope=col>Jaccard</th><th scope=col>size_intersection</th></tr>\n",
       "\t<tr><th></th><th scope=col>&lt;fct&gt;</th><th scope=col>&lt;chr&gt;</th><th scope=col>&lt;chr&gt;</th><th scope=col>&lt;dbl&gt;</th><th scope=col>&lt;dbl&gt;</th><th scope=col>&lt;dbl&gt;</th><th scope=col>&lt;chr&gt;</th><th scope=col>&lt;dbl&gt;</th><th scope=col>&lt;dbl&gt;</th></tr>\n",
       "</thead>\n",
       "<tbody>\n",
       "\t<tr><th scope=row>Arnt</th><td>yellow</td><td>Arnt        </td><td>yellow</td><td>2.193799</td><td>5.778874e-06</td><td>1.452344e-05</td><td>***</td><td>0.009727626</td><td>50</td></tr>\n",
       "\t<tr><th scope=row>Ahr::Arnt</th><td>yellow</td><td>Ahr::Arnt   </td><td>yellow</td><td>2.573329</td><td>1.627436e-09</td><td>6.268848e-09</td><td>***</td><td>0.010409031</td><td>71</td></tr>\n",
       "\t<tr><th scope=row>Ddit3::Cebpa</th><td>yellow</td><td>Ddit3::Cebpa</td><td>yellow</td><td>1.368993</td><td>7.753771e-02</td><td>9.817788e-02</td><td>   </td><td>0.006720742</td><td>29</td></tr>\n",
       "\t<tr><th scope=row>Mecom</th><td>yellow</td><td>Mecom       </td><td>yellow</td><td>1.677371</td><td>3.047744e-03</td><td>5.153647e-03</td><td>** </td><td>0.007902164</td><td>42</td></tr>\n",
       "\t<tr><th scope=row>FOXF2</th><td>yellow</td><td>FOXF2       </td><td>yellow</td><td>1.442171</td><td>4.128123e-02</td><td>5.497614e-02</td><td>   </td><td>0.007022164</td><td>32</td></tr>\n",
       "\t<tr><th scope=row>FOXD1</th><td>yellow</td><td>FOXD1       </td><td>yellow</td><td>1.480708</td><td>4.858949e-02</td><td>6.383521e-02</td><td>   </td><td>0.007175660</td><td>25</td></tr>\n",
       "</tbody>\n",
       "</table>\n"
      ],
      "text/latex": [
       "A data.frame: 6 × 9\n",
       "\\begin{tabular}{r|lllllllll}\n",
       "  & module & tf & color & odds\\_ratio & pval & fdr & Significance & Jaccard & size\\_intersection\\\\\n",
       "  & <fct> & <chr> & <chr> & <dbl> & <dbl> & <dbl> & <chr> & <dbl> & <dbl>\\\\\n",
       "\\hline\n",
       "\tArnt & yellow & Arnt         & yellow & 2.193799 & 5.778874e-06 & 1.452344e-05 & *** & 0.009727626 & 50\\\\\n",
       "\tAhr::Arnt & yellow & Ahr::Arnt    & yellow & 2.573329 & 1.627436e-09 & 6.268848e-09 & *** & 0.010409031 & 71\\\\\n",
       "\tDdit3::Cebpa & yellow & Ddit3::Cebpa & yellow & 1.368993 & 7.753771e-02 & 9.817788e-02 &     & 0.006720742 & 29\\\\\n",
       "\tMecom & yellow & Mecom        & yellow & 1.677371 & 3.047744e-03 & 5.153647e-03 & **  & 0.007902164 & 42\\\\\n",
       "\tFOXF2 & yellow & FOXF2        & yellow & 1.442171 & 4.128123e-02 & 5.497614e-02 &     & 0.007022164 & 32\\\\\n",
       "\tFOXD1 & yellow & FOXD1        & yellow & 1.480708 & 4.858949e-02 & 6.383521e-02 &     & 0.007175660 & 25\\\\\n",
       "\\end{tabular}\n"
      ],
      "text/markdown": [
       "\n",
       "A data.frame: 6 × 9\n",
       "\n",
       "| <!--/--> | module &lt;fct&gt; | tf &lt;chr&gt; | color &lt;chr&gt; | odds_ratio &lt;dbl&gt; | pval &lt;dbl&gt; | fdr &lt;dbl&gt; | Significance &lt;chr&gt; | Jaccard &lt;dbl&gt; | size_intersection &lt;dbl&gt; |\n",
       "|---|---|---|---|---|---|---|---|---|---|\n",
       "| Arnt | yellow | Arnt         | yellow | 2.193799 | 5.778874e-06 | 1.452344e-05 | *** | 0.009727626 | 50 |\n",
       "| Ahr::Arnt | yellow | Ahr::Arnt    | yellow | 2.573329 | 1.627436e-09 | 6.268848e-09 | *** | 0.010409031 | 71 |\n",
       "| Ddit3::Cebpa | yellow | Ddit3::Cebpa | yellow | 1.368993 | 7.753771e-02 | 9.817788e-02 | <!----> | 0.006720742 | 29 |\n",
       "| Mecom | yellow | Mecom        | yellow | 1.677371 | 3.047744e-03 | 5.153647e-03 | **  | 0.007902164 | 42 |\n",
       "| FOXF2 | yellow | FOXF2        | yellow | 1.442171 | 4.128123e-02 | 5.497614e-02 | <!----> | 0.007022164 | 32 |\n",
       "| FOXD1 | yellow | FOXD1        | yellow | 1.480708 | 4.858949e-02 | 6.383521e-02 | <!----> | 0.007175660 | 25 |\n",
       "\n"
      ],
      "text/plain": [
       "             module tf           color  odds_ratio pval         fdr         \n",
       "Arnt         yellow Arnt         yellow 2.193799   5.778874e-06 1.452344e-05\n",
       "Ahr::Arnt    yellow Ahr::Arnt    yellow 2.573329   1.627436e-09 6.268848e-09\n",
       "Ddit3::Cebpa yellow Ddit3::Cebpa yellow 1.368993   7.753771e-02 9.817788e-02\n",
       "Mecom        yellow Mecom        yellow 1.677371   3.047744e-03 5.153647e-03\n",
       "FOXF2        yellow FOXF2        yellow 1.442171   4.128123e-02 5.497614e-02\n",
       "FOXD1        yellow FOXD1        yellow 1.480708   4.858949e-02 6.383521e-02\n",
       "             Significance Jaccard     size_intersection\n",
       "Arnt         ***          0.009727626 50               \n",
       "Ahr::Arnt    ***          0.010409031 71               \n",
       "Ddit3::Cebpa              0.006720742 29               \n",
       "Mecom        **           0.007902164 42               \n",
       "FOXF2                     0.007022164 32               \n",
       "FOXD1                     0.007175660 25               "
      ]
     },
     "metadata": {},
     "output_type": "display_data"
    }
   ],
   "source": [
    "# overlap between modules & TF target genes:\n",
    "seurat_obj<- OverlapModulesMotifs(seurat_obj)\n",
    "\n",
    "# look at the overlap data\n",
    "head(GetMotifOverlap(seurat_obj))"
   ]
  },
  {
   "cell_type": "code",
   "execution_count": 22,
   "id": "382763db-f15f-412b-9c12-6170d68f6ea4",
   "metadata": {
    "execution": {
     "iopub.execute_input": "2023-01-23T04:29:28.905947Z",
     "iopub.status.busy": "2023-01-23T04:29:28.904287Z",
     "iopub.status.idle": "2023-01-23T04:29:28.922298Z",
     "shell.execute_reply": "2023-01-23T04:29:28.920001Z"
    },
    "tags": [],
    "vscode": {
     "languageId": "r"
    }
   },
   "outputs": [],
   "source": [
    "motif_overlap <- GetMotifOverlap(seurat_obj)"
   ]
  },
  {
   "cell_type": "code",
   "execution_count": 23,
   "id": "ad3b7135-b613-4614-b0be-ef96f70ca58f",
   "metadata": {
    "execution": {
     "iopub.execute_input": "2023-01-23T04:29:28.926838Z",
     "iopub.status.busy": "2023-01-23T04:29:28.925126Z",
     "iopub.status.idle": "2023-01-23T04:29:29.008915Z",
     "shell.execute_reply": "2023-01-23T04:29:29.006673Z"
    },
    "tags": [],
    "vscode": {
     "languageId": "r"
    }
   },
   "outputs": [],
   "source": [
    "write.table(motif_overlap, sprintf(\"%s_motif_overlap.tsv\", OUT), sep=\"\\t\")"
   ]
  },
  {
   "cell_type": "code",
   "execution_count": 32,
   "id": "85089e24-5fd1-4134-b3c9-04d1e23dc1f5",
   "metadata": {
    "execution": {
     "iopub.execute_input": "2023-01-23T04:31:11.210504Z",
     "iopub.status.busy": "2023-01-23T04:31:11.208523Z",
     "iopub.status.idle": "2023-01-23T04:31:26.420008Z",
     "shell.execute_reply": "2023-01-23T04:31:26.417682Z"
    },
    "tags": [],
    "vscode": {
     "languageId": "r"
    }
   },
   "outputs": [
    {
     "name": "stdout",
     "output_type": "stream",
     "text": [
      "[1] \"yellow\"\n"
     ]
    },
    {
     "name": "stderr",
     "output_type": "stream",
     "text": [
      "Warning message:\n",
      "\"`guides(<scale> = FALSE)` is deprecated. Please use `guides(<scale> = \"none\")` instead.\"\n",
      "Warning message:\n",
      "\"`guides(<scale> = FALSE)` is deprecated. Please use `guides(<scale> = \"none\")` instead.\"\n",
      "Warning message:\n",
      "\"`guides(<scale> = FALSE)` is deprecated. Please use `guides(<scale> = \"none\")` instead.\"\n",
      "Warning message:\n",
      "\"`guides(<scale> = FALSE)` is deprecated. Please use `guides(<scale> = \"none\")` instead.\"\n",
      "Warning message:\n",
      "\"`guides(<scale> = FALSE)` is deprecated. Please use `guides(<scale> = \"none\")` instead.\"\n",
      "Warning message:\n",
      "\"`guides(<scale> = FALSE)` is deprecated. Please use `guides(<scale> = \"none\")` instead.\"\n",
      "Warning message:\n",
      "\"`guides(<scale> = FALSE)` is deprecated. Please use `guides(<scale> = \"none\")` instead.\"\n",
      "Warning message:\n",
      "\"`guides(<scale> = FALSE)` is deprecated. Please use `guides(<scale> = \"none\")` instead.\"\n",
      "Warning message:\n",
      "\"`guides(<scale> = FALSE)` is deprecated. Please use `guides(<scale> = \"none\")` instead.\"\n",
      "Warning message:\n",
      "\"`guides(<scale> = FALSE)` is deprecated. Please use `guides(<scale> = \"none\")` instead.\"\n"
     ]
    },
    {
     "name": "stdout",
     "output_type": "stream",
     "text": [
      "[1] \"turquoise\"\n"
     ]
    },
    {
     "name": "stderr",
     "output_type": "stream",
     "text": [
      "Warning message:\n",
      "\"`guides(<scale> = FALSE)` is deprecated. Please use `guides(<scale> = \"none\")` instead.\"\n",
      "Warning message:\n",
      "\"`guides(<scale> = FALSE)` is deprecated. Please use `guides(<scale> = \"none\")` instead.\"\n",
      "Warning message:\n",
      "\"`guides(<scale> = FALSE)` is deprecated. Please use `guides(<scale> = \"none\")` instead.\"\n",
      "Warning message:\n",
      "\"`guides(<scale> = FALSE)` is deprecated. Please use `guides(<scale> = \"none\")` instead.\"\n",
      "Warning message:\n",
      "\"`guides(<scale> = FALSE)` is deprecated. Please use `guides(<scale> = \"none\")` instead.\"\n",
      "Warning message:\n",
      "\"`guides(<scale> = FALSE)` is deprecated. Please use `guides(<scale> = \"none\")` instead.\"\n",
      "Warning message:\n",
      "\"`guides(<scale> = FALSE)` is deprecated. Please use `guides(<scale> = \"none\")` instead.\"\n",
      "Warning message:\n",
      "\"`guides(<scale> = FALSE)` is deprecated. Please use `guides(<scale> = \"none\")` instead.\"\n",
      "Warning message:\n",
      "\"`guides(<scale> = FALSE)` is deprecated. Please use `guides(<scale> = \"none\")` instead.\"\n",
      "Warning message:\n",
      "\"`guides(<scale> = FALSE)` is deprecated. Please use `guides(<scale> = \"none\")` instead.\"\n"
     ]
    },
    {
     "name": "stdout",
     "output_type": "stream",
     "text": [
      "[1] \"black\"\n"
     ]
    },
    {
     "name": "stderr",
     "output_type": "stream",
     "text": [
      "Warning message:\n",
      "\"`guides(<scale> = FALSE)` is deprecated. Please use `guides(<scale> = \"none\")` instead.\"\n",
      "Warning message:\n",
      "\"`guides(<scale> = FALSE)` is deprecated. Please use `guides(<scale> = \"none\")` instead.\"\n",
      "Warning message:\n",
      "\"`guides(<scale> = FALSE)` is deprecated. Please use `guides(<scale> = \"none\")` instead.\"\n",
      "Warning message:\n",
      "\"`guides(<scale> = FALSE)` is deprecated. Please use `guides(<scale> = \"none\")` instead.\"\n",
      "Warning message:\n",
      "\"`guides(<scale> = FALSE)` is deprecated. Please use `guides(<scale> = \"none\")` instead.\"\n",
      "Warning message:\n",
      "\"`guides(<scale> = FALSE)` is deprecated. Please use `guides(<scale> = \"none\")` instead.\"\n",
      "Warning message:\n",
      "\"`guides(<scale> = FALSE)` is deprecated. Please use `guides(<scale> = \"none\")` instead.\"\n",
      "Warning message:\n",
      "\"`guides(<scale> = FALSE)` is deprecated. Please use `guides(<scale> = \"none\")` instead.\"\n",
      "Warning message:\n",
      "\"`guides(<scale> = FALSE)` is deprecated. Please use `guides(<scale> = \"none\")` instead.\"\n",
      "Warning message:\n",
      "\"`guides(<scale> = FALSE)` is deprecated. Please use `guides(<scale> = \"none\")` instead.\"\n"
     ]
    },
    {
     "name": "stdout",
     "output_type": "stream",
     "text": [
      "[1] \"pink\"\n"
     ]
    },
    {
     "name": "stderr",
     "output_type": "stream",
     "text": [
      "Warning message:\n",
      "\"`guides(<scale> = FALSE)` is deprecated. Please use `guides(<scale> = \"none\")` instead.\"\n",
      "Warning message:\n",
      "\"`guides(<scale> = FALSE)` is deprecated. Please use `guides(<scale> = \"none\")` instead.\"\n",
      "Warning message:\n",
      "\"`guides(<scale> = FALSE)` is deprecated. Please use `guides(<scale> = \"none\")` instead.\"\n",
      "Warning message:\n",
      "\"`guides(<scale> = FALSE)` is deprecated. Please use `guides(<scale> = \"none\")` instead.\"\n",
      "Warning message:\n",
      "\"`guides(<scale> = FALSE)` is deprecated. Please use `guides(<scale> = \"none\")` instead.\"\n",
      "Warning message:\n",
      "\"`guides(<scale> = FALSE)` is deprecated. Please use `guides(<scale> = \"none\")` instead.\"\n",
      "Warning message:\n",
      "\"`guides(<scale> = FALSE)` is deprecated. Please use `guides(<scale> = \"none\")` instead.\"\n",
      "Warning message:\n",
      "\"`guides(<scale> = FALSE)` is deprecated. Please use `guides(<scale> = \"none\")` instead.\"\n",
      "Warning message:\n",
      "\"`guides(<scale> = FALSE)` is deprecated. Please use `guides(<scale> = \"none\")` instead.\"\n",
      "Warning message:\n",
      "\"`guides(<scale> = FALSE)` is deprecated. Please use `guides(<scale> = \"none\")` instead.\"\n"
     ]
    },
    {
     "name": "stdout",
     "output_type": "stream",
     "text": [
      "[1] \"green\"\n"
     ]
    },
    {
     "name": "stderr",
     "output_type": "stream",
     "text": [
      "Warning message:\n",
      "\"`guides(<scale> = FALSE)` is deprecated. Please use `guides(<scale> = \"none\")` instead.\"\n",
      "Warning message:\n",
      "\"`guides(<scale> = FALSE)` is deprecated. Please use `guides(<scale> = \"none\")` instead.\"\n",
      "Warning message:\n",
      "\"`guides(<scale> = FALSE)` is deprecated. Please use `guides(<scale> = \"none\")` instead.\"\n",
      "Warning message:\n",
      "\"`guides(<scale> = FALSE)` is deprecated. Please use `guides(<scale> = \"none\")` instead.\"\n",
      "Warning message:\n",
      "\"`guides(<scale> = FALSE)` is deprecated. Please use `guides(<scale> = \"none\")` instead.\"\n",
      "Warning message:\n",
      "\"`guides(<scale> = FALSE)` is deprecated. Please use `guides(<scale> = \"none\")` instead.\"\n",
      "Warning message:\n",
      "\"`guides(<scale> = FALSE)` is deprecated. Please use `guides(<scale> = \"none\")` instead.\"\n",
      "Warning message:\n",
      "\"`guides(<scale> = FALSE)` is deprecated. Please use `guides(<scale> = \"none\")` instead.\"\n",
      "Warning message:\n",
      "\"`guides(<scale> = FALSE)` is deprecated. Please use `guides(<scale> = \"none\")` instead.\"\n",
      "Warning message:\n",
      "\"`guides(<scale> = FALSE)` is deprecated. Please use `guides(<scale> = \"none\")` instead.\"\n"
     ]
    },
    {
     "name": "stdout",
     "output_type": "stream",
     "text": [
      "[1] \"brown\"\n"
     ]
    },
    {
     "name": "stderr",
     "output_type": "stream",
     "text": [
      "Warning message:\n",
      "\"`guides(<scale> = FALSE)` is deprecated. Please use `guides(<scale> = \"none\")` instead.\"\n",
      "Warning message:\n",
      "\"`guides(<scale> = FALSE)` is deprecated. Please use `guides(<scale> = \"none\")` instead.\"\n",
      "Warning message:\n",
      "\"`guides(<scale> = FALSE)` is deprecated. Please use `guides(<scale> = \"none\")` instead.\"\n",
      "Warning message:\n",
      "\"`guides(<scale> = FALSE)` is deprecated. Please use `guides(<scale> = \"none\")` instead.\"\n",
      "Warning message:\n",
      "\"`guides(<scale> = FALSE)` is deprecated. Please use `guides(<scale> = \"none\")` instead.\"\n",
      "Warning message:\n",
      "\"`guides(<scale> = FALSE)` is deprecated. Please use `guides(<scale> = \"none\")` instead.\"\n",
      "Warning message:\n",
      "\"`guides(<scale> = FALSE)` is deprecated. Please use `guides(<scale> = \"none\")` instead.\"\n",
      "Warning message:\n",
      "\"`guides(<scale> = FALSE)` is deprecated. Please use `guides(<scale> = \"none\")` instead.\"\n",
      "Warning message:\n",
      "\"`guides(<scale> = FALSE)` is deprecated. Please use `guides(<scale> = \"none\")` instead.\"\n",
      "Warning message:\n",
      "\"`guides(<scale> = FALSE)` is deprecated. Please use `guides(<scale> = \"none\")` instead.\"\n"
     ]
    },
    {
     "name": "stdout",
     "output_type": "stream",
     "text": [
      "[1] \"blue\"\n"
     ]
    },
    {
     "name": "stderr",
     "output_type": "stream",
     "text": [
      "Warning message:\n",
      "\"`guides(<scale> = FALSE)` is deprecated. Please use `guides(<scale> = \"none\")` instead.\"\n",
      "Warning message:\n",
      "\"`guides(<scale> = FALSE)` is deprecated. Please use `guides(<scale> = \"none\")` instead.\"\n",
      "Warning message:\n",
      "\"`guides(<scale> = FALSE)` is deprecated. Please use `guides(<scale> = \"none\")` instead.\"\n",
      "Warning message:\n",
      "\"`guides(<scale> = FALSE)` is deprecated. Please use `guides(<scale> = \"none\")` instead.\"\n",
      "Warning message:\n",
      "\"`guides(<scale> = FALSE)` is deprecated. Please use `guides(<scale> = \"none\")` instead.\"\n",
      "Warning message:\n",
      "\"`guides(<scale> = FALSE)` is deprecated. Please use `guides(<scale> = \"none\")` instead.\"\n",
      "Warning message:\n",
      "\"`guides(<scale> = FALSE)` is deprecated. Please use `guides(<scale> = \"none\")` instead.\"\n",
      "Warning message:\n",
      "\"`guides(<scale> = FALSE)` is deprecated. Please use `guides(<scale> = \"none\")` instead.\"\n",
      "Warning message:\n",
      "\"`guides(<scale> = FALSE)` is deprecated. Please use `guides(<scale> = \"none\")` instead.\"\n",
      "Warning message:\n",
      "\"`guides(<scale> = FALSE)` is deprecated. Please use `guides(<scale> = \"none\")` instead.\"\n"
     ]
    },
    {
     "name": "stdout",
     "output_type": "stream",
     "text": [
      "[1] \"red\"\n"
     ]
    },
    {
     "name": "stderr",
     "output_type": "stream",
     "text": [
      "Warning message:\n",
      "\"`guides(<scale> = FALSE)` is deprecated. Please use `guides(<scale> = \"none\")` instead.\"\n",
      "Warning message:\n",
      "\"`guides(<scale> = FALSE)` is deprecated. Please use `guides(<scale> = \"none\")` instead.\"\n",
      "Warning message:\n",
      "\"`guides(<scale> = FALSE)` is deprecated. Please use `guides(<scale> = \"none\")` instead.\"\n",
      "Warning message:\n",
      "\"`guides(<scale> = FALSE)` is deprecated. Please use `guides(<scale> = \"none\")` instead.\"\n",
      "Warning message:\n",
      "\"`guides(<scale> = FALSE)` is deprecated. Please use `guides(<scale> = \"none\")` instead.\"\n",
      "Warning message:\n",
      "\"`guides(<scale> = FALSE)` is deprecated. Please use `guides(<scale> = \"none\")` instead.\"\n",
      "Warning message:\n",
      "\"`guides(<scale> = FALSE)` is deprecated. Please use `guides(<scale> = \"none\")` instead.\"\n",
      "Warning message:\n",
      "\"`guides(<scale> = FALSE)` is deprecated. Please use `guides(<scale> = \"none\")` instead.\"\n",
      "Warning message:\n",
      "\"`guides(<scale> = FALSE)` is deprecated. Please use `guides(<scale> = \"none\")` instead.\"\n",
      "Warning message:\n",
      "\"`guides(<scale> = FALSE)` is deprecated. Please use `guides(<scale> = \"none\")` instead.\"\n"
     ]
    }
   ],
   "source": [
    "# plot the top TFs overlapping with\n",
    "MotifOverlapBarPlot(\n",
    "  seurat_obj,\n",
    "  #motif_font = 'xkcd_regular',\n",
    "  outdir = 'analysis/MotifOverlaps/',\n",
    "  plot_size=c(5,6)\n",
    ")"
   ]
  },
  {
   "cell_type": "markdown",
   "id": "9f11fa7e-8c5f-4837-a4d9-3da1aa2dbf99",
   "metadata": {},
   "source": [
    "---"
   ]
  },
  {
   "cell_type": "markdown",
   "id": "3481a3e2-2c78-4cc5-8aba-721955405b36",
   "metadata": {},
   "source": [
    "# Scratch"
   ]
  }
 ],
 "metadata": {
  "kernelspec": {
   "display_name": "R 4.1.3 scverse",
   "language": "R",
   "name": "scverse-r413"
  },
  "language_info": {
   "codemirror_mode": "r",
   "file_extension": ".r",
   "mimetype": "text/x-r-source",
   "name": "R",
   "pygments_lexer": "r",
   "version": "4.1.3"
  }
 },
 "nbformat": 4,
 "nbformat_minor": 5
}
