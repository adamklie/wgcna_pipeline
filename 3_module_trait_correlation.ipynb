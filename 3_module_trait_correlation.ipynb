{
 "cells": [
  {
   "cell_type": "markdown",
   "id": "8b8fd414-754b-4ec2-a7c3-6b2938943f36",
   "metadata": {},
   "source": [
    "# High Dimensional Weighted Gene Correlation Network Analysis (hdWGCNA)"
   ]
  },
  {
   "cell_type": "markdown",
   "id": "735826b3-2c1a-4262-8a9f-4d6c7d2d0065",
   "metadata": {
    "tags": []
   },
   "source": [
    "**Authorship:**\n",
    "Adam Klie, *08/24/2022*\n",
    "***\n",
    "**Description:**\n",
    "Notebook to run a WGCNA on stimulated pancreatic islet multiome data (well just the RNA)\n",
    "***"
   ]
  },
  {
   "cell_type": "markdown",
   "id": "3c08a06a-0a20-439a-b96c-9a6036fd9542",
   "metadata": {
    "tags": []
   },
   "source": [
    "# Load packages and data"
   ]
  },
  {
   "cell_type": "code",
   "execution_count": 2,
   "id": "7e7edc6c-0b3e-4039-b998-efc4932d0ba0",
   "metadata": {
    "execution": {
     "iopub.execute_input": "2022-10-17T23:55:12.152781Z",
     "iopub.status.busy": "2022-10-17T23:55:12.108271Z",
     "iopub.status.idle": "2022-10-17T23:55:42.575268Z",
     "shell.execute_reply": "2022-10-17T23:55:42.572600Z"
    },
    "tags": []
   },
   "outputs": [
    {
     "name": "stderr",
     "output_type": "stream",
     "text": [
      "Attaching SeuratObject\n",
      "\n",
      "Attaching sp\n",
      "\n",
      "── \u001b[1mAttaching packages\u001b[22m ─────────────────────────────────────── tidyverse 1.3.1 ──\n",
      "\n",
      "\u001b[32m✔\u001b[39m \u001b[34mggplot2\u001b[39m 3.3.6     \u001b[32m✔\u001b[39m \u001b[34mpurrr  \u001b[39m 0.3.4\n",
      "\u001b[32m✔\u001b[39m \u001b[34mtibble \u001b[39m 3.1.7     \u001b[32m✔\u001b[39m \u001b[34mdplyr  \u001b[39m 1.0.9\n",
      "\u001b[32m✔\u001b[39m \u001b[34mtidyr  \u001b[39m 1.2.0     \u001b[32m✔\u001b[39m \u001b[34mstringr\u001b[39m 1.4.0\n",
      "\u001b[32m✔\u001b[39m \u001b[34mreadr  \u001b[39m 2.1.2     \u001b[32m✔\u001b[39m \u001b[34mforcats\u001b[39m 0.5.1\n",
      "\n",
      "── \u001b[1mConflicts\u001b[22m ────────────────────────────────────────── tidyverse_conflicts() ──\n",
      "\u001b[31m✖\u001b[39m \u001b[34mdplyr\u001b[39m::\u001b[32mfilter()\u001b[39m masks \u001b[34mstats\u001b[39m::filter()\n",
      "\u001b[31m✖\u001b[39m \u001b[34mdplyr\u001b[39m::\u001b[32mlag()\u001b[39m    masks \u001b[34mstats\u001b[39m::lag()\n",
      "\n",
      "\n",
      "Attaching package: ‘patchwork’\n",
      "\n",
      "\n",
      "The following object is masked from ‘package:cowplot’:\n",
      "\n",
      "    align_plots\n",
      "\n",
      "\n",
      "Loading required package: dynamicTreeCut\n",
      "\n",
      "Loading required package: fastcluster\n",
      "\n",
      "\n",
      "Attaching package: ‘fastcluster’\n",
      "\n",
      "\n",
      "The following object is masked from ‘package:stats’:\n",
      "\n",
      "    hclust\n",
      "\n",
      "\n",
      "\n",
      "\n",
      "\n",
      "Attaching package: ‘WGCNA’\n",
      "\n",
      "\n",
      "The following object is masked from ‘package:stats’:\n",
      "\n",
      "    cor\n",
      "\n",
      "\n"
     ]
    }
   ],
   "source": [
    "# single-cell analysis package\n",
    "library(Seurat)\n",
    "\n",
    "# plotting and data science packages\n",
    "library(tidyverse)\n",
    "library(cowplot)\n",
    "library(patchwork)\n",
    "\n",
    "# co-expression network analysis packages:\n",
    "library(WGCNA)\n",
    "library(hdWGCNA)\n",
    "\n",
    "# using the cowplot theme for ggplot\n",
    "theme_set(theme_cowplot())"
   ]
  },
  {
   "cell_type": "code",
   "execution_count": 1,
   "id": "b77bd590-cc42-4364-8ba7-19596c387c76",
   "metadata": {
    "execution": {
     "iopub.execute_input": "2022-10-17T23:55:10.503032Z",
     "iopub.status.busy": "2022-10-17T23:55:10.497493Z",
     "iopub.status.idle": "2022-10-17T23:55:10.722343Z",
     "shell.execute_reply": "2022-10-17T23:55:10.719918Z"
    },
    "tags": []
   },
   "outputs": [],
   "source": [
    "# Parameters\n",
    "CELL.TYPES <- \"beta\"  # Meaning α, β, δ in this context\n",
    "ASSAY <- \"RNA\"\n",
    "NORMALIZATION <- \"ND\"\n",
    "NN <- 25\n",
    "GENES <- \"all\""
   ]
  },
  {
   "cell_type": "code",
   "execution_count": 3,
   "id": "cfbd68bd-e065-440b-82f0-17dca235db0c",
   "metadata": {
    "execution": {
     "iopub.execute_input": "2022-10-17T23:55:42.581172Z",
     "iopub.status.busy": "2022-10-17T23:55:42.578663Z",
     "iopub.status.idle": "2022-10-17T23:55:42.608425Z",
     "shell.execute_reply": "2022-10-17T23:55:42.606187Z"
    },
    "tags": []
   },
   "outputs": [
    {
     "data": {
      "text/html": [
       "'./module_trait_correlation/betacells_allgenes_ND_25neighbors'"
      ],
      "text/latex": [
       "'./module\\_trait\\_correlation/betacells\\_allgenes\\_ND\\_25neighbors'"
      ],
      "text/markdown": [
       "'./module_trait_correlation/betacells_allgenes_ND_25neighbors'"
      ],
      "text/plain": [
       "[1] \"./module_trait_correlation/betacells_allgenes_ND_25neighbors\""
      ]
     },
     "metadata": {},
     "output_type": "display_data"
    }
   ],
   "source": [
    "# File names for saving\n",
    "NAME=paste0(CELL.TYPES, \"cells_\", GENES, \"genes_\", NORMALIZATION, \"_\", NN, \"neighbors\")\n",
    "OUT= file.path(\"./module_trait_correlation\", NAME)\n",
    "OUT"
   ]
  },
  {
   "cell_type": "code",
   "execution_count": 4,
   "id": "f13a52af-c6fb-4e8c-bbcb-2ea5ec1503bf",
   "metadata": {
    "execution": {
     "iopub.execute_input": "2022-10-17T23:55:42.613510Z",
     "iopub.status.busy": "2022-10-17T23:55:42.611590Z",
     "iopub.status.idle": "2022-10-17T23:58:04.363067Z",
     "shell.execute_reply": "2022-10-17T23:58:04.360406Z"
    },
    "tags": []
   },
   "outputs": [],
   "source": [
    "# load the preprocessed RDS from 1_network_construction.ipynb\n",
    "seurat_obj <- readRDS(sprintf('network_construction/%s_hdWGCNA.rds', NAME))"
   ]
  },
  {
   "cell_type": "markdown",
   "id": "610ab5a9-976b-459d-b053-ea9abb8d61dd",
   "metadata": {},
   "source": [
    "# Trait correlations"
   ]
  },
  {
   "cell_type": "markdown",
   "id": "ed42b5c5-c285-4b90-a494-4888b73599e0",
   "metadata": {},
   "source": [
    "## Set-up columns in meta data for plotting"
   ]
  },
  {
   "cell_type": "code",
   "execution_count": 5,
   "id": "11dd2c22-90d2-4fb8-b3bf-98177710cb38",
   "metadata": {
    "execution": {
     "iopub.execute_input": "2022-10-17T23:58:46.451653Z",
     "iopub.status.busy": "2022-10-17T23:58:46.449660Z",
     "iopub.status.idle": "2022-10-17T23:58:51.762493Z",
     "shell.execute_reply": "2022-10-17T23:58:51.760213Z"
    },
    "tags": []
   },
   "outputs": [
    {
     "name": "stderr",
     "output_type": "stream",
     "text": [
      "Loading required package: Signac\n",
      "\n"
     ]
    }
   ],
   "source": [
    "# Make the timepoint var an int\n",
    "seurat_obj$time_point <- as.integer(seurat_obj$time_point)"
   ]
  },
  {
   "cell_type": "code",
   "execution_count": 6,
   "id": "c2c1d2f0-ba39-4fab-9415-4d92a26037bb",
   "metadata": {
    "execution": {
     "iopub.execute_input": "2022-10-17T23:58:51.768135Z",
     "iopub.status.busy": "2022-10-17T23:58:51.765637Z",
     "iopub.status.idle": "2022-10-17T23:58:51.809646Z",
     "shell.execute_reply": "2022-10-17T23:58:51.807475Z"
    },
    "tags": []
   },
   "outputs": [
    {
     "data": {
      "text/html": [
       "<style>\n",
       ".list-inline {list-style: none; margin:0; padding: 0}\n",
       ".list-inline>li {display: inline-block}\n",
       ".list-inline>li:not(:last-child)::after {content: \"\\00b7\"; padding: 0 .5ex}\n",
       "</style>\n",
       "<ol class=list-inline><li>'orig.ident'</li><li>'nCount_RNA'</li><li>'nFeature_RNA'</li><li>'percent.mt'</li><li>'nCount_RNA_raw'</li><li>'nFeature_RNA_raw'</li><li>'nCount_ATAC'</li><li>'nFeature_ATAC'</li><li>'nCount_SCT'</li><li>'nFeature_SCT'</li><li>'SCT.weight'</li><li>'ATAC.weight'</li><li>'wsnn_res.0.2'</li><li>'seurat_clusters'</li><li>'log_nCount_ATAC'</li><li>'log_nCount_SCT'</li><li>'log_nFeature_ATAC'</li><li>'log_nFeature_SCT'</li><li>'nCount_mpeak'</li><li>'nFeature_mpeak'</li><li>'batch'</li><li>'condition'</li><li>'time_point'</li><li>'sample'</li><li>'atac_raw_reads'</li><li>'atac_mitochondrial_reads'</li><li>'atac_fragments'</li><li>'atac_pct.mt'</li><li>'TSS.enrichment'</li><li>'TSS.percentile'</li><li>'mpeak.weight'</li><li>'wsnn_res.0.3'</li><li>'nCount_peaks'</li><li>'nFeature_peaks'</li><li>'peaks.weight'</li><li>'wsnn_res.0.5'</li><li>'nCount_peak'</li><li>'nFeature_peak'</li><li>'cell.type.1'</li><li>'cell.type.2'</li><li>'metacell_grouping'</li><li>'palmitate.vs.ctrl'</li></ol>\n"
      ],
      "text/latex": [
       "\\begin{enumerate*}\n",
       "\\item 'orig.ident'\n",
       "\\item 'nCount\\_RNA'\n",
       "\\item 'nFeature\\_RNA'\n",
       "\\item 'percent.mt'\n",
       "\\item 'nCount\\_RNA\\_raw'\n",
       "\\item 'nFeature\\_RNA\\_raw'\n",
       "\\item 'nCount\\_ATAC'\n",
       "\\item 'nFeature\\_ATAC'\n",
       "\\item 'nCount\\_SCT'\n",
       "\\item 'nFeature\\_SCT'\n",
       "\\item 'SCT.weight'\n",
       "\\item 'ATAC.weight'\n",
       "\\item 'wsnn\\_res.0.2'\n",
       "\\item 'seurat\\_clusters'\n",
       "\\item 'log\\_nCount\\_ATAC'\n",
       "\\item 'log\\_nCount\\_SCT'\n",
       "\\item 'log\\_nFeature\\_ATAC'\n",
       "\\item 'log\\_nFeature\\_SCT'\n",
       "\\item 'nCount\\_mpeak'\n",
       "\\item 'nFeature\\_mpeak'\n",
       "\\item 'batch'\n",
       "\\item 'condition'\n",
       "\\item 'time\\_point'\n",
       "\\item 'sample'\n",
       "\\item 'atac\\_raw\\_reads'\n",
       "\\item 'atac\\_mitochondrial\\_reads'\n",
       "\\item 'atac\\_fragments'\n",
       "\\item 'atac\\_pct.mt'\n",
       "\\item 'TSS.enrichment'\n",
       "\\item 'TSS.percentile'\n",
       "\\item 'mpeak.weight'\n",
       "\\item 'wsnn\\_res.0.3'\n",
       "\\item 'nCount\\_peaks'\n",
       "\\item 'nFeature\\_peaks'\n",
       "\\item 'peaks.weight'\n",
       "\\item 'wsnn\\_res.0.5'\n",
       "\\item 'nCount\\_peak'\n",
       "\\item 'nFeature\\_peak'\n",
       "\\item 'cell.type.1'\n",
       "\\item 'cell.type.2'\n",
       "\\item 'metacell\\_grouping'\n",
       "\\item 'palmitate.vs.ctrl'\n",
       "\\end{enumerate*}\n"
      ],
      "text/markdown": [
       "1. 'orig.ident'\n",
       "2. 'nCount_RNA'\n",
       "3. 'nFeature_RNA'\n",
       "4. 'percent.mt'\n",
       "5. 'nCount_RNA_raw'\n",
       "6. 'nFeature_RNA_raw'\n",
       "7. 'nCount_ATAC'\n",
       "8. 'nFeature_ATAC'\n",
       "9. 'nCount_SCT'\n",
       "10. 'nFeature_SCT'\n",
       "11. 'SCT.weight'\n",
       "12. 'ATAC.weight'\n",
       "13. 'wsnn_res.0.2'\n",
       "14. 'seurat_clusters'\n",
       "15. 'log_nCount_ATAC'\n",
       "16. 'log_nCount_SCT'\n",
       "17. 'log_nFeature_ATAC'\n",
       "18. 'log_nFeature_SCT'\n",
       "19. 'nCount_mpeak'\n",
       "20. 'nFeature_mpeak'\n",
       "21. 'batch'\n",
       "22. 'condition'\n",
       "23. 'time_point'\n",
       "24. 'sample'\n",
       "25. 'atac_raw_reads'\n",
       "26. 'atac_mitochondrial_reads'\n",
       "27. 'atac_fragments'\n",
       "28. 'atac_pct.mt'\n",
       "29. 'TSS.enrichment'\n",
       "30. 'TSS.percentile'\n",
       "31. 'mpeak.weight'\n",
       "32. 'wsnn_res.0.3'\n",
       "33. 'nCount_peaks'\n",
       "34. 'nFeature_peaks'\n",
       "35. 'peaks.weight'\n",
       "36. 'wsnn_res.0.5'\n",
       "37. 'nCount_peak'\n",
       "38. 'nFeature_peak'\n",
       "39. 'cell.type.1'\n",
       "40. 'cell.type.2'\n",
       "41. 'metacell_grouping'\n",
       "42. 'palmitate.vs.ctrl'\n",
       "\n",
       "\n"
      ],
      "text/plain": [
       " [1] \"orig.ident\"               \"nCount_RNA\"              \n",
       " [3] \"nFeature_RNA\"             \"percent.mt\"              \n",
       " [5] \"nCount_RNA_raw\"           \"nFeature_RNA_raw\"        \n",
       " [7] \"nCount_ATAC\"              \"nFeature_ATAC\"           \n",
       " [9] \"nCount_SCT\"               \"nFeature_SCT\"            \n",
       "[11] \"SCT.weight\"               \"ATAC.weight\"             \n",
       "[13] \"wsnn_res.0.2\"             \"seurat_clusters\"         \n",
       "[15] \"log_nCount_ATAC\"          \"log_nCount_SCT\"          \n",
       "[17] \"log_nFeature_ATAC\"        \"log_nFeature_SCT\"        \n",
       "[19] \"nCount_mpeak\"             \"nFeature_mpeak\"          \n",
       "[21] \"batch\"                    \"condition\"               \n",
       "[23] \"time_point\"               \"sample\"                  \n",
       "[25] \"atac_raw_reads\"           \"atac_mitochondrial_reads\"\n",
       "[27] \"atac_fragments\"           \"atac_pct.mt\"             \n",
       "[29] \"TSS.enrichment\"           \"TSS.percentile\"          \n",
       "[31] \"mpeak.weight\"             \"wsnn_res.0.3\"            \n",
       "[33] \"nCount_peaks\"             \"nFeature_peaks\"          \n",
       "[35] \"peaks.weight\"             \"wsnn_res.0.5\"            \n",
       "[37] \"nCount_peak\"              \"nFeature_peak\"           \n",
       "[39] \"cell.type.1\"              \"cell.type.2\"             \n",
       "[41] \"metacell_grouping\"        \"palmitate.vs.ctrl\"       "
      ]
     },
     "metadata": {},
     "output_type": "display_data"
    }
   ],
   "source": [
    "# Add in binary comparison columns for treatments\n",
    "seurat_obj@meta.data <- cbind(\n",
    "    seurat_obj@meta.data, \n",
    "    binarizeCategoricalVariable(\n",
    "        seurat_obj$condition, \n",
    "        levelOrder = c(\"ctrl\", \"palmitate\"),\n",
    "    )\n",
    ")\n",
    "colnames(seurat_obj@meta.data)"
   ]
  },
  {
   "cell_type": "code",
   "execution_count": 7,
   "id": "46aa464e-306e-4774-a6de-50fcb6d54b96",
   "metadata": {
    "execution": {
     "iopub.execute_input": "2022-10-17T23:58:53.412349Z",
     "iopub.status.busy": "2022-10-17T23:58:53.410176Z",
     "iopub.status.idle": "2022-10-17T23:58:53.460236Z",
     "shell.execute_reply": "2022-10-17T23:58:53.458008Z"
    },
    "tags": []
   },
   "outputs": [
    {
     "name": "stdout",
     "output_type": "stream",
     "text": [
      "\n",
      "     ctrl palmitate \n",
      "     3533      3509 \n",
      "\n",
      "   0    1 \n",
      "3533 3509 \n"
     ]
    }
   ],
   "source": [
    "# Double check these, they should match up. Note that untreated is equivalent to 1 here\n",
    "print(table(seurat_obj$condition))\n",
    "print(table(seurat_obj$palmitate.vs.ctrl))"
   ]
  },
  {
   "cell_type": "code",
   "execution_count": 8,
   "id": "053e9d09-930f-437c-a982-4c92b24da480",
   "metadata": {
    "execution": {
     "iopub.execute_input": "2022-10-17T23:58:57.463272Z",
     "iopub.status.busy": "2022-10-17T23:58:57.461099Z",
     "iopub.status.idle": "2022-10-17T23:58:57.494162Z",
     "shell.execute_reply": "2022-10-17T23:58:57.489594Z"
    },
    "tags": []
   },
   "outputs": [
    {
     "name": "stdout",
     "output_type": "stream",
     "text": [
      "\n",
      "   0    6   24   48   72 \n",
      "1070 2168 1945  491 1368 \n"
     ]
    }
   ],
   "source": [
    "print(table(seurat_obj$time_point))"
   ]
  },
  {
   "cell_type": "code",
   "execution_count": 9,
   "id": "158381de-fc95-48ae-ab2d-bc295cbfa986",
   "metadata": {
    "execution": {
     "iopub.execute_input": "2022-10-17T23:59:07.333208Z",
     "iopub.status.busy": "2022-10-17T23:59:07.331046Z",
     "iopub.status.idle": "2022-10-17T23:59:07.380526Z",
     "shell.execute_reply": "2022-10-17T23:59:07.378270Z"
    },
    "tags": []
   },
   "outputs": [
    {
     "data": {
      "text/html": [
       "<style>\n",
       ".list-inline {list-style: none; margin:0; padding: 0}\n",
       ".list-inline>li {display: inline-block}\n",
       ".list-inline>li:not(:last-child)::after {content: \"\\00b7\"; padding: 0 .5ex}\n",
       "</style>\n",
       "<ol class=list-inline><li>'orig.ident'</li><li>'nCount_RNA'</li><li>'nFeature_RNA'</li><li>'percent.mt'</li><li>'nCount_RNA_raw'</li><li>'nFeature_RNA_raw'</li><li>'nCount_ATAC'</li><li>'nFeature_ATAC'</li><li>'nCount_SCT'</li><li>'nFeature_SCT'</li><li>'SCT.weight'</li><li>'ATAC.weight'</li><li>'wsnn_res.0.2'</li><li>'seurat_clusters'</li><li>'log_nCount_ATAC'</li><li>'log_nCount_SCT'</li><li>'log_nFeature_ATAC'</li><li>'log_nFeature_SCT'</li><li>'nCount_mpeak'</li><li>'nFeature_mpeak'</li><li>'batch'</li><li>'condition'</li><li>'time_point'</li><li>'sample'</li><li>'atac_raw_reads'</li><li>'atac_mitochondrial_reads'</li><li>'atac_fragments'</li><li>'atac_pct.mt'</li><li>'TSS.enrichment'</li><li>'TSS.percentile'</li><li>'mpeak.weight'</li><li>'wsnn_res.0.3'</li><li>'nCount_peaks'</li><li>'nFeature_peaks'</li><li>'peaks.weight'</li><li>'wsnn_res.0.5'</li><li>'nCount_peak'</li><li>'nFeature_peak'</li><li>'cell.type.1'</li><li>'cell.type.2'</li><li>'metacell_grouping'</li><li>'palmitate.vs.ctrl'</li><li>'data.SC.beta.1'</li><li>'data.SC.beta.2'</li><li>'data.SC.beta.3'</li></ol>\n"
      ],
      "text/latex": [
       "\\begin{enumerate*}\n",
       "\\item 'orig.ident'\n",
       "\\item 'nCount\\_RNA'\n",
       "\\item 'nFeature\\_RNA'\n",
       "\\item 'percent.mt'\n",
       "\\item 'nCount\\_RNA\\_raw'\n",
       "\\item 'nFeature\\_RNA\\_raw'\n",
       "\\item 'nCount\\_ATAC'\n",
       "\\item 'nFeature\\_ATAC'\n",
       "\\item 'nCount\\_SCT'\n",
       "\\item 'nFeature\\_SCT'\n",
       "\\item 'SCT.weight'\n",
       "\\item 'ATAC.weight'\n",
       "\\item 'wsnn\\_res.0.2'\n",
       "\\item 'seurat\\_clusters'\n",
       "\\item 'log\\_nCount\\_ATAC'\n",
       "\\item 'log\\_nCount\\_SCT'\n",
       "\\item 'log\\_nFeature\\_ATAC'\n",
       "\\item 'log\\_nFeature\\_SCT'\n",
       "\\item 'nCount\\_mpeak'\n",
       "\\item 'nFeature\\_mpeak'\n",
       "\\item 'batch'\n",
       "\\item 'condition'\n",
       "\\item 'time\\_point'\n",
       "\\item 'sample'\n",
       "\\item 'atac\\_raw\\_reads'\n",
       "\\item 'atac\\_mitochondrial\\_reads'\n",
       "\\item 'atac\\_fragments'\n",
       "\\item 'atac\\_pct.mt'\n",
       "\\item 'TSS.enrichment'\n",
       "\\item 'TSS.percentile'\n",
       "\\item 'mpeak.weight'\n",
       "\\item 'wsnn\\_res.0.3'\n",
       "\\item 'nCount\\_peaks'\n",
       "\\item 'nFeature\\_peaks'\n",
       "\\item 'peaks.weight'\n",
       "\\item 'wsnn\\_res.0.5'\n",
       "\\item 'nCount\\_peak'\n",
       "\\item 'nFeature\\_peak'\n",
       "\\item 'cell.type.1'\n",
       "\\item 'cell.type.2'\n",
       "\\item 'metacell\\_grouping'\n",
       "\\item 'palmitate.vs.ctrl'\n",
       "\\item 'data.SC.beta.1'\n",
       "\\item 'data.SC.beta.2'\n",
       "\\item 'data.SC.beta.3'\n",
       "\\end{enumerate*}\n"
      ],
      "text/markdown": [
       "1. 'orig.ident'\n",
       "2. 'nCount_RNA'\n",
       "3. 'nFeature_RNA'\n",
       "4. 'percent.mt'\n",
       "5. 'nCount_RNA_raw'\n",
       "6. 'nFeature_RNA_raw'\n",
       "7. 'nCount_ATAC'\n",
       "8. 'nFeature_ATAC'\n",
       "9. 'nCount_SCT'\n",
       "10. 'nFeature_SCT'\n",
       "11. 'SCT.weight'\n",
       "12. 'ATAC.weight'\n",
       "13. 'wsnn_res.0.2'\n",
       "14. 'seurat_clusters'\n",
       "15. 'log_nCount_ATAC'\n",
       "16. 'log_nCount_SCT'\n",
       "17. 'log_nFeature_ATAC'\n",
       "18. 'log_nFeature_SCT'\n",
       "19. 'nCount_mpeak'\n",
       "20. 'nFeature_mpeak'\n",
       "21. 'batch'\n",
       "22. 'condition'\n",
       "23. 'time_point'\n",
       "24. 'sample'\n",
       "25. 'atac_raw_reads'\n",
       "26. 'atac_mitochondrial_reads'\n",
       "27. 'atac_fragments'\n",
       "28. 'atac_pct.mt'\n",
       "29. 'TSS.enrichment'\n",
       "30. 'TSS.percentile'\n",
       "31. 'mpeak.weight'\n",
       "32. 'wsnn_res.0.3'\n",
       "33. 'nCount_peaks'\n",
       "34. 'nFeature_peaks'\n",
       "35. 'peaks.weight'\n",
       "36. 'wsnn_res.0.5'\n",
       "37. 'nCount_peak'\n",
       "38. 'nFeature_peak'\n",
       "39. 'cell.type.1'\n",
       "40. 'cell.type.2'\n",
       "41. 'metacell_grouping'\n",
       "42. 'palmitate.vs.ctrl'\n",
       "43. 'data.SC.beta.1'\n",
       "44. 'data.SC.beta.2'\n",
       "45. 'data.SC.beta.3'\n",
       "\n",
       "\n"
      ],
      "text/plain": [
       " [1] \"orig.ident\"               \"nCount_RNA\"              \n",
       " [3] \"nFeature_RNA\"             \"percent.mt\"              \n",
       " [5] \"nCount_RNA_raw\"           \"nFeature_RNA_raw\"        \n",
       " [7] \"nCount_ATAC\"              \"nFeature_ATAC\"           \n",
       " [9] \"nCount_SCT\"               \"nFeature_SCT\"            \n",
       "[11] \"SCT.weight\"               \"ATAC.weight\"             \n",
       "[13] \"wsnn_res.0.2\"             \"seurat_clusters\"         \n",
       "[15] \"log_nCount_ATAC\"          \"log_nCount_SCT\"          \n",
       "[17] \"log_nFeature_ATAC\"        \"log_nFeature_SCT\"        \n",
       "[19] \"nCount_mpeak\"             \"nFeature_mpeak\"          \n",
       "[21] \"batch\"                    \"condition\"               \n",
       "[23] \"time_point\"               \"sample\"                  \n",
       "[25] \"atac_raw_reads\"           \"atac_mitochondrial_reads\"\n",
       "[27] \"atac_fragments\"           \"atac_pct.mt\"             \n",
       "[29] \"TSS.enrichment\"           \"TSS.percentile\"          \n",
       "[31] \"mpeak.weight\"             \"wsnn_res.0.3\"            \n",
       "[33] \"nCount_peaks\"             \"nFeature_peaks\"          \n",
       "[35] \"peaks.weight\"             \"wsnn_res.0.5\"            \n",
       "[37] \"nCount_peak\"              \"nFeature_peak\"           \n",
       "[39] \"cell.type.1\"              \"cell.type.2\"             \n",
       "[41] \"metacell_grouping\"        \"palmitate.vs.ctrl\"       \n",
       "[43] \"data.SC.beta.1\"           \"data.SC.beta.2\"          \n",
       "[45] \"data.SC.beta.3\"          "
      ]
     },
     "metadata": {},
     "output_type": "display_data"
    }
   ],
   "source": [
    "# Add in binary comparison columns for cell types (one vs rest)\n",
    "seurat_obj@meta.data <- cbind(seurat_obj@meta.data, \n",
    "                              binarizeCategoricalColumns.forPlots(seurat_obj$cell.type.2))\n",
    "colnames(seurat_obj@meta.data)"
   ]
  },
  {
   "cell_type": "code",
   "execution_count": 15,
   "id": "deacec89-082d-431a-806d-c5d30f9206cd",
   "metadata": {
    "execution": {
     "iopub.execute_input": "2022-10-17T23:59:40.906167Z",
     "iopub.status.busy": "2022-10-17T23:59:40.903998Z",
     "iopub.status.idle": "2022-10-17T23:59:40.998080Z",
     "shell.execute_reply": "2022-10-17T23:59:40.995753Z"
    },
    "tags": []
   },
   "outputs": [
    {
     "name": "stdout",
     "output_type": "stream",
     "text": [
      "           \n",
      "               0    1\n",
      "  SC.beta.1    0 3124\n",
      "  SC.beta.2 3080    0\n",
      "  SC.beta.3  838    0\n",
      "           \n",
      "               0    1\n",
      "  SC.beta.1 3124    0\n",
      "  SC.beta.2    0 3080\n",
      "  SC.beta.3  838    0\n",
      "           \n",
      "               0    1\n",
      "  SC.beta.1 3124    0\n",
      "  SC.beta.2 3080    0\n",
      "  SC.beta.3    0  838\n"
     ]
    }
   ],
   "source": [
    "# Double check\n",
    "#print(table(seurat_obj$cell.type.2, seurat_obj$data.SC.alpha))\n",
    "print(table(seurat_obj$cell.type.2, seurat_obj$data.SC.beta.1))\n",
    "print(table(seurat_obj$cell.type.2, seurat_obj$data.SC.beta.2))\n",
    "print(table(seurat_obj$cell.type.2, seurat_obj$data.SC.beta.3))\n",
    "#print(table(seurat_obj$cell.type.2, seurat_obj$data.SC.delta))\n",
    "#print(table(seurat_obj$cell.type.2, seurat_obj$data.SC.EC))"
   ]
  },
  {
   "cell_type": "markdown",
   "id": "a01117cd-87d1-49d2-bb39-a0270e4cdd30",
   "metadata": {},
   "source": [
    "## Plot correlation heatmaps"
   ]
  },
  {
   "cell_type": "markdown",
   "id": "0dd14fa0-a5a9-4723-887c-a59569a3d675",
   "metadata": {},
   "source": [
    "### Cell type correlations"
   ]
  },
  {
   "cell_type": "code",
   "execution_count": 16,
   "id": "1e89d1f8-2456-4bc9-8216-8ea826015621",
   "metadata": {
    "execution": {
     "iopub.execute_input": "2022-10-18T00:00:05.904339Z",
     "iopub.status.busy": "2022-10-18T00:00:05.902193Z",
     "iopub.status.idle": "2022-10-18T00:00:06.322228Z",
     "shell.execute_reply": "2022-10-18T00:00:06.319841Z"
    },
    "tags": []
   },
   "outputs": [],
   "source": [
    "# list of traits to correlate for cell type\n",
    "cur_traits <- c('data.SC.beta.1', 'data.SC.beta.2', 'data.SC.beta.3')\n",
    "seurat_obj <- ModuleTraitCorrelation(\n",
    "  seurat_obj,\n",
    "  features=\"MEs\",\n",
    "  traits = cur_traits,\n",
    ")"
   ]
  },
  {
   "cell_type": "code",
   "execution_count": 17,
   "id": "7d7db83b-edd3-4e4d-bfeb-4607e378eb46",
   "metadata": {
    "execution": {
     "iopub.execute_input": "2022-10-18T00:00:07.235134Z",
     "iopub.status.busy": "2022-10-18T00:00:07.232961Z",
     "iopub.status.idle": "2022-10-18T00:00:07.425145Z",
     "shell.execute_reply": "2022-10-18T00:00:07.423331Z"
    },
    "tags": []
   },
   "outputs": [
    {
     "name": "stdout",
     "output_type": "stream",
     "text": [
      "[1] \"cor\"  \"pval\" \"fdr\" \n"
     ]
    },
    {
     "data": {
      "text/html": [
       "<table class=\"dataframe\">\n",
       "<caption>A matrix: 3 × 5 of type dbl</caption>\n",
       "<thead>\n",
       "\t<tr><th></th><th scope=col>betacells_allgenes_ND_25neighbors-M1</th><th scope=col>betacells_allgenes_ND_25neighbors-M2</th><th scope=col>betacells_allgenes_ND_25neighbors-M3</th><th scope=col>betacells_allgenes_ND_25neighbors-M4</th><th scope=col>betacells_allgenes_ND_25neighbors-M5</th></tr>\n",
       "</thead>\n",
       "<tbody>\n",
       "\t<tr><th scope=row>data.SC.beta.1</th><td>-0.6203667</td><td>-0.7627454</td><td> 0.69219470</td><td> 0.16253332</td><td> 0.09938363</td></tr>\n",
       "\t<tr><th scope=row>data.SC.beta.2</th><td> 0.4314970</td><td> 0.7501051</td><td>-0.63974844</td><td>-0.12977087</td><td>-0.18701188</td></tr>\n",
       "\t<tr><th scope=row>data.SC.beta.3</th><td> 0.2907939</td><td> 0.0211298</td><td>-0.08195155</td><td>-0.05056983</td><td> 0.13402154</td></tr>\n",
       "</tbody>\n",
       "</table>\n"
      ],
      "text/latex": [
       "A matrix: 3 × 5 of type dbl\n",
       "\\begin{tabular}{r|lllll}\n",
       "  & betacells\\_allgenes\\_ND\\_25neighbors-M1 & betacells\\_allgenes\\_ND\\_25neighbors-M2 & betacells\\_allgenes\\_ND\\_25neighbors-M3 & betacells\\_allgenes\\_ND\\_25neighbors-M4 & betacells\\_allgenes\\_ND\\_25neighbors-M5\\\\\n",
       "\\hline\n",
       "\tdata.SC.beta.1 & -0.6203667 & -0.7627454 &  0.69219470 &  0.16253332 &  0.09938363\\\\\n",
       "\tdata.SC.beta.2 &  0.4314970 &  0.7501051 & -0.63974844 & -0.12977087 & -0.18701188\\\\\n",
       "\tdata.SC.beta.3 &  0.2907939 &  0.0211298 & -0.08195155 & -0.05056983 &  0.13402154\\\\\n",
       "\\end{tabular}\n"
      ],
      "text/markdown": [
       "\n",
       "A matrix: 3 × 5 of type dbl\n",
       "\n",
       "| <!--/--> | betacells_allgenes_ND_25neighbors-M1 | betacells_allgenes_ND_25neighbors-M2 | betacells_allgenes_ND_25neighbors-M3 | betacells_allgenes_ND_25neighbors-M4 | betacells_allgenes_ND_25neighbors-M5 |\n",
       "|---|---|---|---|---|---|\n",
       "| data.SC.beta.1 | -0.6203667 | -0.7627454 |  0.69219470 |  0.16253332 |  0.09938363 |\n",
       "| data.SC.beta.2 |  0.4314970 |  0.7501051 | -0.63974844 | -0.12977087 | -0.18701188 |\n",
       "| data.SC.beta.3 |  0.2907939 |  0.0211298 | -0.08195155 | -0.05056983 |  0.13402154 |\n",
       "\n"
      ],
      "text/plain": [
       "               betacells_allgenes_ND_25neighbors-M1\n",
       "data.SC.beta.1 -0.6203667                          \n",
       "data.SC.beta.2  0.4314970                          \n",
       "data.SC.beta.3  0.2907939                          \n",
       "               betacells_allgenes_ND_25neighbors-M2\n",
       "data.SC.beta.1 -0.7627454                          \n",
       "data.SC.beta.2  0.7501051                          \n",
       "data.SC.beta.3  0.0211298                          \n",
       "               betacells_allgenes_ND_25neighbors-M3\n",
       "data.SC.beta.1  0.69219470                         \n",
       "data.SC.beta.2 -0.63974844                         \n",
       "data.SC.beta.3 -0.08195155                         \n",
       "               betacells_allgenes_ND_25neighbors-M4\n",
       "data.SC.beta.1  0.16253332                         \n",
       "data.SC.beta.2 -0.12977087                         \n",
       "data.SC.beta.3 -0.05056983                         \n",
       "               betacells_allgenes_ND_25neighbors-M5\n",
       "data.SC.beta.1  0.09938363                         \n",
       "data.SC.beta.2 -0.18701188                         \n",
       "data.SC.beta.3  0.13402154                         "
      ]
     },
     "metadata": {},
     "output_type": "display_data"
    }
   ],
   "source": [
    "# Grabe the correlation table and eventually save it\n",
    "mt_cor <- GetModuleTraitCorrelation(seurat_obj)\n",
    "print(names(mt_cor))\n",
    "head(mt_cor$cor$all_cells)"
   ]
  },
  {
   "cell_type": "code",
   "execution_count": 19,
   "id": "433f4420-8839-4d56-a1b1-caffdcae8247",
   "metadata": {
    "execution": {
     "iopub.execute_input": "2022-10-18T00:00:35.199404Z",
     "iopub.status.busy": "2022-10-18T00:00:35.197682Z",
     "iopub.status.idle": "2022-10-18T00:00:35.218318Z",
     "shell.execute_reply": "2022-10-18T00:00:35.216374Z"
    },
    "tags": []
   },
   "outputs": [],
   "source": [
    "# Grab and order the correlation dataframe to match the built-in function ordering\n",
    "corr_df <- mt_cor$cor$all_cells\n",
    "corr_df <- corr_df[c('data.SC.beta.1', 'data.SC.beta.2', 'data.SC.beta.3'), 1:5]"
   ]
  },
  {
   "cell_type": "code",
   "execution_count": 20,
   "id": "0e38d6fa-413b-448c-9b0b-c0ef48fa01d6",
   "metadata": {
    "execution": {
     "iopub.execute_input": "2022-10-18T00:00:38.399935Z",
     "iopub.status.busy": "2022-10-18T00:00:38.398154Z",
     "iopub.status.idle": "2022-10-18T00:00:38.923885Z",
     "shell.execute_reply": "2022-10-18T00:00:38.921994Z"
    },
    "tags": []
   },
   "outputs": [
    {
     "data": {
      "text/html": [
       "<strong>png:</strong> 2"
      ],
      "text/latex": [
       "\\textbf{png:} 2"
      ],
      "text/markdown": [
       "**png:** 2"
      ],
      "text/plain": [
       "png \n",
       "  2 "
      ]
     },
     "metadata": {},
     "output_type": "display_data"
    }
   ],
   "source": [
    "# Display the correlation values within a heatmap plot\n",
    "options(repr.plot.width=16, repr.plot.height=8)\n",
    "png(sprintf(\"%s_ModuleCelltypeCorrelationsAllCells.png\", OUT), widt=1200, height=800)\n",
    "par(mar=c(10,6,4,1))\n",
    "textMatrix = paste(\n",
    "    signif(corr_df, 2), sep=\"\")\n",
    "dim(textMatrix) = dim(corr_df)\n",
    "labeledHeatmap(\n",
    "    Matrix=corr_df,\n",
    "    xLabels=colnames(corr_df),\n",
    "    yLabels=rownames(corr_df),\n",
    "    ySymbols=rownames(corr_df),\n",
    "    textMatrix=textMatrix,\n",
    "    colorLabels=FALSE,\n",
    "    colors=blueWhiteRed(50),\n",
    "    cex.text=1.2,\n",
    "    cex.lab.x=1,\n",
    "    cex.lab.y=1,\n",
    "    zlim=c(-1, 1),\n",
    "    main=paste(\"Module-Cell type relationships\"),\n",
    ")\n",
    "dev.off()"
   ]
  },
  {
   "cell_type": "code",
   "execution_count": 21,
   "id": "9ec40057-f781-4464-9821-2391edc79a66",
   "metadata": {
    "execution": {
     "iopub.execute_input": "2022-10-18T00:00:40.549358Z",
     "iopub.status.busy": "2022-10-18T00:00:40.547599Z",
     "iopub.status.idle": "2022-10-18T00:00:41.410987Z",
     "shell.execute_reply": "2022-10-18T00:00:41.409104Z"
    },
    "tags": []
   },
   "outputs": [
    {
     "name": "stdout",
     "output_type": "stream",
     "text": [
      "[1] \"all_cells\"\n",
      "[1] \"data.SC.beta.1\" \"data.SC.beta.2\" \"data.SC.beta.3\"\n",
      "[1] \"SC.beta\"\n",
      "[1] \"data.SC.beta.1\" \"data.SC.beta.2\" \"data.SC.beta.3\"\n"
     ]
    },
    {
     "data": {
      "text/html": [
       "<strong>png:</strong> 2"
      ],
      "text/latex": [
       "\\textbf{png:} 2"
      ],
      "text/markdown": [
       "**png:** 2"
      ],
      "text/plain": [
       "png \n",
       "  2 "
      ]
     },
     "metadata": {},
     "output_type": "display_data"
    }
   ],
   "source": [
    "# Plot a heatmap of p-values for correlations across cell-types\n",
    "options(repr.plot.width=12, repr.plot.height=12)\n",
    "png(sprintf(\"%s_ModuleCelltypeCorrelationFDRValues.png\", OUT), widt=1000, height=1200)\n",
    "PlotModuleTraitCorrelation(\n",
    "  seurat_obj,\n",
    "  label = 'fdr',\n",
    "  label_symbol = 'numeric',\n",
    "  text_size = 5,\n",
    "  text_digits = 3,\n",
    "  combine=TRUE,\n",
    "  plot_max = 0.4\n",
    ")\n",
    "dev.off()"
   ]
  },
  {
   "cell_type": "code",
   "execution_count": 22,
   "id": "450ee9ba-9fe7-484e-af8c-7e89c36b8f4e",
   "metadata": {
    "execution": {
     "iopub.execute_input": "2022-10-18T00:00:42.318441Z",
     "iopub.status.busy": "2022-10-18T00:00:42.316691Z",
     "iopub.status.idle": "2022-10-18T00:00:43.140269Z",
     "shell.execute_reply": "2022-10-18T00:00:43.138315Z"
    },
    "tags": []
   },
   "outputs": [
    {
     "name": "stdout",
     "output_type": "stream",
     "text": [
      "[1] \"all_cells\"\n",
      "[1] \"data.SC.beta.1\" \"data.SC.beta.2\" \"data.SC.beta.3\"\n",
      "[1] \"SC.beta\"\n",
      "[1] \"data.SC.beta.1\" \"data.SC.beta.2\" \"data.SC.beta.3\"\n"
     ]
    },
    {
     "data": {
      "text/html": [
       "<strong>png:</strong> 2"
      ],
      "text/latex": [
       "\\textbf{png:} 2"
      ],
      "text/markdown": [
       "**png:** 2"
      ],
      "text/plain": [
       "png \n",
       "  2 "
      ]
     },
     "metadata": {},
     "output_type": "display_data"
    }
   ],
   "source": [
    "options(repr.plot.width=12, repr.plot.height=12)\n",
    "png(sprintf(\"%s_ModuleCelltypeCorrelationFDRStars.png\", OUT), widt=1000, height=1200)\n",
    "PlotModuleTraitCorrelation(\n",
    "  seurat_obj,\n",
    "  label = 'fdr',\n",
    "  label_symbol = 'stars',\n",
    "  text_size = 5,\n",
    "  text_digits = 3,\n",
    "  combine=TRUE,\n",
    "  plot_max = 0.4\n",
    ")\n",
    "dev.off()"
   ]
  },
  {
   "cell_type": "markdown",
   "id": "1c351142-e2ff-41ac-a3ba-13c1189c9491",
   "metadata": {},
   "source": [
    "### Treatment correlations"
   ]
  },
  {
   "cell_type": "code",
   "execution_count": 23,
   "id": "024875d4-2d9c-464c-8870-011cab14e448",
   "metadata": {
    "execution": {
     "iopub.execute_input": "2022-10-18T00:00:48.905623Z",
     "iopub.status.busy": "2022-10-18T00:00:48.903854Z",
     "iopub.status.idle": "2022-10-18T00:00:49.017315Z",
     "shell.execute_reply": "2022-10-18T00:00:49.015295Z"
    },
    "tags": []
   },
   "outputs": [],
   "source": [
    "# list of traits to correlate\n",
    "cur_traits <- c('palmitate.vs.ctrl')\n",
    "\n",
    "seurat_obj <- ModuleTraitCorrelation(\n",
    "  seurat_obj,\n",
    "  traits = cur_traits,\n",
    "  features=\"MEs\",\n",
    "  group.by='cell.type.2'\n",
    ")"
   ]
  },
  {
   "cell_type": "code",
   "execution_count": 24,
   "id": "15867c24-29fa-4b65-9442-07892a5c9687",
   "metadata": {
    "execution": {
     "iopub.execute_input": "2022-10-18T00:00:49.903423Z",
     "iopub.status.busy": "2022-10-18T00:00:49.901565Z",
     "iopub.status.idle": "2022-10-18T00:00:49.929350Z",
     "shell.execute_reply": "2022-10-18T00:00:49.927315Z"
    },
    "tags": []
   },
   "outputs": [
    {
     "name": "stdout",
     "output_type": "stream",
     "text": [
      "[1] \"cor\"  \"pval\" \"fdr\" \n"
     ]
    },
    {
     "data": {
      "text/html": [
       "<style>\n",
       ".dl-inline {width: auto; margin:0; padding: 0}\n",
       ".dl-inline>dt, .dl-inline>dd {float: none; width: auto; display: inline-block}\n",
       ".dl-inline>dt::after {content: \":\\0020\"; padding-right: .5ex}\n",
       ".dl-inline>dt:not(:first-of-type) {padding-left: .5ex}\n",
       "</style><dl class=dl-inline><dt>betacells_allgenes_ND_25neighbors-M1</dt><dd>0.00830343214901324</dd><dt>betacells_allgenes_ND_25neighbors-M2</dt><dd>0.0201293906202763</dd><dt>betacells_allgenes_ND_25neighbors-M3</dt><dd>0.0532830077005081</dd><dt>betacells_allgenes_ND_25neighbors-M4</dt><dd>0.150403222972424</dd><dt>betacells_allgenes_ND_25neighbors-M5</dt><dd>0.0710125404510455</dd></dl>\n"
      ],
      "text/latex": [
       "\\begin{description*}\n",
       "\\item[betacells\\textbackslash{}\\_allgenes\\textbackslash{}\\_ND\\textbackslash{}\\_25neighbors-M1] 0.00830343214901324\n",
       "\\item[betacells\\textbackslash{}\\_allgenes\\textbackslash{}\\_ND\\textbackslash{}\\_25neighbors-M2] 0.0201293906202763\n",
       "\\item[betacells\\textbackslash{}\\_allgenes\\textbackslash{}\\_ND\\textbackslash{}\\_25neighbors-M3] 0.0532830077005081\n",
       "\\item[betacells\\textbackslash{}\\_allgenes\\textbackslash{}\\_ND\\textbackslash{}\\_25neighbors-M4] 0.150403222972424\n",
       "\\item[betacells\\textbackslash{}\\_allgenes\\textbackslash{}\\_ND\\textbackslash{}\\_25neighbors-M5] 0.0710125404510455\n",
       "\\end{description*}\n"
      ],
      "text/markdown": [
       "betacells_allgenes_ND_25neighbors-M1\n",
       ":   0.00830343214901324betacells_allgenes_ND_25neighbors-M2\n",
       ":   0.0201293906202763betacells_allgenes_ND_25neighbors-M3\n",
       ":   0.0532830077005081betacells_allgenes_ND_25neighbors-M4\n",
       ":   0.150403222972424betacells_allgenes_ND_25neighbors-M5\n",
       ":   0.0710125404510455\n",
       "\n"
      ],
      "text/plain": [
       "betacells_allgenes_ND_25neighbors-M1 betacells_allgenes_ND_25neighbors-M2 \n",
       "                         0.008303432                          0.020129391 \n",
       "betacells_allgenes_ND_25neighbors-M3 betacells_allgenes_ND_25neighbors-M4 \n",
       "                         0.053283008                          0.150403223 \n",
       "betacells_allgenes_ND_25neighbors-M5 \n",
       "                         0.071012540 "
      ]
     },
     "metadata": {},
     "output_type": "display_data"
    }
   ],
   "source": [
    "# Grabe the correlation table and eventually save it\n",
    "mt_cor <- GetModuleTraitCorrelation(seurat_obj)\n",
    "print(names(mt_cor))\n",
    "head(mt_cor$cor$all_cells)"
   ]
  },
  {
   "cell_type": "code",
   "execution_count": 25,
   "id": "2104656d-ddf7-440c-a92e-83edc4d80724",
   "metadata": {
    "execution": {
     "iopub.execute_input": "2022-10-18T00:00:50.904719Z",
     "iopub.status.busy": "2022-10-18T00:00:50.902907Z",
     "iopub.status.idle": "2022-10-18T00:00:50.934394Z",
     "shell.execute_reply": "2022-10-18T00:00:50.932407Z"
    },
    "tags": []
   },
   "outputs": [
    {
     "data": {
      "text/html": [
       "<table class=\"dataframe\">\n",
       "<caption>A matrix: 4 × 5 of type dbl</caption>\n",
       "<thead>\n",
       "\t<tr><th></th><th scope=col>betacells_allgenes_ND_25neighbors-M1</th><th scope=col>betacells_allgenes_ND_25neighbors-M2</th><th scope=col>betacells_allgenes_ND_25neighbors-M3</th><th scope=col>betacells_allgenes_ND_25neighbors-M4</th><th scope=col>betacells_allgenes_ND_25neighbors-M5</th></tr>\n",
       "</thead>\n",
       "<tbody>\n",
       "\t<tr><th scope=row>all_cells</th><td> 0.008303432</td><td>0.02012939</td><td>0.05328301</td><td>0.1504032</td><td>0.07101254</td></tr>\n",
       "\t<tr><th scope=row>SC.beta.1</th><td> 0.024105396</td><td>0.01565970</td><td>0.09144104</td><td>0.1802153</td><td>0.09044621</td></tr>\n",
       "\t<tr><th scope=row>SC.beta.2</th><td> 0.036196460</td><td>0.09011647</td><td>0.02676081</td><td>0.1330350</td><td>0.05861573</td></tr>\n",
       "\t<tr><th scope=row>SC.beta.3</th><td>-0.033992044</td><td>0.03856591</td><td>0.05260006</td><td>0.1118299</td><td>0.04838356</td></tr>\n",
       "</tbody>\n",
       "</table>\n"
      ],
      "text/latex": [
       "A matrix: 4 × 5 of type dbl\n",
       "\\begin{tabular}{r|lllll}\n",
       "  & betacells\\_allgenes\\_ND\\_25neighbors-M1 & betacells\\_allgenes\\_ND\\_25neighbors-M2 & betacells\\_allgenes\\_ND\\_25neighbors-M3 & betacells\\_allgenes\\_ND\\_25neighbors-M4 & betacells\\_allgenes\\_ND\\_25neighbors-M5\\\\\n",
       "\\hline\n",
       "\tall\\_cells &  0.008303432 & 0.02012939 & 0.05328301 & 0.1504032 & 0.07101254\\\\\n",
       "\tSC.beta.1 &  0.024105396 & 0.01565970 & 0.09144104 & 0.1802153 & 0.09044621\\\\\n",
       "\tSC.beta.2 &  0.036196460 & 0.09011647 & 0.02676081 & 0.1330350 & 0.05861573\\\\\n",
       "\tSC.beta.3 & -0.033992044 & 0.03856591 & 0.05260006 & 0.1118299 & 0.04838356\\\\\n",
       "\\end{tabular}\n"
      ],
      "text/markdown": [
       "\n",
       "A matrix: 4 × 5 of type dbl\n",
       "\n",
       "| <!--/--> | betacells_allgenes_ND_25neighbors-M1 | betacells_allgenes_ND_25neighbors-M2 | betacells_allgenes_ND_25neighbors-M3 | betacells_allgenes_ND_25neighbors-M4 | betacells_allgenes_ND_25neighbors-M5 |\n",
       "|---|---|---|---|---|---|\n",
       "| all_cells |  0.008303432 | 0.02012939 | 0.05328301 | 0.1504032 | 0.07101254 |\n",
       "| SC.beta.1 |  0.024105396 | 0.01565970 | 0.09144104 | 0.1802153 | 0.09044621 |\n",
       "| SC.beta.2 |  0.036196460 | 0.09011647 | 0.02676081 | 0.1330350 | 0.05861573 |\n",
       "| SC.beta.3 | -0.033992044 | 0.03856591 | 0.05260006 | 0.1118299 | 0.04838356 |\n",
       "\n"
      ],
      "text/plain": [
       "          betacells_allgenes_ND_25neighbors-M1\n",
       "all_cells  0.008303432                        \n",
       "SC.beta.1  0.024105396                        \n",
       "SC.beta.2  0.036196460                        \n",
       "SC.beta.3 -0.033992044                        \n",
       "          betacells_allgenes_ND_25neighbors-M2\n",
       "all_cells 0.02012939                          \n",
       "SC.beta.1 0.01565970                          \n",
       "SC.beta.2 0.09011647                          \n",
       "SC.beta.3 0.03856591                          \n",
       "          betacells_allgenes_ND_25neighbors-M3\n",
       "all_cells 0.05328301                          \n",
       "SC.beta.1 0.09144104                          \n",
       "SC.beta.2 0.02676081                          \n",
       "SC.beta.3 0.05260006                          \n",
       "          betacells_allgenes_ND_25neighbors-M4\n",
       "all_cells 0.1504032                           \n",
       "SC.beta.1 0.1802153                           \n",
       "SC.beta.2 0.1330350                           \n",
       "SC.beta.3 0.1118299                           \n",
       "          betacells_allgenes_ND_25neighbors-M5\n",
       "all_cells 0.07101254                          \n",
       "SC.beta.1 0.09044621                          \n",
       "SC.beta.2 0.05861573                          \n",
       "SC.beta.3 0.04838356                          "
      ]
     },
     "metadata": {},
     "output_type": "display_data"
    }
   ],
   "source": [
    "# Grab and order the correlation dataframe to match the built-in function ordering\n",
    "corr_df <- do.call(rbind, mt_cor$cor)\n",
    "corr_df"
   ]
  },
  {
   "cell_type": "code",
   "execution_count": 26,
   "id": "e97e5755-4efe-4cd1-a08b-fd98dff97505",
   "metadata": {
    "execution": {
     "iopub.execute_input": "2022-10-18T00:00:52.157143Z",
     "iopub.status.busy": "2022-10-18T00:00:52.155264Z",
     "iopub.status.idle": "2022-10-18T00:00:52.281607Z",
     "shell.execute_reply": "2022-10-18T00:00:52.279622Z"
    },
    "tags": []
   },
   "outputs": [
    {
     "data": {
      "text/html": [
       "<strong>png:</strong> 2"
      ],
      "text/latex": [
       "\\textbf{png:} 2"
      ],
      "text/markdown": [
       "**png:** 2"
      ],
      "text/plain": [
       "png \n",
       "  2 "
      ]
     },
     "metadata": {},
     "output_type": "display_data"
    }
   ],
   "source": [
    "# Display the correlation values within a heatmap plot\n",
    "options(repr.plot.width=16, repr.plot.height=8)\n",
    "png(sprintf(\"%s_ModuleTreatmentCorrelationsByCellType.png\", OUT), widt=1200, height=800)\n",
    "par(mar=c(10,6,4,1))\n",
    "textMatrix = paste(\n",
    "    signif(corr_df, 2), sep=\"\")\n",
    "dim(textMatrix) = dim(corr_df)\n",
    "labeledHeatmap(\n",
    "    Matrix=corr_df,\n",
    "    xLabels=colnames(corr_df),\n",
    "    yLabels=rownames(corr_df),\n",
    "    ySymbols=rownames(corr_df),\n",
    "    textMatrix=textMatrix,\n",
    "    colorLabels=FALSE,\n",
    "    colors=blueWhiteRed(50),\n",
    "    cex.text=1.2,\n",
    "    cex.lab.x=1,\n",
    "    cex.lab.y=1,\n",
    "    zlim=c(-1, 1),\n",
    "    main=paste(\"Module-palmitate treatment relationships in different cell types\"),\n",
    ")\n",
    "dev.off()"
   ]
  },
  {
   "cell_type": "code",
   "execution_count": 27,
   "id": "1164ecd3-fb6f-4ef3-8a78-6f255d04f465",
   "metadata": {
    "execution": {
     "iopub.execute_input": "2022-10-18T00:01:04.320930Z",
     "iopub.status.busy": "2022-10-18T00:01:04.319092Z",
     "iopub.status.idle": "2022-10-18T00:01:04.350943Z",
     "shell.execute_reply": "2022-10-18T00:01:04.349081Z"
    },
    "tags": []
   },
   "outputs": [
    {
     "data": {
      "text/html": [
       "<table class=\"dataframe\">\n",
       "<caption>A matrix: 4 × 5 of type dbl</caption>\n",
       "<thead>\n",
       "\t<tr><th></th><th scope=col>betacells_allgenes_ND_25neighbors-M1</th><th scope=col>betacells_allgenes_ND_25neighbors-M2</th><th scope=col>betacells_allgenes_ND_25neighbors-M3</th><th scope=col>betacells_allgenes_ND_25neighbors-M4</th><th scope=col>betacells_allgenes_ND_25neighbors-M5</th></tr>\n",
       "</thead>\n",
       "<tbody>\n",
       "\t<tr><th scope=row>all_cells</th><td>0.48600038</td><td>9.120759e-02</td><td>7.687240e-06</td><td>0.000000e+00</td><td>2.437265e-09</td></tr>\n",
       "\t<tr><th scope=row>SC.beta.1</th><td>0.17798876</td><td>3.815919e-01</td><td>3.062262e-07</td><td>0.000000e+00</td><td>4.113140e-07</td></tr>\n",
       "\t<tr><th scope=row>SC.beta.2</th><td>0.04457269</td><td>5.459269e-07</td><td>1.375895e-01</td><td>1.234568e-13</td><td>1.135847e-03</td></tr>\n",
       "\t<tr><th scope=row>SC.beta.3</th><td>0.32569371</td><td>2.647805e-01</td><td>1.281447e-01</td><td>1.184357e-03</td><td>1.617088e-01</td></tr>\n",
       "</tbody>\n",
       "</table>\n"
      ],
      "text/latex": [
       "A matrix: 4 × 5 of type dbl\n",
       "\\begin{tabular}{r|lllll}\n",
       "  & betacells\\_allgenes\\_ND\\_25neighbors-M1 & betacells\\_allgenes\\_ND\\_25neighbors-M2 & betacells\\_allgenes\\_ND\\_25neighbors-M3 & betacells\\_allgenes\\_ND\\_25neighbors-M4 & betacells\\_allgenes\\_ND\\_25neighbors-M5\\\\\n",
       "\\hline\n",
       "\tall\\_cells & 0.48600038 & 9.120759e-02 & 7.687240e-06 & 0.000000e+00 & 2.437265e-09\\\\\n",
       "\tSC.beta.1 & 0.17798876 & 3.815919e-01 & 3.062262e-07 & 0.000000e+00 & 4.113140e-07\\\\\n",
       "\tSC.beta.2 & 0.04457269 & 5.459269e-07 & 1.375895e-01 & 1.234568e-13 & 1.135847e-03\\\\\n",
       "\tSC.beta.3 & 0.32569371 & 2.647805e-01 & 1.281447e-01 & 1.184357e-03 & 1.617088e-01\\\\\n",
       "\\end{tabular}\n"
      ],
      "text/markdown": [
       "\n",
       "A matrix: 4 × 5 of type dbl\n",
       "\n",
       "| <!--/--> | betacells_allgenes_ND_25neighbors-M1 | betacells_allgenes_ND_25neighbors-M2 | betacells_allgenes_ND_25neighbors-M3 | betacells_allgenes_ND_25neighbors-M4 | betacells_allgenes_ND_25neighbors-M5 |\n",
       "|---|---|---|---|---|---|\n",
       "| all_cells | 0.48600038 | 9.120759e-02 | 7.687240e-06 | 0.000000e+00 | 2.437265e-09 |\n",
       "| SC.beta.1 | 0.17798876 | 3.815919e-01 | 3.062262e-07 | 0.000000e+00 | 4.113140e-07 |\n",
       "| SC.beta.2 | 0.04457269 | 5.459269e-07 | 1.375895e-01 | 1.234568e-13 | 1.135847e-03 |\n",
       "| SC.beta.3 | 0.32569371 | 2.647805e-01 | 1.281447e-01 | 1.184357e-03 | 1.617088e-01 |\n",
       "\n"
      ],
      "text/plain": [
       "          betacells_allgenes_ND_25neighbors-M1\n",
       "all_cells 0.48600038                          \n",
       "SC.beta.1 0.17798876                          \n",
       "SC.beta.2 0.04457269                          \n",
       "SC.beta.3 0.32569371                          \n",
       "          betacells_allgenes_ND_25neighbors-M2\n",
       "all_cells 9.120759e-02                        \n",
       "SC.beta.1 3.815919e-01                        \n",
       "SC.beta.2 5.459269e-07                        \n",
       "SC.beta.3 2.647805e-01                        \n",
       "          betacells_allgenes_ND_25neighbors-M3\n",
       "all_cells 7.687240e-06                        \n",
       "SC.beta.1 3.062262e-07                        \n",
       "SC.beta.2 1.375895e-01                        \n",
       "SC.beta.3 1.281447e-01                        \n",
       "          betacells_allgenes_ND_25neighbors-M4\n",
       "all_cells 0.000000e+00                        \n",
       "SC.beta.1 0.000000e+00                        \n",
       "SC.beta.2 1.234568e-13                        \n",
       "SC.beta.3 1.184357e-03                        \n",
       "          betacells_allgenes_ND_25neighbors-M5\n",
       "all_cells 2.437265e-09                        \n",
       "SC.beta.1 4.113140e-07                        \n",
       "SC.beta.2 1.135847e-03                        \n",
       "SC.beta.3 1.617088e-01                        "
      ]
     },
     "metadata": {},
     "output_type": "display_data"
    }
   ],
   "source": [
    "# Grab and order the correlation dataframe to match the built-in function ordering\n",
    "pval_df <- do.call(rbind, mt_cor$pval)\n",
    "pval_df"
   ]
  },
  {
   "cell_type": "code",
   "execution_count": 31,
   "id": "3a27f1fb-6246-4b9c-88ed-ee7e21675a08",
   "metadata": {
    "execution": {
     "iopub.execute_input": "2022-10-18T00:02:46.163576Z",
     "iopub.status.busy": "2022-10-18T00:02:46.161923Z",
     "iopub.status.idle": "2022-10-18T00:02:46.266625Z",
     "shell.execute_reply": "2022-10-18T00:02:46.264781Z"
    },
    "tags": []
   },
   "outputs": [
    {
     "data": {
      "text/html": [
       "<strong>png:</strong> 2"
      ],
      "text/latex": [
       "\\textbf{png:} 2"
      ],
      "text/markdown": [
       "**png:** 2"
      ],
      "text/plain": [
       "png \n",
       "  2 "
      ]
     },
     "metadata": {},
     "output_type": "display_data"
    }
   ],
   "source": [
    "# Display the correlation values within a heatmap plot\n",
    "options(repr.plot.width=16, repr.plot.height=8)\n",
    "png(sprintf(\"%s_ModuleTreatmentPValsByCellType.png\", OUT), widt=1200, height=800)\n",
    "par(mar=c(10,6,4,1))\n",
    "textMatrix = paste(\n",
    "    signif(pval_df, 2), sep=\"\")\n",
    "dim(textMatrix) = dim(pval_df)\n",
    "labeledHeatmap(\n",
    "    Matrix=pval_df,\n",
    "    xLabels=colnames(pval_df),\n",
    "    yLabels=rownames(pval_df),\n",
    "    ySymbols=rownames(pval_df),\n",
    "    textMatrix=textMatrix,\n",
    "    colorLabels=FALSE,\n",
    "    cex.text=1.2,\n",
    "    cex.lab.x=1,\n",
    "    cex.lab.y=1,\n",
    "    zlim=c(0, 1),\n",
    "    main=paste(\"Module-palmitate treatment relationships in different cell types\"),\n",
    ")\n",
    "dev.off()"
   ]
  },
  {
   "cell_type": "markdown",
   "id": "32f6405d-b82b-4842-a26c-0e3008e12726",
   "metadata": {},
   "source": [
    "## Timepoint correlations"
   ]
  },
  {
   "cell_type": "code",
   "execution_count": 33,
   "id": "843671b7-5446-465e-81c3-ede016e78647",
   "metadata": {
    "execution": {
     "iopub.execute_input": "2022-10-18T00:02:50.905071Z",
     "iopub.status.busy": "2022-10-18T00:02:50.903268Z",
     "iopub.status.idle": "2022-10-18T00:02:51.019352Z",
     "shell.execute_reply": "2022-10-18T00:02:51.017308Z"
    },
    "tags": []
   },
   "outputs": [],
   "source": [
    "# list of traits to correlate\n",
    "cur_traits <- c('time_point')\n",
    "\n",
    "seurat_obj <- ModuleTraitCorrelation(\n",
    "  seurat_obj,\n",
    "  traits = cur_traits,\n",
    "  features=\"MEs\",\n",
    "  group.by='cell.type.2'\n",
    ")"
   ]
  },
  {
   "cell_type": "code",
   "execution_count": 34,
   "id": "9e611a7e-bc75-4a5f-9c52-927a42818c6c",
   "metadata": {
    "execution": {
     "iopub.execute_input": "2022-10-18T00:02:58.329869Z",
     "iopub.status.busy": "2022-10-18T00:02:58.328094Z",
     "iopub.status.idle": "2022-10-18T00:02:58.355749Z",
     "shell.execute_reply": "2022-10-18T00:02:58.353847Z"
    },
    "tags": []
   },
   "outputs": [
    {
     "name": "stdout",
     "output_type": "stream",
     "text": [
      "[1] \"cor\"  \"pval\" \"fdr\" \n"
     ]
    },
    {
     "data": {
      "text/html": [
       "<style>\n",
       ".dl-inline {width: auto; margin:0; padding: 0}\n",
       ".dl-inline>dt, .dl-inline>dd {float: none; width: auto; display: inline-block}\n",
       ".dl-inline>dt::after {content: \":\\0020\"; padding-right: .5ex}\n",
       ".dl-inline>dt:not(:first-of-type) {padding-left: .5ex}\n",
       "</style><dl class=dl-inline><dt>betacells_allgenes_ND_25neighbors-M1</dt><dd>0.00119544517790235</dd><dt>betacells_allgenes_ND_25neighbors-M2</dt><dd>0.0457252869971996</dd><dt>betacells_allgenes_ND_25neighbors-M3</dt><dd>-0.0222626537632624</dd><dt>betacells_allgenes_ND_25neighbors-M4</dt><dd>-0.0530265643221186</dd><dt>betacells_allgenes_ND_25neighbors-M5</dt><dd>-0.0878528565753376</dd></dl>\n"
      ],
      "text/latex": [
       "\\begin{description*}\n",
       "\\item[betacells\\textbackslash{}\\_allgenes\\textbackslash{}\\_ND\\textbackslash{}\\_25neighbors-M1] 0.00119544517790235\n",
       "\\item[betacells\\textbackslash{}\\_allgenes\\textbackslash{}\\_ND\\textbackslash{}\\_25neighbors-M2] 0.0457252869971996\n",
       "\\item[betacells\\textbackslash{}\\_allgenes\\textbackslash{}\\_ND\\textbackslash{}\\_25neighbors-M3] -0.0222626537632624\n",
       "\\item[betacells\\textbackslash{}\\_allgenes\\textbackslash{}\\_ND\\textbackslash{}\\_25neighbors-M4] -0.0530265643221186\n",
       "\\item[betacells\\textbackslash{}\\_allgenes\\textbackslash{}\\_ND\\textbackslash{}\\_25neighbors-M5] -0.0878528565753376\n",
       "\\end{description*}\n"
      ],
      "text/markdown": [
       "betacells_allgenes_ND_25neighbors-M1\n",
       ":   0.00119544517790235betacells_allgenes_ND_25neighbors-M2\n",
       ":   0.0457252869971996betacells_allgenes_ND_25neighbors-M3\n",
       ":   -0.0222626537632624betacells_allgenes_ND_25neighbors-M4\n",
       ":   -0.0530265643221186betacells_allgenes_ND_25neighbors-M5\n",
       ":   -0.0878528565753376\n",
       "\n"
      ],
      "text/plain": [
       "betacells_allgenes_ND_25neighbors-M1 betacells_allgenes_ND_25neighbors-M2 \n",
       "                         0.001195445                          0.045725287 \n",
       "betacells_allgenes_ND_25neighbors-M3 betacells_allgenes_ND_25neighbors-M4 \n",
       "                        -0.022262654                         -0.053026564 \n",
       "betacells_allgenes_ND_25neighbors-M5 \n",
       "                        -0.087852857 "
      ]
     },
     "metadata": {},
     "output_type": "display_data"
    }
   ],
   "source": [
    "# Grabe the correlation table and eventually save it\n",
    "mt_cor <- GetModuleTraitCorrelation(seurat_obj)\n",
    "print(names(mt_cor))\n",
    "head(mt_cor$cor$all_cells)"
   ]
  },
  {
   "cell_type": "code",
   "execution_count": 35,
   "id": "117e7006-2e9e-4ca1-b080-1b68c1f064bf",
   "metadata": {
    "execution": {
     "iopub.execute_input": "2022-10-18T00:02:59.901607Z",
     "iopub.status.busy": "2022-10-18T00:02:59.899835Z",
     "iopub.status.idle": "2022-10-18T00:02:59.930606Z",
     "shell.execute_reply": "2022-10-18T00:02:59.928760Z"
    },
    "tags": []
   },
   "outputs": [
    {
     "data": {
      "text/html": [
       "<table class=\"dataframe\">\n",
       "<caption>A matrix: 4 × 5 of type dbl</caption>\n",
       "<thead>\n",
       "\t<tr><th></th><th scope=col>betacells_allgenes_ND_25neighbors-M1</th><th scope=col>betacells_allgenes_ND_25neighbors-M2</th><th scope=col>betacells_allgenes_ND_25neighbors-M3</th><th scope=col>betacells_allgenes_ND_25neighbors-M4</th><th scope=col>betacells_allgenes_ND_25neighbors-M5</th></tr>\n",
       "</thead>\n",
       "<tbody>\n",
       "\t<tr><th scope=row>all_cells</th><td> 0.001195445</td><td> 0.045725287</td><td>-0.022262654</td><td>-0.05302656</td><td>-0.08785286</td></tr>\n",
       "\t<tr><th scope=row>SC.beta.1</th><td>-0.040450542</td><td>-0.006445666</td><td>-0.006042898</td><td>-0.09311255</td><td>-0.10256027</td></tr>\n",
       "\t<tr><th scope=row>SC.beta.2</th><td>-0.053598573</td><td> 0.021707564</td><td> 0.044283025</td><td>-0.02011034</td><td>-0.06812608</td></tr>\n",
       "\t<tr><th scope=row>SC.beta.3</th><td>-0.008713722</td><td>-0.004258160</td><td> 0.067248457</td><td> 0.02694036</td><td>-0.08668774</td></tr>\n",
       "</tbody>\n",
       "</table>\n"
      ],
      "text/latex": [
       "A matrix: 4 × 5 of type dbl\n",
       "\\begin{tabular}{r|lllll}\n",
       "  & betacells\\_allgenes\\_ND\\_25neighbors-M1 & betacells\\_allgenes\\_ND\\_25neighbors-M2 & betacells\\_allgenes\\_ND\\_25neighbors-M3 & betacells\\_allgenes\\_ND\\_25neighbors-M4 & betacells\\_allgenes\\_ND\\_25neighbors-M5\\\\\n",
       "\\hline\n",
       "\tall\\_cells &  0.001195445 &  0.045725287 & -0.022262654 & -0.05302656 & -0.08785286\\\\\n",
       "\tSC.beta.1 & -0.040450542 & -0.006445666 & -0.006042898 & -0.09311255 & -0.10256027\\\\\n",
       "\tSC.beta.2 & -0.053598573 &  0.021707564 &  0.044283025 & -0.02011034 & -0.06812608\\\\\n",
       "\tSC.beta.3 & -0.008713722 & -0.004258160 &  0.067248457 &  0.02694036 & -0.08668774\\\\\n",
       "\\end{tabular}\n"
      ],
      "text/markdown": [
       "\n",
       "A matrix: 4 × 5 of type dbl\n",
       "\n",
       "| <!--/--> | betacells_allgenes_ND_25neighbors-M1 | betacells_allgenes_ND_25neighbors-M2 | betacells_allgenes_ND_25neighbors-M3 | betacells_allgenes_ND_25neighbors-M4 | betacells_allgenes_ND_25neighbors-M5 |\n",
       "|---|---|---|---|---|---|\n",
       "| all_cells |  0.001195445 |  0.045725287 | -0.022262654 | -0.05302656 | -0.08785286 |\n",
       "| SC.beta.1 | -0.040450542 | -0.006445666 | -0.006042898 | -0.09311255 | -0.10256027 |\n",
       "| SC.beta.2 | -0.053598573 |  0.021707564 |  0.044283025 | -0.02011034 | -0.06812608 |\n",
       "| SC.beta.3 | -0.008713722 | -0.004258160 |  0.067248457 |  0.02694036 | -0.08668774 |\n",
       "\n"
      ],
      "text/plain": [
       "          betacells_allgenes_ND_25neighbors-M1\n",
       "all_cells  0.001195445                        \n",
       "SC.beta.1 -0.040450542                        \n",
       "SC.beta.2 -0.053598573                        \n",
       "SC.beta.3 -0.008713722                        \n",
       "          betacells_allgenes_ND_25neighbors-M2\n",
       "all_cells  0.045725287                        \n",
       "SC.beta.1 -0.006445666                        \n",
       "SC.beta.2  0.021707564                        \n",
       "SC.beta.3 -0.004258160                        \n",
       "          betacells_allgenes_ND_25neighbors-M3\n",
       "all_cells -0.022262654                        \n",
       "SC.beta.1 -0.006042898                        \n",
       "SC.beta.2  0.044283025                        \n",
       "SC.beta.3  0.067248457                        \n",
       "          betacells_allgenes_ND_25neighbors-M4\n",
       "all_cells -0.05302656                         \n",
       "SC.beta.1 -0.09311255                         \n",
       "SC.beta.2 -0.02011034                         \n",
       "SC.beta.3  0.02694036                         \n",
       "          betacells_allgenes_ND_25neighbors-M5\n",
       "all_cells -0.08785286                         \n",
       "SC.beta.1 -0.10256027                         \n",
       "SC.beta.2 -0.06812608                         \n",
       "SC.beta.3 -0.08668774                         "
      ]
     },
     "metadata": {},
     "output_type": "display_data"
    }
   ],
   "source": [
    "# Grab and order the correlation dataframe to match the built-in function ordering\n",
    "corr_df <- do.call(rbind, mt_cor$cor)\n",
    "corr_df"
   ]
  },
  {
   "cell_type": "code",
   "execution_count": 36,
   "id": "83abe73a-f840-4e91-b6e8-607ae811cb5b",
   "metadata": {
    "execution": {
     "iopub.execute_input": "2022-10-18T00:03:05.903007Z",
     "iopub.status.busy": "2022-10-18T00:03:05.901219Z",
     "iopub.status.idle": "2022-10-18T00:03:06.006449Z",
     "shell.execute_reply": "2022-10-18T00:03:06.004567Z"
    },
    "tags": []
   },
   "outputs": [
    {
     "data": {
      "text/html": [
       "<strong>png:</strong> 2"
      ],
      "text/latex": [
       "\\textbf{png:} 2"
      ],
      "text/markdown": [
       "**png:** 2"
      ],
      "text/plain": [
       "png \n",
       "  2 "
      ]
     },
     "metadata": {},
     "output_type": "display_data"
    }
   ],
   "source": [
    "# Display the correlation values within a heatmap plot\n",
    "options(repr.plot.width=16, repr.plot.height=8)\n",
    "png(sprintf(\"%s_ModuleTimePointCorrelationsByCellType.png\", OUT), widt=1200, height=800)\n",
    "par(mar=c(10,6,4,1))\n",
    "textMatrix = paste(\n",
    "    signif(corr_df, 2), sep=\"\")\n",
    "dim(textMatrix) = dim(corr_df)\n",
    "labeledHeatmap(\n",
    "    Matrix=corr_df,\n",
    "    xLabels=colnames(corr_df),\n",
    "    yLabels=rownames(corr_df),\n",
    "    ySymbols=rownames(corr_df),\n",
    "    textMatrix=textMatrix,\n",
    "    colorLabels=FALSE,\n",
    "    colors=blueWhiteRed(50),\n",
    "    cex.text=1.2,\n",
    "    cex.lab.x=1,\n",
    "    cex.lab.y=1,\n",
    "    zlim=c(-1, 1),\n",
    "    main=paste(\"Module-time point relationships in different cell types\"),\n",
    ")\n",
    "dev.off()"
   ]
  },
  {
   "cell_type": "code",
   "execution_count": 37,
   "id": "11138f86-bfab-4a77-8f00-cba5c35f3905",
   "metadata": {
    "execution": {
     "iopub.execute_input": "2022-10-18T00:03:07.324191Z",
     "iopub.status.busy": "2022-10-18T00:03:07.322373Z",
     "iopub.status.idle": "2022-10-18T00:03:07.352276Z",
     "shell.execute_reply": "2022-10-18T00:03:07.350423Z"
    },
    "tags": []
   },
   "outputs": [
    {
     "data": {
      "text/html": [
       "<table class=\"dataframe\">\n",
       "<caption>A matrix: 4 × 5 of type dbl</caption>\n",
       "<thead>\n",
       "\t<tr><th></th><th scope=col>betacells_allgenes_ND_25neighbors-M1</th><th scope=col>betacells_allgenes_ND_25neighbors-M2</th><th scope=col>betacells_allgenes_ND_25neighbors-M3</th><th scope=col>betacells_allgenes_ND_25neighbors-M4</th><th scope=col>betacells_allgenes_ND_25neighbors-M5</th></tr>\n",
       "</thead>\n",
       "<tbody>\n",
       "\t<tr><th scope=row>all_cells</th><td>0.920106195</td><td>0.0001238194</td><td>0.06174721</td><td>8.501369e-06</td><td>1.521006e-13</td></tr>\n",
       "\t<tr><th scope=row>SC.beta.1</th><td>0.023764661</td><td>0.7187532010</td><td>0.73564795</td><td>1.852473e-07</td><td>9.179236e-09</td></tr>\n",
       "\t<tr><th scope=row>SC.beta.2</th><td>0.002924813</td><td>0.2284451408</td><td>0.01397847</td><td>2.645342e-01</td><td>1.545107e-04</td></tr>\n",
       "\t<tr><th scope=row>SC.beta.3</th><td>0.801137622</td><td>0.9020415598</td><td>0.05165219</td><td>4.360664e-01</td><td>1.205815e-02</td></tr>\n",
       "</tbody>\n",
       "</table>\n"
      ],
      "text/latex": [
       "A matrix: 4 × 5 of type dbl\n",
       "\\begin{tabular}{r|lllll}\n",
       "  & betacells\\_allgenes\\_ND\\_25neighbors-M1 & betacells\\_allgenes\\_ND\\_25neighbors-M2 & betacells\\_allgenes\\_ND\\_25neighbors-M3 & betacells\\_allgenes\\_ND\\_25neighbors-M4 & betacells\\_allgenes\\_ND\\_25neighbors-M5\\\\\n",
       "\\hline\n",
       "\tall\\_cells & 0.920106195 & 0.0001238194 & 0.06174721 & 8.501369e-06 & 1.521006e-13\\\\\n",
       "\tSC.beta.1 & 0.023764661 & 0.7187532010 & 0.73564795 & 1.852473e-07 & 9.179236e-09\\\\\n",
       "\tSC.beta.2 & 0.002924813 & 0.2284451408 & 0.01397847 & 2.645342e-01 & 1.545107e-04\\\\\n",
       "\tSC.beta.3 & 0.801137622 & 0.9020415598 & 0.05165219 & 4.360664e-01 & 1.205815e-02\\\\\n",
       "\\end{tabular}\n"
      ],
      "text/markdown": [
       "\n",
       "A matrix: 4 × 5 of type dbl\n",
       "\n",
       "| <!--/--> | betacells_allgenes_ND_25neighbors-M1 | betacells_allgenes_ND_25neighbors-M2 | betacells_allgenes_ND_25neighbors-M3 | betacells_allgenes_ND_25neighbors-M4 | betacells_allgenes_ND_25neighbors-M5 |\n",
       "|---|---|---|---|---|---|\n",
       "| all_cells | 0.920106195 | 0.0001238194 | 0.06174721 | 8.501369e-06 | 1.521006e-13 |\n",
       "| SC.beta.1 | 0.023764661 | 0.7187532010 | 0.73564795 | 1.852473e-07 | 9.179236e-09 |\n",
       "| SC.beta.2 | 0.002924813 | 0.2284451408 | 0.01397847 | 2.645342e-01 | 1.545107e-04 |\n",
       "| SC.beta.3 | 0.801137622 | 0.9020415598 | 0.05165219 | 4.360664e-01 | 1.205815e-02 |\n",
       "\n"
      ],
      "text/plain": [
       "          betacells_allgenes_ND_25neighbors-M1\n",
       "all_cells 0.920106195                         \n",
       "SC.beta.1 0.023764661                         \n",
       "SC.beta.2 0.002924813                         \n",
       "SC.beta.3 0.801137622                         \n",
       "          betacells_allgenes_ND_25neighbors-M2\n",
       "all_cells 0.0001238194                        \n",
       "SC.beta.1 0.7187532010                        \n",
       "SC.beta.2 0.2284451408                        \n",
       "SC.beta.3 0.9020415598                        \n",
       "          betacells_allgenes_ND_25neighbors-M3\n",
       "all_cells 0.06174721                          \n",
       "SC.beta.1 0.73564795                          \n",
       "SC.beta.2 0.01397847                          \n",
       "SC.beta.3 0.05165219                          \n",
       "          betacells_allgenes_ND_25neighbors-M4\n",
       "all_cells 8.501369e-06                        \n",
       "SC.beta.1 1.852473e-07                        \n",
       "SC.beta.2 2.645342e-01                        \n",
       "SC.beta.3 4.360664e-01                        \n",
       "          betacells_allgenes_ND_25neighbors-M5\n",
       "all_cells 1.521006e-13                        \n",
       "SC.beta.1 9.179236e-09                        \n",
       "SC.beta.2 1.545107e-04                        \n",
       "SC.beta.3 1.205815e-02                        "
      ]
     },
     "metadata": {},
     "output_type": "display_data"
    }
   ],
   "source": [
    "# Grab and order the correlation dataframe to match the built-in function ordering\n",
    "pval_df <- do.call(rbind, mt_cor$pval)\n",
    "pval_df"
   ]
  },
  {
   "cell_type": "code",
   "execution_count": 38,
   "id": "729c79ed-a5d0-4e10-b3a8-13e7198b7641",
   "metadata": {
    "execution": {
     "iopub.execute_input": "2022-10-18T00:03:08.352737Z",
     "iopub.status.busy": "2022-10-18T00:03:08.350947Z",
     "iopub.status.idle": "2022-10-18T00:03:08.458004Z",
     "shell.execute_reply": "2022-10-18T00:03:08.455917Z"
    },
    "tags": []
   },
   "outputs": [
    {
     "data": {
      "text/html": [
       "<strong>png:</strong> 2"
      ],
      "text/latex": [
       "\\textbf{png:} 2"
      ],
      "text/markdown": [
       "**png:** 2"
      ],
      "text/plain": [
       "png \n",
       "  2 "
      ]
     },
     "metadata": {},
     "output_type": "display_data"
    }
   ],
   "source": [
    "# Display the correlation values within a heatmap plot\n",
    "options(repr.plot.width=16, repr.plot.height=8)\n",
    "png(sprintf(\"%s_ModuleTimePointPValsByCellType.png\", OUT), widt=1200, height=800)\n",
    "par(mar=c(10,6,4,1))\n",
    "textMatrix = paste(\n",
    "    signif(pval_df, 2), sep=\"\")\n",
    "dim(textMatrix) = dim(pval_df)\n",
    "labeledHeatmap(\n",
    "    Matrix=pval_df,\n",
    "    xLabels=colnames(pval_df),\n",
    "    yLabels=rownames(pval_df),\n",
    "    ySymbols=rownames(pval_df),\n",
    "    textMatrix=textMatrix,\n",
    "    colorLabels=FALSE,\n",
    "    cex.text=1.2,\n",
    "    cex.lab.x=1,\n",
    "    cex.lab.y=1,\n",
    "    zlim=c(0, 1),\n",
    "    main=paste(\"Module-time point relationships in different cell types\"),\n",
    ")\n",
    "dev.off()"
   ]
  },
  {
   "cell_type": "markdown",
   "id": "13ef6378-0f3f-44c5-a7b0-054b5623c505",
   "metadata": {},
   "source": [
    "---"
   ]
  },
  {
   "cell_type": "markdown",
   "id": "7c8c2c1d-d6ef-4114-9637-85b08be4f60c",
   "metadata": {},
   "source": [
    "# Scratch"
   ]
  }
 ],
 "metadata": {
  "kernelspec": {
   "display_name": "R 4.1.3 scverse",
   "language": "R",
   "name": "scverse-r413"
  },
  "language_info": {
   "codemirror_mode": "r",
   "file_extension": ".r",
   "mimetype": "text/x-r-source",
   "name": "R",
   "pygments_lexer": "r",
   "version": "4.1.3"
  }
 },
 "nbformat": 4,
 "nbformat_minor": 5
}
