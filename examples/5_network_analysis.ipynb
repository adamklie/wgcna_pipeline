{
 "cells": [
  {
   "cell_type": "markdown",
   "id": "0dce3bf2-8429-4bfc-9bf4-3b2d8dae7ba7",
   "metadata": {},
   "source": [
    "# High Dimensional Weighted Gene Correlation Network Analysis (hdWGCNA)"
   ]
  },
  {
   "cell_type": "markdown",
   "id": "79d7ab52-c635-4c90-8ace-527bf63b5c33",
   "metadata": {
    "tags": []
   },
   "source": [
    "**Authorship:**\n",
    "Adam Klie, *08/24/2022*\n",
    "***\n",
    "**Description:**\n",
    "Notebook to run a WGCNA on stimulated pancreatic islet multiome data (well just the RNA)\n",
    "***"
   ]
  },
  {
   "cell_type": "code",
   "execution_count": 1,
   "id": "50151234-61d5-41e1-8250-79bfdc4af1e5",
   "metadata": {
    "execution": {
     "iopub.execute_input": "2022-10-18T00:04:07.490051Z",
     "iopub.status.busy": "2022-10-18T00:04:07.486203Z",
     "iopub.status.idle": "2022-10-18T00:04:41.594052Z",
     "shell.execute_reply": "2022-10-18T00:04:41.591625Z"
    },
    "tags": []
   },
   "outputs": [
    {
     "name": "stderr",
     "output_type": "stream",
     "text": [
      "Attaching SeuratObject\n",
      "\n",
      "Attaching sp\n",
      "\n",
      "── \u001b[1mAttaching packages\u001b[22m ─────────────────────────────────────── tidyverse 1.3.1 ──\n",
      "\n",
      "\u001b[32m✔\u001b[39m \u001b[34mggplot2\u001b[39m 3.3.6     \u001b[32m✔\u001b[39m \u001b[34mpurrr  \u001b[39m 0.3.4\n",
      "\u001b[32m✔\u001b[39m \u001b[34mtibble \u001b[39m 3.1.7     \u001b[32m✔\u001b[39m \u001b[34mdplyr  \u001b[39m 1.0.9\n",
      "\u001b[32m✔\u001b[39m \u001b[34mtidyr  \u001b[39m 1.2.0     \u001b[32m✔\u001b[39m \u001b[34mstringr\u001b[39m 1.4.0\n",
      "\u001b[32m✔\u001b[39m \u001b[34mreadr  \u001b[39m 2.1.2     \u001b[32m✔\u001b[39m \u001b[34mforcats\u001b[39m 0.5.1\n",
      "\n",
      "── \u001b[1mConflicts\u001b[22m ────────────────────────────────────────── tidyverse_conflicts() ──\n",
      "\u001b[31m✖\u001b[39m \u001b[34mdplyr\u001b[39m::\u001b[32mfilter()\u001b[39m masks \u001b[34mstats\u001b[39m::filter()\n",
      "\u001b[31m✖\u001b[39m \u001b[34mdplyr\u001b[39m::\u001b[32mlag()\u001b[39m    masks \u001b[34mstats\u001b[39m::lag()\n",
      "\n",
      "\n",
      "Attaching package: ‘patchwork’\n",
      "\n",
      "\n",
      "The following object is masked from ‘package:cowplot’:\n",
      "\n",
      "    align_plots\n",
      "\n",
      "\n",
      "Loading required package: dynamicTreeCut\n",
      "\n",
      "Loading required package: fastcluster\n",
      "\n",
      "\n",
      "Attaching package: ‘fastcluster’\n",
      "\n",
      "\n",
      "The following object is masked from ‘package:stats’:\n",
      "\n",
      "    hclust\n",
      "\n",
      "\n",
      "\n",
      "\n",
      "\n",
      "Attaching package: ‘WGCNA’\n",
      "\n",
      "\n",
      "The following object is masked from ‘package:stats’:\n",
      "\n",
      "    cor\n",
      "\n",
      "\n",
      "\n",
      "Attaching package: ‘igraph’\n",
      "\n",
      "\n",
      "The following objects are masked from ‘package:dplyr’:\n",
      "\n",
      "    as_data_frame, groups, union\n",
      "\n",
      "\n",
      "The following objects are masked from ‘package:purrr’:\n",
      "\n",
      "    compose, simplify\n",
      "\n",
      "\n",
      "The following object is masked from ‘package:tidyr’:\n",
      "\n",
      "    crossing\n",
      "\n",
      "\n",
      "The following object is masked from ‘package:tibble’:\n",
      "\n",
      "    as_data_frame\n",
      "\n",
      "\n",
      "The following objects are masked from ‘package:stats’:\n",
      "\n",
      "    decompose, spectrum\n",
      "\n",
      "\n",
      "The following object is masked from ‘package:base’:\n",
      "\n",
      "    union\n",
      "\n",
      "\n"
     ]
    }
   ],
   "source": [
    "# single-cell analysis package\n",
    "library(Seurat)\n",
    "\n",
    "# plotting and data science packages\n",
    "library(tidyverse)\n",
    "library(cowplot)\n",
    "library(patchwork)\n",
    "\n",
    "# co-expression network analysis packages:\n",
    "library(WGCNA)\n",
    "library(hdWGCNA)\n",
    "\n",
    "# network analysis & visualization package:\n",
    "library(igraph)\n",
    "\n",
    "# using the cowplot theme for ggplot\n",
    "theme_set(theme_cowplot())\n",
    "\n",
    "# set random seed for reproducibility\n",
    "set.seed(12345)"
   ]
  },
  {
   "cell_type": "code",
   "execution_count": 3,
   "id": "c31e1ac8-1dd6-4fdb-b8b3-289ef8eac34c",
   "metadata": {
    "execution": {
     "iopub.execute_input": "2022-10-18T00:08:56.458262Z",
     "iopub.status.busy": "2022-10-18T00:08:56.456145Z",
     "iopub.status.idle": "2022-10-18T00:08:56.486823Z",
     "shell.execute_reply": "2022-10-18T00:08:56.484492Z"
    },
    "tags": []
   },
   "outputs": [],
   "source": [
    "# Parameters\n",
    "CELL.TYPES <- \"beta\"  # Meaning α, β, δ in this context\n",
    "ASSAY <- \"RNA\"\n",
    "NORMALIZATION <- \"ND\"\n",
    "NN <- 25\n",
    "GENES <- \"all\""
   ]
  },
  {
   "cell_type": "code",
   "execution_count": 4,
   "id": "4f8819e1-20e9-4184-815d-49588196e663",
   "metadata": {
    "execution": {
     "iopub.execute_input": "2022-10-18T00:08:57.956228Z",
     "iopub.status.busy": "2022-10-18T00:08:57.954083Z",
     "iopub.status.idle": "2022-10-18T00:08:57.986835Z",
     "shell.execute_reply": "2022-10-18T00:08:57.984542Z"
    },
    "tags": []
   },
   "outputs": [
    {
     "data": {
      "text/html": [
       "'./network_analysis/betacells_allgenes_ND_25neighbors'"
      ],
      "text/latex": [
       "'./network\\_analysis/betacells\\_allgenes\\_ND\\_25neighbors'"
      ],
      "text/markdown": [
       "'./network_analysis/betacells_allgenes_ND_25neighbors'"
      ],
      "text/plain": [
       "[1] \"./network_analysis/betacells_allgenes_ND_25neighbors\""
      ]
     },
     "metadata": {},
     "output_type": "display_data"
    }
   ],
   "source": [
    "# File names for saving\n",
    "NAME=paste0(CELL.TYPES, \"cells_\", GENES, \"genes_\", NORMALIZATION, \"_\", NN, \"neighbors\")\n",
    "OUT= file.path(\"./network_analysis\", NAME)\n",
    "OUT"
   ]
  },
  {
   "cell_type": "code",
   "execution_count": 5,
   "id": "fca7ce04-2c87-41df-ab89-e689a7bdd148",
   "metadata": {
    "execution": {
     "iopub.execute_input": "2022-10-18T00:08:58.956020Z",
     "iopub.status.busy": "2022-10-18T00:08:58.953887Z",
     "iopub.status.idle": "2022-10-18T00:10:47.078664Z",
     "shell.execute_reply": "2022-10-18T00:10:47.075245Z"
    },
    "tags": []
   },
   "outputs": [],
   "source": [
    "# load the preprocessed RDS from 1_network_construction.ipynb\n",
    "seurat_obj <- readRDS(sprintf('network_construction/%s_hdWGCNA.rds', NAME))"
   ]
  },
  {
   "cell_type": "code",
   "execution_count": 6,
   "id": "dd5b1b71-2f6b-454a-ac19-4a1cedde4dc2",
   "metadata": {
    "execution": {
     "iopub.execute_input": "2022-10-18T00:10:58.010029Z",
     "iopub.status.busy": "2022-10-18T00:10:58.007869Z",
     "iopub.status.idle": "2022-10-18T00:11:18.702007Z",
     "shell.execute_reply": "2022-10-18T00:11:18.700071Z"
    },
    "tags": []
   },
   "outputs": [
    {
     "name": "stdout",
     "output_type": "stream",
     "text": [
      "Writing output files to ./network_analysis"
     ]
    },
    {
     "name": "stderr",
     "output_type": "stream",
     "text": [
      "\u001b[1m\u001b[22mSelecting by kME_betacells_allgenes_ND_25neighbors-M1\n",
      "\u001b[1m\u001b[22mSelecting by kME_betacells_allgenes_ND_25neighbors-M2\n",
      "\u001b[1m\u001b[22mSelecting by kME_betacells_allgenes_ND_25neighbors-M3\n",
      "\u001b[1m\u001b[22mSelecting by kME_betacells_allgenes_ND_25neighbors-M4\n",
      "\u001b[1m\u001b[22mSelecting by kME_betacells_allgenes_ND_25neighbors-M5\n"
     ]
    },
    {
     "name": "stdout",
     "output_type": "stream",
     "text": [
      "[1] \"betacells_allgenes_ND_25neighbors-M1\"\n",
      "[1] \"betacells_allgenes_ND_25neighbors-M2\"\n",
      "[1] \"betacells_allgenes_ND_25neighbors-M3\"\n",
      "[1] \"betacells_allgenes_ND_25neighbors-M4\"\n",
      "[1] \"betacells_allgenes_ND_25neighbors-M5\"\n"
     ]
    }
   ],
   "source": [
    "ModuleNetworkPlot(\n",
    "    seurat_obj,\n",
    "    outdir=\"./network_analysis\"\n",
    ")"
   ]
  },
  {
   "cell_type": "code",
   "execution_count": 7,
   "id": "692b7eb9-c745-4a75-b2a7-afdddbe94246",
   "metadata": {
    "execution": {
     "iopub.execute_input": "2022-10-18T00:11:18.706153Z",
     "iopub.status.busy": "2022-10-18T00:11:18.704638Z",
     "iopub.status.idle": "2022-10-18T00:11:43.622325Z",
     "shell.execute_reply": "2022-10-18T00:11:43.620198Z"
    },
    "tags": []
   },
   "outputs": [
    {
     "name": "stderr",
     "output_type": "stream",
     "text": [
      "\u001b[1m\u001b[22mSelecting by kME_betacells_allgenes_ND_25neighbors-M1\n",
      "\u001b[1m\u001b[22mSelecting by kME_betacells_allgenes_ND_25neighbors-M2\n",
      "\u001b[1m\u001b[22mSelecting by kME_betacells_allgenes_ND_25neighbors-M3\n",
      "\u001b[1m\u001b[22mSelecting by kME_betacells_allgenes_ND_25neighbors-M4\n",
      "\u001b[1m\u001b[22mSelecting by kME_betacells_allgenes_ND_25neighbors-M5\n"
     ]
    },
    {
     "name": "stdout",
     "output_type": "stream",
     "text": [
      "\n",
      "                                grey betacells_allgenes_ND_25neighbors-M1 \n",
      "                                   5                                   15 \n",
      "betacells_allgenes_ND_25neighbors-M2 betacells_allgenes_ND_25neighbors-M3 \n",
      "                                  15                                   15 \n",
      "betacells_allgenes_ND_25neighbors-M4 betacells_allgenes_ND_25neighbors-M5 \n",
      "                                  15                                   15 \n",
      "[1] \"turquoise\" \"grey90\"    \"blue\"      \"brown\"     \"green\"     \"yellow\"   \n",
      "[1] \"here\"\n",
      "[1] 1554    4\n"
     ]
    },
    {
     "data": {
      "text/html": [
       "<strong>png:</strong> 2"
      ],
      "text/latex": [
       "\\textbf{png:} 2"
      ],
      "text/markdown": [
       "**png:** 2"
      ],
      "text/plain": [
       "png \n",
       "  2 "
      ]
     },
     "metadata": {},
     "output_type": "display_data"
    }
   ],
   "source": [
    "# hubgene network\n",
    "options(repr.plot.width=12, repr.plot.height=12)\n",
    "png(sprintf(\"%s_HubGeneNetworkPlot.png\", OUT), widt=1600, height=1600)\n",
    "HubGeneNetworkPlot(\n",
    "  seurat_obj,\n",
    "  n_hubs = 10, n_other=5,\n",
    "  edge_prop = 0.75,\n",
    "  mods = 'all'\n",
    ")\n",
    "dev.off()"
   ]
  },
  {
   "cell_type": "code",
   "execution_count": 8,
   "id": "21bab82b-f0c0-4abd-b9d7-7c01c5488a6d",
   "metadata": {
    "execution": {
     "iopub.execute_input": "2022-10-18T00:11:43.627303Z",
     "iopub.status.busy": "2022-10-18T00:11:43.625443Z",
     "iopub.status.idle": "2022-10-18T00:12:16.698234Z",
     "shell.execute_reply": "2022-10-18T00:12:16.695762Z"
    },
    "tags": []
   },
   "outputs": [
    {
     "name": "stderr",
     "output_type": "stream",
     "text": [
      "\u001b[1m\u001b[22mSelecting by kME_betacells_allgenes_ND_25neighbors-M1\n",
      "\u001b[1m\u001b[22mSelecting by kME_betacells_allgenes_ND_25neighbors-M2\n",
      "\u001b[1m\u001b[22mSelecting by kME_betacells_allgenes_ND_25neighbors-M3\n",
      "\u001b[1m\u001b[22mSelecting by kME_betacells_allgenes_ND_25neighbors-M4\n",
      "\u001b[1m\u001b[22mSelecting by kME_betacells_allgenes_ND_25neighbors-M5\n"
     ]
    }
   ],
   "source": [
    "seurat_obj <- RunModuleUMAP(\n",
    "  seurat_obj,\n",
    "  n_hubs = 10, # number of hub genes to include for the UMAP embedding\n",
    "  n_neighbors=15, # neighbors parameter for UMAP\n",
    "  min_dist=0.1 # min distance between points in UMAP space\n",
    ")"
   ]
  },
  {
   "cell_type": "code",
   "execution_count": 9,
   "id": "e5d81ce2-3c31-4181-a184-8a93002be571",
   "metadata": {
    "execution": {
     "iopub.execute_input": "2022-10-18T00:12:16.703270Z",
     "iopub.status.busy": "2022-10-18T00:12:16.701408Z",
     "iopub.status.idle": "2022-10-18T00:12:16.721031Z",
     "shell.execute_reply": "2022-10-18T00:12:16.719044Z"
    },
    "tags": []
   },
   "outputs": [],
   "source": [
    "# get the hub gene UMAP table from the seurat object\n",
    "umap_df <- GetModuleUMAP(seurat_obj)"
   ]
  },
  {
   "cell_type": "code",
   "execution_count": 10,
   "id": "ef078752-6d91-407c-a52b-36165107858c",
   "metadata": {
    "execution": {
     "iopub.execute_input": "2022-10-18T00:12:16.725423Z",
     "iopub.status.busy": "2022-10-18T00:12:16.723828Z",
     "iopub.status.idle": "2022-10-18T00:12:17.229248Z",
     "shell.execute_reply": "2022-10-18T00:12:17.227248Z"
    },
    "tags": []
   },
   "outputs": [
    {
     "data": {
      "text/html": [
       "<strong>png:</strong> 2"
      ],
      "text/latex": [
       "\\textbf{png:} 2"
      ],
      "text/markdown": [
       "**png:** 2"
      ],
      "text/plain": [
       "png \n",
       "  2 "
      ]
     },
     "metadata": {},
     "output_type": "display_data"
    }
   ],
   "source": [
    "# plot with ggplot\n",
    "options(repr.plot.width=12, repr.plot.height=12)\n",
    "png(sprintf(\"%s_HubGeneUMAPPlot.png\", OUT), widt=1600, height=1600)\n",
    "ggplot(umap_df, aes(x=UMAP1, y=UMAP2)) +\n",
    "  geom_point(\n",
    "   color=umap_df$color, # color each point by WGCNA module\n",
    "   size=umap_df$kME*2 # size of each point based on intramodular connectivity\n",
    "  ) +\n",
    "  umap_theme()\n",
    "dev.off()"
   ]
  },
  {
   "cell_type": "code",
   "execution_count": 11,
   "id": "0f07b115-1a14-45e3-bae0-1201380f227e",
   "metadata": {
    "execution": {
     "iopub.execute_input": "2022-10-18T00:12:17.233738Z",
     "iopub.status.busy": "2022-10-18T00:12:17.232094Z",
     "iopub.status.idle": "2022-10-18T00:14:35.345238Z",
     "shell.execute_reply": "2022-10-18T00:14:35.342835Z"
    },
    "tags": []
   },
   "outputs": [
    {
     "name": "stderr",
     "output_type": "stream",
     "text": [
      "\u001b[1m\u001b[22mSelecting by kME_betacells_allgenes_ND_25neighbors-M1\n",
      "\u001b[1m\u001b[22mSelecting by kME_betacells_allgenes_ND_25neighbors-M2\n",
      "\u001b[1m\u001b[22mSelecting by kME_betacells_allgenes_ND_25neighbors-M3\n",
      "\u001b[1m\u001b[22mSelecting by kME_betacells_allgenes_ND_25neighbors-M4\n",
      "\u001b[1m\u001b[22mSelecting by kME_betacells_allgenes_ND_25neighbors-M5\n"
     ]
    },
    {
     "name": "stdout",
     "output_type": "stream",
     "text": [
      "[1] \"hub labels\"\n",
      " [1] \"TRERF1\"   \"EPB41L1\"  \"KCNH7\"    \"UNC5D\"    \"ETV1\"     \"ROR2\"    \n",
      " [7] \"PDLIM5\"   \"ARHGEF28\" \"SGCD\"     \"HS3ST5\"  \n",
      "NULL\n",
      " [1] \"TRERF1\"   \"EPB41L1\"  \"KCNH7\"    \"UNC5D\"    \"ETV1\"     \"ROR2\"    \n",
      " [7] \"PDLIM5\"   \"ARHGEF28\" \"SGCD\"     \"HS3ST5\"  \n",
      "[1] 327500      3\n",
      "[1] 6550    4\n",
      "[1] \"making net\"\n",
      "\u001b[90m# A tibble: 6 × 5\u001b[39m\n",
      "\u001b[90m# Groups:   color [4]\u001b[39m\n",
      "  Var1    Var2    value color     color_alpha\n",
      "  \u001b[3m\u001b[90m<fct>\u001b[39m\u001b[23m   \u001b[3m\u001b[90m<fct>\u001b[39m\u001b[23m   \u001b[3m\u001b[90m<dbl>\u001b[39m\u001b[23m \u001b[3m\u001b[90m<chr>\u001b[39m\u001b[23m     \u001b[3m\u001b[90m<chr>\u001b[39m\u001b[23m      \n",
      "\u001b[90m1\u001b[39m CADM1   CADM1       0 blue      #0000FF00  \n",
      "\u001b[90m2\u001b[39m EFNA5   EFNA5       0 blue      #0000FF00  \n",
      "\u001b[90m3\u001b[39m ETV1    ETV1        0 brown     #A52A2A00  \n",
      "\u001b[90m4\u001b[39m ADAMTS2 ADAMTS2     0 turquoise #40E0D000  \n",
      "\u001b[90m5\u001b[39m UBAP2L  UBAP2L      0 turquoise #40E0D000  \n",
      "\u001b[90m6\u001b[39m ADCY2   ADCY2       0 yellow    #FFFF0000  \n",
      "            gene_name                               module     color   kME_grey\n",
      "LINC01128   LINC01128 betacells_allgenes_ND_25neighbors-M1 turquoise 0.12696136\n",
      "SAMD11         SAMD11 betacells_allgenes_ND_25neighbors-M1 turquoise 0.13351788\n",
      "NOC2L           NOC2L betacells_allgenes_ND_25neighbors-M1 turquoise 0.07246652\n",
      "AGRN             AGRN betacells_allgenes_ND_25neighbors-M1 turquoise 0.11104950\n",
      "C1orf159     C1orf159 betacells_allgenes_ND_25neighbors-M1 turquoise 0.17288954\n",
      "AL390719.2 AL390719.2 betacells_allgenes_ND_25neighbors-M1 turquoise 0.08850812\n",
      "           kME_betacells_allgenes_ND_25neighbors-M1\n",
      "LINC01128                               -0.03847043\n",
      "SAMD11                                  -0.03151084\n",
      "NOC2L                                   -0.01609111\n",
      "AGRN                                    -0.05640015\n",
      "C1orf159                                -0.09338360\n",
      "AL390719.2                              -0.07244998\n",
      "           kME_betacells_allgenes_ND_25neighbors-M2\n",
      "LINC01128                                0.03889360\n",
      "SAMD11                                   0.04991408\n",
      "NOC2L                                    0.01092801\n",
      "AGRN                                    -0.01118485\n",
      "C1orf159                                -0.03455802\n",
      "AL390719.2                              -0.03273155\n",
      "           kME_betacells_allgenes_ND_25neighbors-M3\n",
      "LINC01128                               -0.01134571\n",
      "SAMD11                                  -0.09516034\n",
      "NOC2L                                   -0.02533291\n",
      "AGRN                                    -0.03130369\n",
      "C1orf159                                -0.02701355\n",
      "AL390719.2                              -0.01956225\n",
      "           kME_betacells_allgenes_ND_25neighbors-M4\n",
      "LINC01128                                0.04271950\n",
      "SAMD11                                  -0.12148682\n",
      "NOC2L                                   -0.02473053\n",
      "AGRN                                    -0.05214087\n",
      "C1orf159                                -0.06209958\n",
      "AL390719.2                              -0.06723702\n",
      "           kME_betacells_allgenes_ND_25neighbors-M5    UMAP1      UMAP2   hub\n",
      "LINC01128                               -0.07873651 4.165822  3.5029459 other\n",
      "SAMD11                                  -0.13311908 3.301699  1.9847721 other\n",
      "NOC2L                                   -0.05995336 3.312738 -2.7096450 other\n",
      "AGRN                                    -0.09816540 5.480457  1.7792822 other\n",
      "C1orf159                                -0.14426726 7.034884  6.2358885 other\n",
      "AL390719.2                              -0.08686925 5.283166  0.3280728 other\n",
      "                 kME label fontcolor framecolor\n",
      "LINC01128  0.6933804           black  turquoise\n",
      "SAMD11     0.7016244           black  turquoise\n",
      "NOC2L      0.7198899           black  turquoise\n",
      "AGRN       0.6721417           black  turquoise\n",
      "C1orf159   0.6283328           black  turquoise\n",
      "AL390719.2 0.6531298           black  turquoise\n"
     ]
    },
    {
     "data": {
      "text/html": [
       "<strong>png:</strong> 2"
      ],
      "text/latex": [
       "\\textbf{png:} 2"
      ],
      "text/markdown": [
       "**png:** 2"
      ],
      "text/plain": [
       "png \n",
       "  2 "
      ]
     },
     "metadata": {},
     "output_type": "display_data"
    }
   ],
   "source": [
    "options(repr.plot.width=12, repr.plot.height=12)\n",
    "png(sprintf(\"%s_HubGeneModuleUMAPPlot.png\", OUT), widt=1600, height=1600)\n",
    "ModuleUMAPPlot(\n",
    "  seurat_obj,\n",
    "  edge.alpha=0.25,\n",
    "  sample_edges=TRUE,\n",
    "  edge_prop=0.1, # proportion of edges to sample (20% here)\n",
    "  label_hubs=2 ,# how many hub genes to plot per module?\n",
    "  keep_grey_edges=FALSE\n",
    ")\n",
    "dev.off()"
   ]
  },
  {
   "cell_type": "markdown",
   "id": "fede3a47-4a3b-4a3d-bda1-3f889dbc2298",
   "metadata": {},
   "source": [
    "---"
   ]
  },
  {
   "cell_type": "markdown",
   "id": "6e9c8ffc-895c-4639-9e73-981adc9f97fc",
   "metadata": {},
   "source": [
    "# Scratch"
   ]
  }
 ],
 "metadata": {
  "kernelspec": {
   "display_name": "R 4.1.3 scverse",
   "language": "R",
   "name": "scverse-r413"
  },
  "language_info": {
   "codemirror_mode": "r",
   "file_extension": ".r",
   "mimetype": "text/x-r-source",
   "name": "R",
   "pygments_lexer": "r",
   "version": "4.1.3"
  }
 },
 "nbformat": 4,
 "nbformat_minor": 5
}
